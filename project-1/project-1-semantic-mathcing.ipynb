{
 "cells": [
  {
   "cell_type": "markdown",
   "metadata": {
    "id": "FiGfNXi5NyZo"
   },
   "source": [
    "# Assignment 1 <a class=\"anchor\" id=\"top\"></a>\n",
    "\n",
    "**Learning Goals**:\n",
    "- [Part 1, Term-based matching](#part1) :\n",
    "    - Learn how to load a dataset and process it.\n",
    "    - Learn how to implement several standard IR methods (TF-IDF, BM25, QL) and understand their weaknesses & strengths.\n",
    "    - Learn how to evaluate IR methods.\n",
    "- [Part 2, Semantic-based matching](#part2) :\n",
    "    - Learn how to implement vector-space retrieval methods (LSI, LDA).\n",
    "    - Learn how to use LSI and LDA for re-ranking\n",
    "\n"
   ]
  },
  {
   "cell_type": "code",
   "execution_count": 1,
   "metadata": {
    "id": "Q7PvvgOxNyZt"
   },
   "outputs": [],
   "source": [
    "# imports \n",
    "\n",
    "import os\n",
    "import zipfile\n",
    "from functools import partial\n",
    "\n",
    "import nltk\n",
    "import requests\n",
    "import numpy as np\n",
    "from tqdm import tqdm\n",
    "\n",
    "import matplotlib.pyplot as plt\n",
    "from matplotlib.pyplot import cm\n",
    "\n",
    "from ipywidgets import widgets\n",
    "from IPython.display import display, HTML\n",
    "#from IPython.html import widgets\n",
    "from collections import namedtuple\n",
    "\n",
    "%matplotlib inline"
   ]
  },
  {
   "cell_type": "markdown",
   "metadata": {
    "id": "SBIZ8jJvNyZt"
   },
   "source": [
    "\n",
    "# Part 1: Term-based Matching (175 points) <a class=\"anchor\" id=\"part1\"></a>\n",
    "\n",
    "[Back to top](#top)\n",
    "\n",
    "In the first part, we will learn the basics of IR from loading and preprocessing the material, to implementing some well known search algorithms, to evaluating the ranking performance of the implemented algorithms. We will be using the CACM dataset throughout the assignment. The CACM dataset is a collection of titles and abstracts from the journal CACM (Communication of the ACM).\n",
    "\n",
    "Table of contents:\n",
    "- [Section 1: Text Processing](#text_processing) (15 points)\n",
    "- [Section 2: Indexing](#indexing) (10 points)\n",
    "- [Section 3: Ranking](#ranking) (80 points)\n",
    "- [Section 4: Evaluation](#evaluation) (40 points)\n",
    "- [Section 5: Analysis](#analysis) (30 points)\n"
   ]
  },
  {
   "cell_type": "markdown",
   "metadata": {
    "id": "_XGG24qFNyZu"
   },
   "source": [
    "---\n",
    "## Section 1: Text Processing (15 points)<a class=\"anchor\" id=\"text_processing\"></a>\n",
    "\n",
    "[Back to Part 1](#part1)\n",
    "\n",
    "In this section, we will load the dataset and learn how to clean up the data to make it usable for an IR system. \n",
    "The points of this section are earned for the following implementations:\n",
    "- `read_cacm_docs` (4 points): Reads in the CACM documents.\n",
    "- `read_queries` (3 points): Reads in the CACM queries.\n",
    "- `load_stopwords` (1 point): Loads the stopwords.\n",
    "- `tokenize` (4 points): Tokenizes the input text.\n",
    "- `stem_token` (3 points): Stems the given token. \n",
    "\n",
    "We are using the [CACM dataset](http://ir.dcs.gla.ac.uk/resources/test_collections/cacm/), which is a small, classic IR dataset, composed of a collection of titles and abstracts from the journal CACM. It comes with relevance judgements for queries, so we can evaluate our IR system. \n"
   ]
  },
  {
   "cell_type": "markdown",
   "metadata": {
    "id": "7LQKB_doNyZu"
   },
   "source": [
    "---\n",
    "### 1.1 Read the CACM documents (4 points)\n",
    "\n",
    "\n",
    "The following cell downloads the dataset and unzips it to a local directory."
   ]
  },
  {
   "cell_type": "code",
   "execution_count": 2,
   "metadata": {
    "id": "Ctsu83FoNyZu"
   },
   "outputs": [],
   "source": [
    "def download_dataset():\n",
    "    folder_path = os.environ.get(\"IR1_DATA_PATH\")\n",
    "    if not folder_path:\n",
    "        folder_path = \"./datasets/\"\n",
    "    os.makedirs(folder_path, exist_ok=True)\n",
    "    \n",
    "    file_location = os.path.join(folder_path, \"cacm.zip\")\n",
    "    \n",
    "    # download file if it doesn't exist\n",
    "    if not os.path.exists(file_location):\n",
    "        \n",
    "        url = \"https://surfdrive.surf.nl/files/index.php/s/M0FGJpX2p8wDwxR/download\"\n",
    "\n",
    "        with open(file_location, \"wb\") as handle:\n",
    "            print(f\"Downloading file from {url} to {file_location}\")\n",
    "            response = requests.get(url, stream=True)\n",
    "            for data in tqdm(response.iter_content()):\n",
    "                handle.write(data)\n",
    "            print(\"Finished downloading file\")\n",
    "    \n",
    "    if not os.path.exists(os.path.join(folder_path, \"train.txt\")):\n",
    "        \n",
    "        # unzip file\n",
    "        with zipfile.ZipFile(file_location, 'r') as zip_ref:\n",
    "            zip_ref.extractall(folder_path)\n",
    "        \n",
    "download_dataset()"
   ]
  },
  {
   "cell_type": "markdown",
   "metadata": {
    "id": "7E2hvfPkNyZv"
   },
   "source": [
    "---\n",
    "\n",
    "You can see a brief description of each file in the dataset by looking at the README file:"
   ]
  },
  {
   "cell_type": "code",
   "execution_count": 3,
   "metadata": {
    "colab": {
     "base_uri": "https://localhost:8080/"
    },
    "id": "k7Lu3r6vNyZv",
    "outputId": "0ba7e70d-2b88-425f-927b-2584cc4a3772"
   },
   "outputs": [
    {
     "name": "stdout",
     "output_type": "stream",
     "text": [
      "Files in this directory with sizes:\r\n",
      "          0 Jun 19 21:01 README\r\n",
      "\r\n",
      "    2187734 Jun 19 20:55 cacm.all              text of documents\r\n",
      "        626 Jun 19 20:58 cite.info             key to citation info\r\n",
      "                                                (the X sections in cacm.all)\r\n",
      "       2668 Jun 19 20:55 common_words           stop words used by smart\r\n",
      "       2194 Jun 19 20:55 make_coll*             shell script to make collection\r\n",
      "       1557 Jun 19 20:55 make_coll_term*        ditto (both useless without\r\n",
      "                                                smart system)\r\n",
      "       9948 Jun 19 20:55 qrels.text             relation giving\r\n",
      "                                                    qid did 0 0\r\n",
      "                                                to indicate dument did is\r\n",
      "                                                relevant to query qid\r\n",
      "      13689 Jun 19 20:55 query.text             Original text of the query\r\n"
     ]
    }
   ],
   "source": [
    "##### Read the README file \n",
    "!cat ./datasets/README\n",
    "#####"
   ]
  },
  {
   "cell_type": "markdown",
   "metadata": {
    "id": "Kasnyt9TNyZv"
   },
   "source": [
    "---\n",
    "We are interested in 4 files:\n",
    "- `cacm.all` : Contains the text for all documents. Note that some documents do not have abstracts available. \n",
    "- `query.text` : The text of all queries\n",
    "- `qrels.text` : The relevance judgements\n",
    "- `common_words` : A list of common words. This may be used as a collection of stopwords"
   ]
  },
  {
   "cell_type": "code",
   "execution_count": 4,
   "metadata": {
    "colab": {
     "base_uri": "https://localhost:8080/"
    },
    "id": "S2mi5th9NyZv",
    "outputId": "1fbb1bcb-dfd5-4080-e7f8-71c71caa319e"
   },
   "outputs": [
    {
     "name": "stdout",
     "output_type": "stream",
     "text": [
      ".I 1\r\n",
      ".T\r\n",
      "Preliminary Report-International Algebraic Language\r\n",
      ".B\r\n",
      "CACM December, 1958\r\n",
      ".A\r\n",
      "Perlis, A. J.\r\n",
      "Samelson,K.\r\n",
      ".N\r\n",
      "CA581203 JB March 22, 1978  8:28 PM\r\n",
      ".X\r\n",
      "100\t5\t1\r\n",
      "123\t5\t1\r\n",
      "164\t5\t1\r\n",
      "1\t5\t1\r\n",
      "1\t5\t1\r\n",
      "1\t5\t1\r\n",
      "205\t5\t1\r\n",
      "210\t5\t1\r\n",
      "214\t5\t1\r\n",
      "1982\t5\t1\r\n",
      "398\t5\t1\r\n",
      "642\t5\t1\r\n",
      "669\t5\t1\r\n",
      "1\t6\t1\r\n",
      "1\t6\t1\r\n",
      "1\t6\t1\r\n",
      "1\t6\t1\r\n",
      "1\t6\t1\r\n",
      "1\t6\t1\r\n",
      "1\t6\t1\r\n",
      "1\t6\t1\r\n",
      "1\t6\t1\r\n",
      "1\t6\t1\r\n",
      "165\t6\t1\r\n",
      "196\t6\t1\r\n",
      "196\t6\t1\r\n",
      "1273\t6\t1\r\n",
      "1883\t6\t1\r\n",
      "324\t6\t1\r\n",
      "43\t6\t1\r\n",
      "53\t6\t1\r\n",
      "91\t6\t1\r\n",
      "410\t6\t1\r\n",
      "3184\t6\t1\r\n"
     ]
    }
   ],
   "source": [
    "##### The first 45 lines of the CACM dataset forms the first record\n",
    "# We are interested only in 3 fields. \n",
    "# 1. the '.I' field, which is the document id\n",
    "# 2. the '.T' field (the title) and\n",
    "# 3. the '.W' field (the abstract, which may be absent)\n",
    "!head -45 ./datasets/cacm.all\n",
    "#####"
   ]
  },
  {
   "cell_type": "markdown",
   "metadata": {
    "id": "kH2JnQtuNyZv"
   },
   "source": [
    "---\n",
    "\n",
    "**Implementation (4 points):**\n",
    "Write a function to read the `cacm.all` file. Note that each document has a variable number of lines. The `.I` field denotes a new document:"
   ]
  },
  {
   "cell_type": "code",
   "execution_count": 5,
   "metadata": {
    "id": "TPLms_FqNyZw"
   },
   "outputs": [],
   "source": [
    "# TODO: Implement this! (4 points)\n",
    "def read_cacm_docs(root_folder = \"./datasets/\"):\n",
    "    \"\"\"\n",
    "        Reads in the CACM documents. The dataset is assumed to be in the folder \"./datasets/\" by default\n",
    "        Returns: A list of 2-tuples: (doc_id, document), where 'document' is a single string created by \n",
    "            appending the title and abstract (separated by a \"\\n\"). \n",
    "            In case the record doesn't have an abstract, the document is composed only by the title\n",
    "    \"\"\"\n",
    "    # YOUR CODE HERE\n",
    "\n",
    "    file_dir = root_folder + \"cacm.all\"\n",
    "    keeping = False\n",
    "    temp = \"\"\n",
    "    doc_list =[]\n",
    "\n",
    "    with open(file_dir) as cacm_file:\n",
    "        for line in cacm_file:\n",
    "            line_begin = line[0:2]\n",
    "\n",
    "            if line_begin == \".I\":\n",
    "                doc_index = line.split(\" \")[1].replace(\"\\n\",\"\")\n",
    "                temp = \"\"\n",
    "\n",
    "            elif line_begin == \".T\":\n",
    "                keeping = True\n",
    "\n",
    "            elif line_begin == \".W\":\n",
    "                keeping = True\n",
    "                temp += \"\\n \"\n",
    "\n",
    "            elif line_begin in ['.B', '.A', '.N', '.K']:\n",
    "                keeping = False\n",
    "\n",
    "            elif (line_begin not in ['.I', '.T', '.W', '.B', '.A', '.N', '.X', '.K']):\n",
    "                if keeping:\n",
    "                    temp += line\n",
    "            else:\n",
    "                doc_list.append((doc_index, temp))\n",
    "                keeping = False\n",
    "\n",
    "    return doc_list\n",
    "\n",
    "    #raise NotImplementedError()"
   ]
  },
  {
   "cell_type": "code",
   "execution_count": 6,
   "metadata": {
    "id": "fpnq3OA0NyZw"
   },
   "outputs": [],
   "source": [
    "##### Function check\n",
    "docs = read_cacm_docs()\n",
    "\n",
    "assert isinstance(docs, list)\n",
    "assert len(docs) == 3204, \"There should be exactly 3204 documents\"\n",
    "##### "
   ]
  },
  {
   "cell_type": "markdown",
   "metadata": {
    "id": "l8dv6KuENyZw"
   },
   "source": [
    "---\n",
    "### 1.2 Read the CACM queries (3 points)\n",
    "\n",
    "Next, let us read the queries. They are formatted similarly:"
   ]
  },
  {
   "cell_type": "code",
   "execution_count": 7,
   "metadata": {
    "colab": {
     "base_uri": "https://localhost:8080/"
    },
    "id": "Ww0vI5wONyZw",
    "outputId": "a1f3b68e-89e4-4390-d0a1-836a19b878c0"
   },
   "outputs": [
    {
     "name": "stdout",
     "output_type": "stream",
     "text": [
      ".I 1\r\n",
      ".W\r\n",
      " What articles exist which deal with TSS (Time Sharing System), an\r\n",
      "operating system for IBM computers?\r\n",
      ".N\r\n",
      " 1. Richard Alexander, Comp Serv, Langmuir Lab (TSS)\r\n",
      " \r\n",
      ".I 2\r\n",
      ".W\r\n",
      " I am interested in articles written either by Prieve or Udo Pooch\r\n",
      ".A\r\n",
      "Prieve, B.\r\n",
      "Pooch, U.\r\n",
      ".N\r\n",
      " 2. Richard Alexander, Comp Serv, Langmuir Lab (author = Pooch or Prieve)\r\n"
     ]
    }
   ],
   "source": [
    "##### The first 15 lines of 'query.text' has 2 queries\n",
    "# We are interested only in 2 fields. \n",
    "# 1. the '.I' - the query id\n",
    "# 2. the '.W' - the query\n",
    "!head -15 ./datasets/query.text\n",
    "#####"
   ]
  },
  {
   "cell_type": "markdown",
   "metadata": {
    "id": "rHUzDw3mNyZw"
   },
   "source": [
    "---\n",
    "\n",
    "**Implementation (3 points):**\n",
    "Write a function to read the `query.text` file:"
   ]
  },
  {
   "cell_type": "code",
   "execution_count": 8,
   "metadata": {
    "id": "HehAkHVFNyZw"
   },
   "outputs": [],
   "source": [
    "# TODO: Implement this! (3 points)\n",
    "def read_queries(root_folder = \"./datasets/\"):\n",
    "    \"\"\"\n",
    "        Reads in the CACM queries. The dataset is assumed to be in the folder \"./datasets/\" by default\n",
    "        Returns: A list of 2-tuples: (query_id, query)\n",
    "    \"\"\"\n",
    "    # YOUR CODE HERE\n",
    "    \n",
    "    file_dir = root_folder + \"query.text\"\n",
    "    keeping = False\n",
    "    temp = \"\"\n",
    "    query_list =[]\n",
    "\n",
    "    with open(file_dir, \"r\") as query_file:\n",
    "        for line in query_file:\n",
    "            line_begin = line[0:2]\n",
    "\n",
    "            if line_begin == \".I\":\n",
    "                doc_index = line.split(\" \")[1].replace(\"\\n\",\"\")\n",
    "                temp = \"\"\n",
    "\n",
    "            elif line_begin == \".W\":\n",
    "                keeping = True   \n",
    "\n",
    "            elif line_begin == \".A\":\n",
    "                keeping = False\n",
    "\n",
    "            elif (line_begin not in ['.I', '.T', '.W', '.B', '.A', '.N', '.X', '.K']):\n",
    "                if keeping:\n",
    "                    temp += line\n",
    "            else:\n",
    "                query_list.append((doc_index, temp))\n",
    "                keeping = False\n",
    "                \n",
    "    return query_list\n",
    "    #raise NotImplementedError()\n"
   ]
  },
  {
   "cell_type": "code",
   "execution_count": 9,
   "metadata": {
    "id": "XevQAbfqNyZx"
   },
   "outputs": [],
   "source": [
    "##### Function check\n",
    "queries = read_queries()\n",
    "\n",
    "assert isinstance(queries, list)\n",
    "assert len(queries) == 64 and all([q[1] is not None for q in queries]), \"There should be exactly 64 queries\"\n",
    "##### "
   ]
  },
  {
   "cell_type": "markdown",
   "metadata": {
    "id": "dpwioABnNyZx"
   },
   "source": [
    "---\n",
    "### 1.3 Read the stop words (1 point)\n",
    "\n",
    "We use the common words stored in `common_words`:"
   ]
  },
  {
   "cell_type": "code",
   "execution_count": 10,
   "metadata": {
    "colab": {
     "base_uri": "https://localhost:8080/"
    },
    "id": "UzYsdRJNNyZx",
    "outputId": "9111f8b7-8780-490c-939d-644b651848b3"
   },
   "outputs": [
    {
     "name": "stdout",
     "output_type": "stream",
     "text": [
      "a\r\n",
      "about\r\n",
      "above\r\n",
      "accordingly\r\n",
      "across\r\n",
      "after\r\n",
      "afterwards\r\n",
      "again\r\n",
      "against\r\n",
      "all\r\n"
     ]
    }
   ],
   "source": [
    "##### Read the stop words file \n",
    "!head ./datasets/common_words\n",
    "##### Read the README file "
   ]
  },
  {
   "cell_type": "markdown",
   "metadata": {
    "id": "1yNzHW9HNyZy"
   },
   "source": [
    "---\n",
    "**Implementation (1 point):**\n",
    "Write a function to read the `common_words` file (For better coverage, try to keep them in lowercase):"
   ]
  },
  {
   "cell_type": "code",
   "execution_count": 11,
   "metadata": {
    "id": "NmTFHQ0nNyZy"
   },
   "outputs": [],
   "source": [
    "# TODO: Implement this! (1 point)\n",
    "def load_stopwords(root_folder = \"./datasets/\"):\n",
    "    \"\"\"\n",
    "        Loads the stopwords. The dataset is assumed to be in the folder \"./datasets/\" by default\n",
    "        Output: A set of stopwords\n",
    "    \"\"\"\n",
    "    # YOUR CODE HERE\n",
    "    file_dir = root_folder + \"common_words\"\n",
    "\n",
    "    with open(file_dir , 'r') as f:\n",
    "        stopwords = [line.strip() for line in f]\n",
    "        \n",
    "    return set(stopwords)\n",
    "    #raise NotImplementedError()\n"
   ]
  },
  {
   "cell_type": "code",
   "execution_count": 12,
   "metadata": {
    "id": "n-0eNzQWNyZy"
   },
   "outputs": [],
   "source": [
    "##### Function check\n",
    "stopwords = load_stopwords()\n",
    "\n",
    "assert isinstance(stopwords, set)\n",
    "assert len(stopwords) == 428, \"There should be exactly 428 stop words\"\n",
    "##### "
   ]
  },
  {
   "cell_type": "markdown",
   "metadata": {
    "id": "xM_ZZUuaNyZy"
   },
   "source": [
    "---\n",
    "### 1.4 Tokenization (4 points)\n",
    "\n",
    "We can now write some basic text processing functions. \n",
    "A first step is to tokenize the text. \n",
    "\n",
    "**Note**: Use the  `WordPunctTokenizer` available in the `nltk` library:"
   ]
  },
  {
   "cell_type": "code",
   "execution_count": 13,
   "metadata": {
    "id": "P6D4UbG6NyZy"
   },
   "outputs": [],
   "source": [
    "# TODO: Implement this! (4 points)\n",
    "def tokenize(text):\n",
    "    \"\"\"\n",
    "        Tokenizes the input text. Use the WordPunctTokenizer\n",
    "        Input: text - a string\n",
    "        Output: a list of tokens\n",
    "    \"\"\"\n",
    "    # YOUR CODE HERE\n",
    "    tokenized = nltk.WordPunctTokenizer().tokenize(text)\n",
    "    return tokenized\n",
    "    \n",
    "    #raise NotImplementedError()"
   ]
  },
  {
   "cell_type": "code",
   "execution_count": 14,
   "metadata": {
    "colab": {
     "base_uri": "https://localhost:8080/"
    },
    "id": "3R2x7mnvNyZz",
    "outputId": "baac142d-9954-47ae-930e-646d2d8ac47a"
   },
   "outputs": [
    {
     "name": "stdout",
     "output_type": "stream",
     "text": [
      "['the', 'quick', 'brown', 'fox', 'jumps', 'over', 'the', 'lazy', 'dog']\n"
     ]
    }
   ],
   "source": [
    "##### Function check\n",
    "text = \"the quick brown fox jumps over the lazy dog\"\n",
    "tokens = tokenize(text)\n",
    "\n",
    "assert isinstance(tokens, list)\n",
    "assert len(tokens) == 9\n",
    "\n",
    "print(tokens)\n",
    "# output: ['the', 'quick', 'brown', 'fox', 'jumps', 'over', 'the', 'lazy', 'dog']\n",
    "#####"
   ]
  },
  {
   "cell_type": "markdown",
   "metadata": {
    "id": "3D0FvgyDNyZz"
   },
   "source": [
    "---\n",
    "### 1.5 Stemming (3 points)\n",
    "\n",
    "Write a function to stem tokens. \n",
    "Again, you can use the nltk library for this:"
   ]
  },
  {
   "cell_type": "code",
   "execution_count": 15,
   "metadata": {
    "id": "aDdJ3Y57NyZz"
   },
   "outputs": [],
   "source": [
    "# TODO: Implement this! (3 points)\n",
    "def stem_token(token):\n",
    "    \"\"\"\n",
    "        Stems the given token using the PorterStemmer from the nltk library\n",
    "        Input: a single token\n",
    "        Output: the stem of the token\n",
    "    \"\"\"\n",
    "    # YOUR CODE HERE\n",
    "    ps = nltk.stem.PorterStemmer() \n",
    "    return ps.stem(token)\n",
    "    \n",
    "    #raise NotImplementedError()"
   ]
  },
  {
   "cell_type": "code",
   "execution_count": 16,
   "metadata": {
    "id": "8RztVmfDNyZz"
   },
   "outputs": [],
   "source": [
    "##### Function check\n",
    "\n",
    "assert stem_token('owned') == 'own'\n",
    "assert stem_token('itemization') == 'item'\n",
    "#####"
   ]
  },
  {
   "cell_type": "markdown",
   "metadata": {
    "id": "vrCOvJIHNyZz"
   },
   "source": [
    "---\n",
    "### 1.6 Summary\n",
    "\n",
    "The following function puts it all together. Given a string, it tokenizes it and processes it according to the flags that you set."
   ]
  },
  {
   "cell_type": "code",
   "execution_count": 17,
   "metadata": {
    "id": "PyajR9VuNyZz"
   },
   "outputs": [],
   "source": [
    "#### Putting it all together\n",
    "def process_text(text, stem=False, remove_stopwords=False, lowercase_text=False):\n",
    "    \n",
    "    tokens = []\n",
    "    for token in tokenize(text):\n",
    "        if remove_stopwords and token.lower() in stopwords:\n",
    "            continue\n",
    "        if stem:\n",
    "            token = stem_token(token)\n",
    "        if lowercase_text:\n",
    "            token = token.lower()\n",
    "        tokens.append(token)\n",
    "\n",
    "    return tokens\n",
    "#### "
   ]
  },
  {
   "cell_type": "markdown",
   "metadata": {
    "id": "UjnDyMooNyZ0"
   },
   "source": [
    "---\n",
    "\n",
    "Let's create two sets of preprocessed documents.\n",
    "We can process the documents and queries according to these two configurations:"
   ]
  },
  {
   "cell_type": "code",
   "execution_count": 18,
   "metadata": {
    "id": "YeRr6RUMNyZ0"
   },
   "outputs": [],
   "source": [
    "# In this configuration:\n",
    "# Don't preprocess the text, except to tokenize \n",
    "config_1 = {\n",
    "  \"stem\": False,\n",
    "  \"remove_stopwords\" : False,\n",
    "  \"lowercase_text\": True\n",
    "} \n",
    "\n",
    "\n",
    "# In this configuration:\n",
    "# Preprocess the text, stem and remove stopwords\n",
    "config_2 = {\n",
    "  \"stem\": True,\n",
    "  \"remove_stopwords\" : True,\n",
    "  \"lowercase_text\": True, \n",
    "} \n",
    "\n",
    "####\n",
    "doc_repr_1 = []\n",
    "doc_repr_2 = []\n",
    "for (doc_id, document) in docs:\n",
    "    doc_repr_1.append((doc_id, process_text(document, **config_1)))\n",
    "    doc_repr_2.append((doc_id, process_text(document, **config_2)))\n",
    "\n",
    "####"
   ]
  },
  {
   "cell_type": "markdown",
   "metadata": {
    "id": "HkG9emt_NyZ0"
   },
   "source": [
    "--- \n",
    "\n",
    "## Section 2: Indexing (10 points)<a class=\"anchor\" id=\"indexing\"></a>\n",
    "\n",
    "[Back to Part 1](#part1)\n",
    "\n",
    "\n",
    "\n",
    "A retrieval function usually takes in a query document pair, and scores a query against a document.  Our document set is quite small - just a few thousand documents. However, consider a web-scale dataset with a few million documents. In such a scenario, it would become infeasible to score every query and document pair. In such a case, we can build an inverted index. From Wikipedia:\n",
    "\n",
    "> ... , an inverted index (also referred to as a postings file or inverted file) is a database index storing a mapping from content, such as words or numbers, to its locations in a table, .... The purpose of an inverted index is to allow fast full-text searches, at a cost of increased processing when a document is added to the database. ...\n",
    "\n",
    "\n",
    "Consider a simple inverted index, which maps from word to document. This can improve the performance of a retrieval system significantly. In this assignment, we consider a *simple* inverted index, which maps a word to a set of documents. In practice, however, more complex indices might be used.  \n"
   ]
  },
  {
   "cell_type": "markdown",
   "metadata": {
    "id": "rf_EdlpmNyZ0"
   },
   "source": [
    "### 2.1 Term Frequency-index (10 points)\n",
    "In this assignment, we will be using an index created in memory since our dataset is tiny. To get started, build a simple index that maps each `token` to a list of `(doc_id, count)` where `count` is the count of the `token` in `doc_id`.\n",
    "For consistency, build this index using a python dictionary.\n",
    "    \n",
    "Now, implement a function to build an index:"
   ]
  },
  {
   "cell_type": "code",
   "execution_count": 19,
   "metadata": {
    "id": "XtqI2gQaNyZ0"
   },
   "outputs": [],
   "source": [
    "# TODO: Implement this! (10 points)\n",
    "def build_tf_index(documents):\n",
    "    \"\"\"\n",
    "        Build an inverted index (with counts). The output is a dictionary which takes in a token\n",
    "        and returns a list of (doc_id, count) where 'count' is the count of the 'token' in 'doc_id'\n",
    "        Input: a list of documents - (doc_id, tokens) \n",
    "        Output: An inverted index. [token] -> [(doc_id, token_count)]\n",
    "    \"\"\"\n",
    "    # YOUR CODE HERE\n",
    "    tf_index = {}\n",
    "\n",
    "    for doc in documents:\n",
    "        for token in np.unique(doc[1]):\n",
    "            doc_list = (doc[0], doc[1].count(token))\n",
    "\n",
    "            if token in tf_index.keys():\n",
    "                tf_index[token].append(doc_list)\n",
    "            else:\n",
    "                tf_index[token] = [doc_list]\n",
    "    \n",
    "    return tf_index\n",
    "\n",
    "    #raise NotImplementedError()"
   ]
  },
  {
   "cell_type": "markdown",
   "metadata": {
    "id": "NNgtaXOSNyZ0"
   },
   "source": [
    "---\n",
    "Now we can build indexed documents and preprocess the queries based on the two configurations:"
   ]
  },
  {
   "cell_type": "code",
   "execution_count": 20,
   "metadata": {
    "id": "Fps12HX9NyZ0"
   },
   "outputs": [],
   "source": [
    "#### Indexed documents based on the two configs\n",
    "\n",
    "# Create the 2 indices\n",
    "tf_index_1 = build_tf_index(doc_repr_1)\n",
    "tf_index_2 = build_tf_index(doc_repr_2)\n",
    "\n",
    "# This function returns the tf_index of the corresponding config\n",
    "def get_index(index_set):\n",
    "    assert index_set in {1, 2}\n",
    "    return {\n",
    "        1: tf_index_1,\n",
    "        2: tf_index_2\n",
    "    }[index_set]\n",
    "\n",
    "####\n",
    "#### Preprocessed query based on the two configs\n",
    "\n",
    "# This function preprocesses the text given the index set, according to the specified config\n",
    "def preprocess_query(text, index_set):\n",
    "    assert index_set in {1, 2}\n",
    "    if index_set == 1:\n",
    "        return process_text(text, **config_1)\n",
    "    elif index_set == 2:\n",
    "        return process_text(text, **config_2)\n",
    "\n",
    "#### "
   ]
  },
  {
   "cell_type": "code",
   "execution_count": 21,
   "metadata": {
    "colab": {
     "base_uri": "https://localhost:8080/"
    },
    "id": "fw8Kyx71NyZ1",
    "outputId": "3c90bae5-0492-4240-e6b8-2999221e7535"
   },
   "outputs": [
    {
     "name": "stdout",
     "output_type": "stream",
     "text": [
      "[('4', 1), ('7', 1), ('10', 1), ('13', 1), ('19', 1), ('22', 1), ('23', 1), ('37', 1), ('40', 3), ('41', 1)]\n"
     ]
    }
   ],
   "source": [
    "##### Function check\n",
    "\n",
    "print(tf_index_1['computer'][:10])\n",
    "#### "
   ]
  },
  {
   "cell_type": "code",
   "execution_count": 22,
   "metadata": {
    "colab": {
     "base_uri": "https://localhost:8080/"
    },
    "id": "dWDLuLd6NyZ1",
    "outputId": "0418a920-96ba-4b67-e06e-879f521350f2"
   },
   "outputs": [
    {
     "name": "stdout",
     "output_type": "stream",
     "text": [
      "[('670', 1), ('675', 1), ('1621', 3), ('1681', 1), ('2145', 1), ('2339', 1), ('2572', 1), ('2583', 1), ('2739', 1), ('3012', 1)]\n"
     ]
    }
   ],
   "source": [
    "##### Function check\n",
    "\n",
    "print(tf_index_2['computer'][:10])\n",
    "#### "
   ]
  },
  {
   "cell_type": "markdown",
   "metadata": {
    "id": "uIlLNMlINyZ1"
   },
   "source": [
    "\n",
    "---\n",
    "## Section 3: Ranking  (80 points) <a class=\"anchor\" id=\"ranking\"></a>\n",
    "\n",
    "[Back to Part 1](#part1)\n",
    "\n",
    "Now that we have cleaned and processed our dataset, we can start building simple IR systems. \n",
    "\n",
    "For now, we consider *simple* IR systems, which involve computing scores from the tokens present in the document/query. More advanced methods are covered in later assignments.\n",
    "\n",
    "We will implement the following methods in this section:\n",
    "- [Section 3.1: Bag of Words](#bow) (10 points)\n",
    "- [Section 3.2: TF-IDF](#tfidf) (15 points)\n",
    "- [Section 3.3: Query Likelihood Model](#qlm) (35 points)\n",
    "- [Section 3.4: BM25](#bm25) (20 points)\n",
    "\n",
    "**Scoring policy:**\n",
    "Your implementations in this section are scored based on the expected performance of your ranking functions.\n",
    "You will get a full mark if your implementation meets the expected performance (measured by some evaluation metric).\n",
    "Otherwise, you may get partial credit.\n",
    "For example, if your *Bag of words* ranking function has 60% of expected performance, you will get 4 out of 10."
   ]
  },
  {
   "cell_type": "markdown",
   "metadata": {
    "id": "WZ8TOHWSNyZ1"
   },
   "source": [
    "--- \n",
    "\n",
    "### Section 3.1: Bag of Words (10 points)<a class=\"anchor\" id=\"bow\"></a>\n",
    "\n",
    "Probably the simplest IR model is the Bag of Words (BOW) model.\n",
    "Implement a function that scores and ranks all the documents against a query using this model.   \n",
    "\n",
    "Note that you can use either the count of the token or 'binarize' it i.e set the value equal to 1 if the token appears.   \n"
   ]
  },
  {
   "cell_type": "code",
   "execution_count": 24,
   "metadata": {
    "id": "i6o1qWVENyZ1"
   },
   "outputs": [],
   "source": [
    "# TODO: Implement this! (10 points)\n",
    "def bow_search(query, index_set):\n",
    "    \"\"\"\n",
    "        Perform a search over all documents with the given query. \n",
    "        Note: You have to use the `get_index` function created in the previous cells\n",
    "        Input: \n",
    "            query - a (unprocessed) query\n",
    "            index_set - the index to use\n",
    "        Output: a list of (document_id, score), sorted in descending relevance to the given query \n",
    "    \"\"\"\n",
    "\n",
    "    \n",
    "    index = get_index(index_set)\n",
    "    processed_query = preprocess_query(query, index_set)\n",
    "    \n",
    "    # YOUR CODE HERE\n",
    "    bag_dict = {}\n",
    "    for q in processed_query:\n",
    "\n",
    "        if q not in index:\n",
    "            continue \n",
    "\n",
    "        for doc_id, tf in index[q]:        \n",
    "            if doc_id not in bag_dict:\n",
    "                    bag_dict[doc_id] = 0.0\n",
    "            \n",
    "            bag_dict[doc_id] += 1.0 \n",
    "\n",
    "    sorted_result = sorted(bag_dict.items(), key=lambda tup: tup[1], reverse = True)\n",
    "\n",
    "    return sorted_result\n",
    "\n",
    "    #raise NotImplementedError()"
   ]
  },
  {
   "cell_type": "code",
   "execution_count": 25,
   "metadata": {
    "colab": {
     "base_uri": "https://localhost:8080/"
    },
    "id": "nNcyH_fDNyZ1",
    "outputId": "a8f59573-283e-4335-ca17-a72429ccc66b"
   },
   "outputs": [
    {
     "name": "stdout",
     "output_type": "stream",
     "text": [
      "BOW Results:\n",
      "Rank 0(1.0): Preliminary Report-International Algebraic Languag...\n",
      "Rank 1(1.0): ALGOL Sub-Committee Report - Extensions...\n",
      "Rank 2(1.0): The Use of Computers in Engineering Classroom Inst...\n",
      "Rank 3(1.0): Report on a Conference of University Computing Cen...\n",
      "Rank 4(1.0): Report on the Algorithmic Language ALGOL 60...\n"
     ]
    }
   ],
   "source": [
    "#### Function check\n",
    "\n",
    "docs_by_id = dict(docs)\n",
    "def print_results(docs, len_limit=50):    \n",
    "    for i, (doc_id, score) in enumerate(docs):\n",
    "        doc_content = docs_by_id[doc_id].strip().replace(\"\\n\", \"\\\\n\")[:len_limit] + \"...\"\n",
    "        print(f\"Rank {i}({score:.2}): {doc_content}\")\n",
    "\n",
    "test_bow = bow_search(\"report\", index_set=1)[:5]\n",
    "print(f\"BOW Results:\")\n",
    "print_results(test_bow)\n",
    "#### "
   ]
  },
  {
   "cell_type": "markdown",
   "metadata": {
    "id": "TAtADmsuNyZ2"
   },
   "source": [
    "\n",
    "---\n",
    "\n",
    "### Section 3.2: TF-IDF (15 points) <a class=\"anchor\" id=\"tfidf\"></a>\n",
    "\n",
    "Before we implement the tf-idf scoring functions, let's first write a function to compute the document frequencies of all words.  \n",
    "\n",
    "#### 3.2.1 Document frequency (5 points)\n",
    "Compute the document frequencies of all tokens in the collection.  "
   ]
  },
  {
   "cell_type": "code",
   "execution_count": 29,
   "metadata": {
    "id": "42e_gaIFNyZ2"
   },
   "outputs": [],
   "source": [
    "# TODO: Implement this! (5 points)\n",
    "def compute_df(documents):\n",
    "    \"\"\"\n",
    "        Compute the document frequency of all terms in the vocabulary\n",
    "        Input: A list of documents\n",
    "        Output: A dictionary with {token: document frequency)\n",
    "    \"\"\"\n",
    "    # YOUR CODE HERE\n",
    "    doc_freq = {}\n",
    "    \n",
    "    for i in range(len(documents)):\n",
    "        tokens = documents[i]\n",
    "        for token in tokens:\n",
    "          if token not in doc_freq:\n",
    "            doc_freq[token] = {i}\n",
    "          \n",
    "          else:\n",
    "            doc_freq[token].add(i)\n",
    "\n",
    "    for token in doc_freq:\n",
    "        doc_freq[token] = len(doc_freq[token])\n",
    "\n",
    "    return doc_freq\n",
    "    \n",
    "    #raise NotImplementedError()\n"
   ]
  },
  {
   "cell_type": "code",
   "execution_count": 30,
   "metadata": {
    "id": "WY4YzoZNNyZ2"
   },
   "outputs": [],
   "source": [
    "#### Compute df based on the two configs\n",
    "\n",
    "# get the document frequencies of each document\n",
    "df_1 = compute_df([d[1] for d in doc_repr_1])\n",
    "df_2 = compute_df([d[1] for d in doc_repr_2])\n",
    "\n",
    "def get_df(index_set):\n",
    "    assert index_set in {1, 2}\n",
    "    return {\n",
    "        1: df_1,\n",
    "        2: df_2\n",
    "    }[index_set]\n",
    "####"
   ]
  },
  {
   "cell_type": "code",
   "execution_count": 31,
   "metadata": {
    "colab": {
     "base_uri": "https://localhost:8080/"
    },
    "id": "y9e_MXhtNyZ2",
    "outputId": "cb10e763-7b3b-4ac3-bed6-b80ab570739b"
   },
   "outputs": [
    {
     "name": "stdout",
     "output_type": "stream",
     "text": [
      "597\n",
      "11\n"
     ]
    }
   ],
   "source": [
    "#### Function check\n",
    "\n",
    "print(df_1['computer'])\n",
    "print(df_2['computer'])\n",
    "####"
   ]
  },
  {
   "cell_type": "markdown",
   "metadata": {
    "id": "r51zC0RlNyZ3"
   },
   "source": [
    "---\n",
    "#### 3.2.2 TF-IDF search (10 points)\n",
    "Next, implement a function that computes a tf-idf score given a query.      "
   ]
  },
  {
   "cell_type": "code",
   "execution_count": 32,
   "metadata": {
    "id": "Tjt36QvlNyZ3"
   },
   "outputs": [],
   "source": [
    "# TODO: Implement this! (10 points)\n",
    "def tfidf_search(query, index_set):\n",
    "    \"\"\"\n",
    "        Perform a search over all documents with the given query using tf-idf. \n",
    "        Note #1: You have to use the `get_index` (and the `get_df`) function created in the previous cells\n",
    "        Input: \n",
    "            query - a (unprocessed) query\n",
    "            index_set - the index to use\n",
    "        Output: a list of (document_id, score), sorted in descending relevance to the given query \n",
    "    \"\"\"\n",
    "    index = get_index(index_set)\n",
    "    df = get_df(index_set)\n",
    "    processed_query = preprocess_query(query, index_set)\n",
    "    \n",
    "    # YOUR CODE HERE\n",
    "    n_doc = len(doc_repr_1) if index_set == 1 else len(doc_repr_2)\n",
    "\n",
    "    tfidf_dict = {}\n",
    "\n",
    "    for q in processed_query:\n",
    "\n",
    "        if q not in index:\n",
    "            continue \n",
    "\n",
    "        for doc_id, tf in index[q]:        \n",
    "            if doc_id not in tfidf_dict:\n",
    "                    tfidf_dict[doc_id] = 0\n",
    "            \n",
    "            tfidf_dict[doc_id] += tf*np.log(n_doc/df[q])\n",
    "\n",
    "    sorted_result = sorted(tfidf_dict.items(), key=lambda tup: tup[1], reverse = True)\n",
    "\n",
    "    return sorted_result\n",
    "\n",
    "    # raise NotImplementedError()"
   ]
  },
  {
   "cell_type": "code",
   "execution_count": 33,
   "metadata": {
    "colab": {
     "base_uri": "https://localhost:8080/"
    },
    "id": "5fflLZDENyZ3",
    "outputId": "2e24e40f-57b0-4c8a-8ab9-6cbb0bcb36f6"
   },
   "outputs": [
    {
     "name": "stdout",
     "output_type": "stream",
     "text": [
      "TFIDF Results:\n",
      "Rank 0(2.3e+01): An Information Algebra - Phase I Report-Language\\n...\n",
      "Rank 1(2.3e+01): Rejuvenating Experimental Computer Science\\n\\n Thi...\n",
      "Rank 2(1.2e+01): ALGOL 60 Confidential\\n\\n The ALGOL 60 Report,* wh...\n",
      "Rank 3(7.8): Automatic Abstracting and Indexing Survey and Reco...\n",
      "Rank 4(7.8): A String Language for Symbol Manipulation Based on...\n"
     ]
    }
   ],
   "source": [
    "#### Function check\n",
    "test_tfidf = tfidf_search(\"report\", index_set=1)[:5]\n",
    "print(f\"TFIDF Results:\")\n",
    "print_results(test_tfidf)\n",
    "####"
   ]
  },
  {
   "cell_type": "code",
   "execution_count": 34,
   "metadata": {
    "id": "b0dvBPruNyZ3"
   },
   "outputs": [],
   "source": [
    "#### Please do not change this. This cell is used for grading."
   ]
  },
  {
   "cell_type": "code",
   "execution_count": 35,
   "metadata": {
    "id": "ykpJABhmNyZ3"
   },
   "outputs": [],
   "source": [
    "#### Please do not change this. This cell is used for grading."
   ]
  },
  {
   "cell_type": "code",
   "execution_count": 36,
   "metadata": {
    "id": "ZBGdnryTNyZ3"
   },
   "outputs": [],
   "source": [
    "#### Please do not change this. This cell is used for grading."
   ]
  },
  {
   "cell_type": "markdown",
   "metadata": {
    "id": "6j-ojR-DNyZ3"
   },
   "source": [
    "--- \n",
    "\n",
    "### Section 3.3: Query Likelihood Model (35 points) <a class=\"anchor\" id=\"qlm\"></a>\n",
    "\n",
    "In this section, you will implement a simple query likelihood model. \n",
    "\n",
    "\n",
    "#### 3.3.1 Naive QL (15 points)\n",
    "\n",
    "First, let us implement a naive version of a QL model, assuming a multinomial unigram language model (with a uniform prior over the documents). \n",
    "\n"
   ]
  },
  {
   "cell_type": "code",
   "execution_count": 37,
   "metadata": {
    "id": "roRYISlkNyZ3"
   },
   "outputs": [],
   "source": [
    "#### Document length for normalization\n",
    "\n",
    "def doc_lengths(documents):\n",
    "    doc_lengths = {doc_id:len(doc) for (doc_id, doc) in documents}\n",
    "    return doc_lengths\n",
    "\n",
    "doc_lengths_1 = doc_lengths(doc_repr_1)\n",
    "doc_lengths_2 = doc_lengths(doc_repr_2)\n",
    "\n",
    "def get_doc_lengths(index_set):\n",
    "    assert index_set in {1, 2}\n",
    "    return {\n",
    "        1: doc_lengths_1,\n",
    "        2: doc_lengths_2\n",
    "    }[index_set]\n",
    "####"
   ]
  },
  {
   "cell_type": "code",
   "execution_count": 38,
   "metadata": {
    "id": "KaNDnMLPNyZ4"
   },
   "outputs": [],
   "source": [
    "# TODO: Implement this! (15 points)\n",
    "def naive_ql_search(query, index_set):\n",
    "    \"\"\"\n",
    "        Perform a search over all documents with the given query using a naive QL model. \n",
    "        Note #1: You have to use the `get_index` (and get_doc_lengths) function created in the previous cells\n",
    "        Input: \n",
    "            query - a (unprocessed) query\n",
    "            index_set - the index to use\n",
    "        Output: a list of (document_id, score), sorted in descending relevance to the given query \n",
    "    \"\"\"\n",
    "    index = get_index(index_set)\n",
    "    doc_lengths = get_doc_lengths(index_set)\n",
    "    processed_query = preprocess_query(query, index_set)\n",
    "    # YOUR CODE HERE\n",
    "    unigram_probs = {}\n",
    "\n",
    "\n",
    "    for i, q in enumerate(processed_query):\n",
    "      if q not in index:\n",
    "        continue\n",
    "      \n",
    "      if i > 0:\n",
    "        tf_dicts = dict(index[q])\n",
    "        for doc_id in unigram_probs:\n",
    "          if doc_id in tf_dicts:\n",
    "            unigram_probs[doc_id] *= 1.0 * tf_dicts[doc_id] / doc_lengths[doc_id]  \n",
    "        \n",
    "          else:\n",
    "            unigram_probs[doc_id] = 0\n",
    "\n",
    "      else:    \n",
    "        for doc_id, tf in index[processed_query[0]]:\n",
    "          unigram_probs[doc_id] = tf / doc_lengths[doc_id] \n",
    "\n",
    "    sorted_rank = sorted(unigram_probs.items(), key = lambda d: d[1], reverse = True)\n",
    "    \n",
    "    return sorted_rank\n",
    "    # raise NotImplementedError()"
   ]
  },
  {
   "cell_type": "code",
   "execution_count": 39,
   "metadata": {
    "colab": {
     "base_uri": "https://localhost:8080/"
    },
    "id": "NRmAf7oBNyZ4",
    "outputId": "9d80d6b1-3bc0-4d75-e7e5-d69d2633ca28"
   },
   "outputs": [
    {
     "name": "stdout",
     "output_type": "stream",
     "text": [
      "Naive QL Results:\n",
      "Rank 0(0.2): A Report Writer For COBOL...\n",
      "Rank 1(0.2): A CRT Report Generating System...\n",
      "Rank 2(0.17): Preliminary Report-International Algebraic Languag...\n",
      "Rank 3(0.17): Supplement to the ALGOL 60 Report...\n",
      "Rank 4(0.14): ALGOL Sub-Committee Report - Extensions...\n"
     ]
    }
   ],
   "source": [
    "#### Function check\n",
    "test_naiveql = naive_ql_search(\"report\", index_set=1)[:5]\n",
    "print(f\"Naive QL Results:\")\n",
    "print_results(test_naiveql)\n",
    "####"
   ]
  },
  {
   "cell_type": "code",
   "execution_count": 40,
   "metadata": {
    "id": "ohoG1lv3NyZ4"
   },
   "outputs": [],
   "source": [
    "#### Please do not change this. This cell is used for grading."
   ]
  },
  {
   "cell_type": "code",
   "execution_count": 41,
   "metadata": {
    "id": "4-p2aO0HNyZ4"
   },
   "outputs": [],
   "source": [
    "#### Please do not change this. This cell is used for grading."
   ]
  },
  {
   "cell_type": "code",
   "execution_count": 42,
   "metadata": {
    "id": "ZGxBf-DdNyZ4"
   },
   "outputs": [],
   "source": [
    "#### Please do not change this. This cell is used for grading."
   ]
  },
  {
   "cell_type": "code",
   "execution_count": 43,
   "metadata": {
    "id": "3E119RqQNyZ4"
   },
   "outputs": [],
   "source": [
    "#### Please do not change this. This cell is used for grading."
   ]
  },
  {
   "cell_type": "markdown",
   "metadata": {
    "id": "c1g4hz96NyZ4"
   },
   "source": [
    "---\n",
    "#### 3.3.2 QL (20 points)\n",
    "Now, let's implement a QL model that handles the issues with the naive version. In particular, you will implement a QL model with Jelinek-Mercer Smoothing. That means an interpolated score is computed per word - one term is the same as the previous naive version, and the second term comes from a unigram language model. In addition, you should accumulate the scores by summing the **log** (smoothed) probability which leads to better numerical stability."
   ]
  },
  {
   "cell_type": "code",
   "execution_count": 44,
   "metadata": {
    "id": "I34arRELNyZ4"
   },
   "outputs": [],
   "source": [
    "# TODO: Implement this! (20 points)\n",
    "\n",
    "# YOUR CODE HERE\n",
    "def get_doc_ids(query, index_set):\n",
    "  \"return doc_id list of documents that contain the query terms\"\n",
    "  index = get_index(index_set)\n",
    "  doc_ids = []\n",
    "  for q in query:\n",
    "    if q not in index:\n",
    "      continue\n",
    "      \n",
    "    for doc_id, _ in index[q]:\n",
    "      if doc_id not in doc_ids:\n",
    "        doc_ids.append(doc_id)\n",
    "    \n",
    "  return doc_ids\n",
    "\n",
    "\n",
    "def ql_search(query, index_set):\n",
    "    \"\"\"\n",
    "        Perform a search over all documents with the given query using a QL model \n",
    "        with Jelinek-Mercer Smoothing (set smoothing=0.1). \n",
    "        \n",
    "        \n",
    "        Note #1: You have to use the `get_index` (and get_doc_lengths) function created in the previous cells\n",
    "        Note #2: You might have to create some variables beforehand and use them in this function\n",
    "        \n",
    "        \n",
    "        Input: \n",
    "            query - a (unprocessed) query\n",
    "            index_set - the index to use\n",
    "        Output: a list of (document_id, score), sorted in descending relevance to the given query \n",
    "    \"\"\"\n",
    "    index = get_index(index_set)\n",
    "    doc_lengths = get_doc_lengths(index_set)\n",
    "    processed_query = preprocess_query(query, index_set)\n",
    "    \n",
    "    # YOUR CODE HERE\n",
    "    doc_ids = get_doc_ids(processed_query, index_set)\n",
    "    cl = sum(doc_lengths.values())\n",
    "    lamb = 0.1\n",
    "    unigram_probs = dict(zip(doc_ids, np.zeros(len(doc_ids))))\n",
    "    \n",
    "    for i, q in enumerate(processed_query):\n",
    "      if q not in index:\n",
    "        continue\n",
    "      \n",
    "      tf_dict = dict(index[q])\n",
    "      cf = sum(tf_dict.values())\n",
    "\n",
    "      for doc_id in doc_ids:\n",
    "        tf = tf_dict[doc_id] if doc_id in tf_dict else 0\n",
    "        unigram_probs[doc_id] += np.log((1 - lamb) * tf / doc_lengths[doc_id] + lamb * cf / cl)\n",
    "          \n",
    "    sorted_rank = sorted(unigram_probs.items(), key = lambda d: d[1], reverse = True)\n",
    "    return sorted_rank\n",
    "    # raise NotImplementedError()\n",
    "    "
   ]
  },
  {
   "cell_type": "code",
   "execution_count": 45,
   "metadata": {
    "colab": {
     "base_uri": "https://localhost:8080/"
    },
    "id": "xeaqyXxYNyZ5",
    "outputId": "1ba590d2-d4d7-4dfd-dfd3-45f54a8440cb"
   },
   "outputs": [
    {
     "name": "stdout",
     "output_type": "stream",
     "text": [
      "Rank 0(-1.7): A Report Writer For COBOL...\n",
      "Rank 1(-1.7): A CRT Report Generating System...\n",
      "Rank 2(-1.9): Preliminary Report-International Algebraic Languag...\n",
      "Rank 3(-1.9): Supplement to the ALGOL 60 Report...\n",
      "Rank 4(-2.1): ALGOL Sub-Committee Report - Extensions...\n",
      "\n",
      "Rank 0(-1.7e+01): A Report Writer For COBOL...\n",
      "Rank 1(-1.7e+01): A CRT Report Generating System...\n",
      "Rank 2(-1.9e+01): Preliminary Report-International Algebraic Languag...\n",
      "Rank 3(-1.9e+01): Supplement to the ALGOL 60 Report...\n",
      "Rank 4(-2.1e+01): ALGOL Sub-Committee Report - Extensions...\n"
     ]
    }
   ],
   "source": [
    "#### Function check\n",
    "test_ql_results = ql_search(\"report\", index_set=1)[:5]\n",
    "print_results(test_ql_results)\n",
    "print()\n",
    "test_ql_results_long = ql_search(\"report \" * 10, index_set=1)[:5]\n",
    "print_results(test_ql_results_long)\n",
    "####"
   ]
  },
  {
   "cell_type": "code",
   "execution_count": 46,
   "metadata": {
    "id": "nEUVcCejNyZ5"
   },
   "outputs": [],
   "source": [
    "#### Please do not change this. This cell is used for grading."
   ]
  },
  {
   "cell_type": "code",
   "execution_count": 47,
   "metadata": {
    "id": "sBgmtwd4NyZ5"
   },
   "outputs": [],
   "source": [
    "#### Please do not change this. This cell is used for grading."
   ]
  },
  {
   "cell_type": "code",
   "execution_count": 48,
   "metadata": {
    "id": "NzJoTGQDNyZ5"
   },
   "outputs": [],
   "source": [
    "#### Please do not change this. This cell is used for grading."
   ]
  },
  {
   "cell_type": "code",
   "execution_count": 49,
   "metadata": {
    "id": "A5Ahux67NyZ5"
   },
   "outputs": [],
   "source": [
    "#### Please do not change this. This cell is used for grading."
   ]
  },
  {
   "cell_type": "markdown",
   "metadata": {
    "id": "zXpPbbLONyZ5"
   },
   "source": [
    "--- \n",
    "\n",
    "### Section 3.4: BM25 (20 points) <a class=\"anchor\" id=\"bm25\"></a>\n",
    "\n",
    "In this section, we will implement the BM25 scoring function. \n"
   ]
  },
  {
   "cell_type": "code",
   "execution_count": 50,
   "metadata": {
    "id": "u0j_qGA1NyZ5"
   },
   "outputs": [],
   "source": [
    "# TODO: Implement this! (20 points)\n",
    "def bm25_search(query, index_set):\n",
    "    \"\"\"\n",
    "        Perform a search over all documents with the given query using BM25. Use k_1 = 1.5 and b = 0.75\n",
    "        Note #1: You have to use the `get_index` (and `get_doc_lengths`) function created in the previous cells\n",
    "        Note #2: You might have to create some variables beforehand and use them in this function\n",
    "        \n",
    "        Input: \n",
    "            query - a (unprocessed) query\n",
    "            index_set - the index to use\n",
    "        Output: a list of (document_id, score), sorted in descending relevance to the given query \n",
    "    \"\"\"\n",
    "    \n",
    "    index = get_index(index_set)\n",
    "    df = get_df(index_set)\n",
    "    doc_lengths = get_doc_lengths(index_set)\n",
    "    processed_query = preprocess_query(query, index_set)\n",
    "    \n",
    "    # YOUR CODE HERE\n",
    "    k_1, b = 1.5, 0.75\n",
    "    bm25_dict = {}\n",
    "    # doc_num = len(doc_lengths)\n",
    "    dl_avg = 1.0 * sum(doc_lengths.values()) / len(doc_lengths)\n",
    " \n",
    "    for q in processed_query:\n",
    "      if q not in index:\n",
    "        continue\n",
    "      \n",
    "      for doc_id, tf in index[q]:\n",
    "        if doc_id not in bm25_dict:\n",
    "          bm25_dict[doc_id] = 0\n",
    "        \n",
    "        idf = np.log(len(doc_lengths)/df[q])\n",
    "        bm25_dict[doc_id] += idf * (k_1 + 1) * tf / (k_1 * (1-b + b * doc_lengths[doc_id]/ dl_avg) + tf)\n",
    "    \n",
    "    sorted_rank = sorted(bm25_dict.items(), key = lambda d: d[1], reverse = True)\n",
    "    return sorted_rank\n",
    "    # raise NotImplementedError()"
   ]
  },
  {
   "cell_type": "code",
   "execution_count": 51,
   "metadata": {
    "colab": {
     "base_uri": "https://localhost:8080/"
    },
    "id": "fgX6h8d4NyZ5",
    "outputId": "d09543a8-c008-4f92-bb88-9b665f86f986"
   },
   "outputs": [
    {
     "name": "stdout",
     "output_type": "stream",
     "text": [
      "Rank 0(6.7): A Report Writer For COBOL...\n",
      "Rank 1(6.7): A CRT Report Generating System...\n",
      "Rank 2(6.6): Preliminary Report-International Algebraic Languag...\n",
      "Rank 3(6.6): Supplement to the ALGOL 60 Report...\n",
      "Rank 4(6.5): ALGOL Sub-Committee Report - Extensions...\n"
     ]
    }
   ],
   "source": [
    "#### Function check\n",
    "test_bm25_results = bm25_search(\"report\", index_set=1)[:5]\n",
    "print_results(test_bm25_results)\n",
    "####"
   ]
  },
  {
   "cell_type": "code",
   "execution_count": 52,
   "metadata": {
    "id": "aIIOYYyhNyZ5"
   },
   "outputs": [],
   "source": [
    "#### Please do not change this. This cell is used for grading."
   ]
  },
  {
   "cell_type": "code",
   "execution_count": 53,
   "metadata": {
    "id": "TVsikYHONyZ6"
   },
   "outputs": [],
   "source": [
    "#### Please do not change this. This cell is used for grading."
   ]
  },
  {
   "cell_type": "code",
   "execution_count": 54,
   "metadata": {
    "id": "CWQ_foFDNyZ6"
   },
   "outputs": [],
   "source": [
    "#### Please do not change this. This cell is used for grading."
   ]
  },
  {
   "cell_type": "code",
   "execution_count": 55,
   "metadata": {
    "id": "cFwxXiUXNyZ6"
   },
   "outputs": [],
   "source": [
    "#### Please do not change this. This cell is used for grading."
   ]
  },
  {
   "cell_type": "markdown",
   "metadata": {
    "id": "nhEXXDF5NyZ6"
   },
   "source": [
    "\n",
    "---\n",
    "\n",
    "### 3.5. Test Your Functions\n",
    "\n",
    "The widget below allows you to play with the search functions you've written so far. Use this to test your search functions and ensure that they work as expected."
   ]
  },
  {
   "cell_type": "code",
   "execution_count": 56,
   "metadata": {
    "id": "yPeZ8e4yNyZ6"
   },
   "outputs": [],
   "source": [
    "#### Highlighter function\n",
    "# class for results\n",
    "ResultRow = namedtuple(\"ResultRow\", [\"doc_id\", \"snippet\", \"score\"])\n",
    "# doc_id -> doc\n",
    "docs_by_id = dict((d[0], d[1]) for d in docs)\n",
    "\n",
    "def highlight_text(document, query, tol=17):\n",
    "    import re\n",
    "    tokens = tokenize(query)\n",
    "    regex = \"|\".join(f\"(\\\\b{t}\\\\b)\" for t in tokens)\n",
    "    regex = re.compile(regex, flags=re.IGNORECASE)\n",
    "    output = \"\"\n",
    "    i = 0\n",
    "    for m in regex.finditer(document):\n",
    "        start_idx = max(0, m.start() - tol)\n",
    "        end_idx = min(len(document), m.end() + tol)\n",
    "        output += \"\".join([\"...\",\n",
    "                        document[start_idx:m.start()],\n",
    "                        \"<strong>\",\n",
    "                        document[m.start():m.end()],\n",
    "                        \"</strong>\",\n",
    "                        document[m.end():end_idx],\n",
    "                        \"...\"])\n",
    "    return output.replace(\"\\n\", \" \")\n",
    "\n",
    "\n",
    "def make_results(query, search_fn, index_set):\n",
    "    results = []\n",
    "    for doc_id, score in search_fn(query, index_set):\n",
    "        highlight = highlight_text(docs_by_id[doc_id], query)\n",
    "        if len(highlight.strip()) == 0:\n",
    "            highlight = docs_by_id[doc_id]\n",
    "        results.append(ResultRow(doc_id, highlight, score))\n",
    "    return results\n",
    "####"
   ]
  },
  {
   "cell_type": "code",
   "execution_count": 57,
   "metadata": {
    "colab": {
     "base_uri": "https://localhost:8080/",
     "height": 50,
     "referenced_widgets": [
      "01458fb095424240baee28c6b347555c",
      "ac7ec29c04f64e2f962476650c3c4e68",
      "33dc764cdf144f79bd8d3ef202ff79bd"
     ]
    },
    "id": "SN9U7xe8NyZ6",
    "outputId": "2eebffe8-2945-4adc-d4d4-7b2193207977"
   },
   "outputs": [
    {
     "data": {
      "application/vnd.jupyter.widget-view+json": {
       "model_id": "83a0558c0d084beab97339b7a9630f06",
       "version_major": 2,
       "version_minor": 0
      },
      "text/plain": [
       "Text(value='', description='Search Bar')"
      ]
     },
     "metadata": {},
     "output_type": "display_data"
    }
   ],
   "source": [
    "# TODO: Set this to the function you want to test!\n",
    "# this function should take in a query (string)\n",
    "# and return a sorted list of (doc_id, score) \n",
    "# with the most relevant document in the first position\n",
    "search_fn = bm25_search\n",
    "index_set = 1\n",
    "\n",
    "text = widgets.Text(description=\"Search Bar\", width=200)\n",
    "display(text)\n",
    "\n",
    "def handle_submit(sender):\n",
    "    print(f\"Searching for: '{sender.value}'\")\n",
    "    \n",
    "    results = make_results(sender.value, search_fn, index_set)\n",
    "    \n",
    "    # display only the top 5\n",
    "    results = results[:5]\n",
    "    \n",
    "    body = \"\"\n",
    "    for idx, r in enumerate(results):\n",
    "        body += f\"<li>Document #{r.doc_id}({r.score}): {r.snippet}</li>\"\n",
    "    display(HTML(f\"<ul>{body}</ul>\"))\n",
    "    \n",
    "\n",
    "text.on_submit(handle_submit)"
   ]
  },
  {
   "cell_type": "markdown",
   "metadata": {
    "id": "duwoHxB8NyZ6"
   },
   "source": [
    "---\n",
    "\n",
    "## Section 4: Evaluation (40 points) <a class=\"anchor\" id=\"evaluation\"></a>\n",
    "\n",
    "[Back to Part 1](#part1)\n",
    "\n",
    "Before we jump in and implement an algorithm for retrieval, we first have to learn how to evaluate such a system. In particular, we will work with offline evaluation metrics. These metrics are computed on a dataset with known relevance judgements.\n",
    "\n",
    "Implement the following evaluation metrics. \n",
    "\n",
    "1. Precision (7 points)\n",
    "2. Recall (7 points)\n",
    "3. Mean Average Precision (12 points)\n",
    "4. Expected Reciprocal Rank (12 points)"
   ]
  },
  {
   "cell_type": "markdown",
   "metadata": {
    "id": "4Pi6fgBVNyZ6"
   },
   "source": [
    "---\n",
    "### 4.1 Read relevance labels (2 points)\n",
    "\n",
    "Let's take a look at the `qrels.text` file, which contains the ground truth relevance scores. The relevance labels for CACM are binary - either 0 or 1. \n"
   ]
  },
  {
   "cell_type": "code",
   "execution_count": 58,
   "metadata": {
    "colab": {
     "base_uri": "https://localhost:8080/"
    },
    "id": "Slw6EECnNyZ6",
    "outputId": "fce2e6a5-b6e4-40c5-bbf3-9517397e6fba"
   },
   "outputs": [
    {
     "name": "stdout",
     "output_type": "stream",
     "text": [
      "01 1410  0 0\r\n",
      "01 1572  0 0\r\n",
      "01 1605  0 0\r\n",
      "01 2020  0 0\r\n",
      "01 2358  0 0\r\n",
      "02 2434  0 0\r\n",
      "02 2863  0 0\r\n",
      "02 3078  0 0\r\n",
      "03 1134  0 0\r\n",
      "03 1613  0 0\r\n"
     ]
    }
   ],
   "source": [
    "!head ./datasets/qrels.text"
   ]
  },
  {
   "cell_type": "markdown",
   "metadata": {
    "id": "cZ4hOGZ-NyZ7"
   },
   "source": [
    "---\n",
    "**Implementation (2 points):**\n",
    "The first column is the query_id and the second column is the document_id. You can safely ignore the 3rd and 4th columns. Write a function to read in the file:"
   ]
  },
  {
   "cell_type": "code",
   "execution_count": 59,
   "metadata": {
    "id": "Dbo0p7VINyZ7"
   },
   "outputs": [],
   "source": [
    "# TODO: Implement this! (2 points)\n",
    "def read_qrels(root_folder = \"./datasets/\"):\n",
    "    \"\"\"\n",
    "        Reads the qrels.text file. \n",
    "        Output: A dictionary: query_id -> [list of relevant documents]\n",
    "    \"\"\"\n",
    "    # YOUR CODE HERE\n",
    "    query_f = open(os.path.join(root_folder, \"qrels.text\"), 'r')\n",
    "    query_dic = {}\n",
    "\n",
    "    for line in query_f:\n",
    "      q_id, doc_id, _, _ = line.split()\n",
    "      \n",
    "      # make queries and qrels consistent in query_id ('01'->'1')\n",
    "      q_id = str(int(q_id))\n",
    "      \n",
    "      if q_id not in query_dic:\n",
    "        query_dic[q_id] = []\n",
    "      query_dic[q_id].append(doc_id)\n",
    "    \n",
    "    return query_dic\n",
    "    # raise NotImplementedError()\n"
   ]
  },
  {
   "cell_type": "code",
   "execution_count": 60,
   "metadata": {
    "id": "-oBEosVqNyZ7"
   },
   "outputs": [],
   "source": [
    "#### Function check\n",
    "qrels = read_qrels()\n",
    "\n",
    "assert len(qrels) == 52, \"There should be 52 queries with relevance judgements\"\n",
    "assert sum(len(j) for j in qrels.values()) == 796, \"There should be a total of 796 Relevance Judgements\"\n",
    "####"
   ]
  },
  {
   "cell_type": "markdown",
   "metadata": {
    "id": "chJxAOo-NyZ7"
   },
   "source": [
    "---\n",
    "**Note:** For a given query `query_id`, you can assume that documents *not* in `qrels[query_id]` are not relevant to `query_id`. \n"
   ]
  },
  {
   "cell_type": "markdown",
   "metadata": {
    "id": "QlyIl9USNyZ7"
   },
   "source": [
    "---\n",
    "### 4.2 Precision (7 points)\n",
    "Implement the `precision@k` metric:"
   ]
  },
  {
   "cell_type": "code",
   "execution_count": 61,
   "metadata": {
    "id": "nnlKssKdNyZ7"
   },
   "outputs": [],
   "source": [
    "# TODO: Implement this! (7 points)\n",
    "def precision_k(results, relevant_docs, k):\n",
    "    \"\"\"\n",
    "        Compute Precision@K\n",
    "        Input: \n",
    "            results: A sorted list of 2-tuples (document_id, score), \n",
    "                    with the most relevant document in the first position\n",
    "            relevant_docs: A set of relevant documents. \n",
    "            k: the cut-off\n",
    "        Output: Precision@K\n",
    "    \"\"\"\n",
    "    # YOUR CODE HERE\n",
    "    relevant_cnt = 0\n",
    "\n",
    "    for i, (doc_id, _) in enumerate(results):\n",
    "      if doc_id in relevant_docs:\n",
    "        relevant_cnt += 1\n",
    "      if i == k - 1:\n",
    "        break\n",
    "\n",
    "    return relevant_cnt / k\n",
    "    # raise NotImplementedError()"
   ]
  },
  {
   "cell_type": "code",
   "execution_count": 62,
   "metadata": {
    "colab": {
     "base_uri": "https://localhost:8080/"
    },
    "id": "JXbrjWbkNyZ7",
    "outputId": "20530d94-0d10-434f-cd1e-0fbfb78cf5d1"
   },
   "outputs": [
    {
     "name": "stdout",
     "output_type": "stream",
     "text": [
      "query: What articles exist which deal with TSS (Time Sharing System), an\n",
      "operating system for IBM computers?\n",
      "\n",
      "precision@10 = 0.2\n"
     ]
    }
   ],
   "source": [
    "#### Function check\n",
    "qid = queries[0][0]\n",
    "qtext = queries[0][1]\n",
    "print(f'query:{qtext}')\n",
    "results = bm25_search(qtext, 2)\n",
    "precision = precision_k(results, qrels[qid], 10)\n",
    "print(f'precision@10 = {precision}')\n",
    "####"
   ]
  },
  {
   "cell_type": "markdown",
   "metadata": {
    "id": "ljX6b13CNyZ7"
   },
   "source": [
    "---\n",
    "### 4.3 Recall (7 points)\n",
    "Implement the `recall@k` metric:"
   ]
  },
  {
   "cell_type": "code",
   "execution_count": 63,
   "metadata": {
    "id": "OTbYzC-WNyZ8"
   },
   "outputs": [],
   "source": [
    "# TODO: Implement this! (7 points)\n",
    "def recall_k(results, relevant_docs, k):\n",
    "    \"\"\"\n",
    "        Compute Recall@K\n",
    "        Input: \n",
    "            results: A sorted list of 2-tuples (document_id, score), with the most relevant document in the first position\n",
    "            relevant_docs: A set of relevant documents. \n",
    "            k: the cut-off\n",
    "        Output: Recall@K\n",
    "    \"\"\"\n",
    "    # YOUR CODE HERE\n",
    "    relevant_cnt = 0\n",
    "\n",
    "    for i, (doc_id, _) in enumerate(results):\n",
    "      if doc_id in relevant_docs:\n",
    "        relevant_cnt += 1\n",
    "      if i == k - 1:\n",
    "        break\n",
    "\n",
    "    return relevant_cnt / len(relevant_docs)\n",
    "    # raise NotImplementedError()"
   ]
  },
  {
   "cell_type": "code",
   "execution_count": 64,
   "metadata": {
    "colab": {
     "base_uri": "https://localhost:8080/"
    },
    "id": "TWQpFNMUNyZ8",
    "outputId": "c91f017b-2d70-4f1b-9387-5254326982bb"
   },
   "outputs": [
    {
     "name": "stdout",
     "output_type": "stream",
     "text": [
      "query: SETL, Very High Level Languages\n",
      "\n",
      "recall@10 = 0.3157894736842105\n"
     ]
    }
   ],
   "source": [
    "#### Function check\n",
    "qid = queries[10][0]\n",
    "qtext = queries[10][1]\n",
    "print(f'query:{qtext}')\n",
    "results = bm25_search(qtext, 2)\n",
    "recall = recall_k(results, qrels[qid], 10)\n",
    "print(f'recall@10 = {recall}')\n",
    "####"
   ]
  },
  {
   "cell_type": "markdown",
   "metadata": {
    "id": "08NS4RjpNyZ8"
   },
   "source": [
    "---\n",
    "### 4.4 Mean Average Precision (12 points)\n",
    "Implement the `map` metric:"
   ]
  },
  {
   "cell_type": "code",
   "execution_count": 65,
   "metadata": {
    "id": "wXBvfQ0QNyZ8"
   },
   "outputs": [],
   "source": [
    "# TODO: Implement this! (12 points)\n",
    "def average_precision(results, relevant_docs):\n",
    "    \"\"\"\n",
    "        Compute Average Precision (for a single query - the results are \n",
    "        averaged across queries to get MAP in the next few cells)\n",
    "        Hint: You can use the recall_k and precision_k functions here!\n",
    "        Input: \n",
    "            results: A sorted list of 2-tuples (document_id, score), with the most \n",
    "                    relevant document in the first position\n",
    "            relevant_docs: A set of relevant documents. \n",
    "        Output: Average Precision\n",
    "    \"\"\"\n",
    "    # YOUR CODE HERE\n",
    "    relevant_cnt = 0\n",
    "    sum = 0\n",
    "    search_cnt = 0\n",
    "\n",
    "    while relevant_cnt < len(relevant_docs) and search_cnt < len(results):\n",
    "      doc_id, _ = results[search_cnt]\n",
    "      search_cnt += 1\n",
    "      if doc_id in relevant_docs:\n",
    "        relevant_cnt += 1\n",
    "        sum += relevant_cnt / search_cnt\n",
    "\n",
    "    return sum / len(relevant_docs)\n",
    "    # raise NotImplementedError()\n"
   ]
  },
  {
   "cell_type": "code",
   "execution_count": 66,
   "metadata": {
    "colab": {
     "base_uri": "https://localhost:8080/"
    },
    "id": "njcQ_p7qNyZ8",
    "outputId": "333d4fde-618b-4b4d-c294-10b662fb9187"
   },
   "outputs": [
    {
     "name": "stdout",
     "output_type": "stream",
     "text": [
      "query: computational complexity, intractability, class-complete reductions,\n",
      "algorithms and efficiency\n",
      "\n",
      "MAP = 0.17240404110559454\n"
     ]
    }
   ],
   "source": [
    "#### Function check\n",
    "qid = queries[20][0]\n",
    "qtext = queries[20][1]\n",
    "print(f'query:{qtext}')\n",
    "results = bm25_search(qtext, 2)\n",
    "mean_ap = average_precision(results, qrels[qid])\n",
    "print(f'MAP = {mean_ap}')\n",
    "####"
   ]
  },
  {
   "cell_type": "markdown",
   "metadata": {
    "id": "jX68J_bfNyZ8"
   },
   "source": [
    "---\n",
    "### 4.5 Expected Reciprocal Rank (12 points)\n",
    "Implement the `err` metric:"
   ]
  },
  {
   "cell_type": "code",
   "execution_count": 67,
   "metadata": {
    "id": "TfcXuKA3NyZ8"
   },
   "outputs": [],
   "source": [
    "# TODO: Implement this! (12 points)\n",
    "def err(results, relevant_docs):\n",
    "    \"\"\"\n",
    "        Compute the expected reciprocal rank.\n",
    "        Hint: https://dl.acm.org/doi/pdf/10.1145/1645953.1646033?download=true\n",
    "        Input: \n",
    "            results: A sorted list of 2-tuples (document_id, score), with the most \n",
    "                    relevant document in the first position\n",
    "            relevant_docs: A set of relevant documents. \n",
    "        Output: ERR\n",
    "        \n",
    "    \"\"\"\n",
    "    # YOUR CODE HERE\n",
    "    err_score = 0\n",
    "    r_prod = 1\n",
    "\n",
    "    for i, (doc_id, _) in enumerate(results):\n",
    "      if doc_id in relevant_docs:\n",
    "        err_score += 1/(i+1) * r_prod * 0.5\n",
    "        r_prod *= 1 - 0.5\n",
    "    \n",
    "    return err_score\n",
    "    # raise NotImplementedError()"
   ]
  },
  {
   "cell_type": "code",
   "execution_count": 68,
   "metadata": {
    "colab": {
     "base_uri": "https://localhost:8080/"
    },
    "id": "5NVvo9ySNyZ8",
    "outputId": "65c8bba6-b92f-4f39-9f42-73a059242241"
   },
   "outputs": [
    {
     "name": "stdout",
     "output_type": "stream",
     "text": [
      "query: I'd like to find articles describing the use of singular value decomposition\n",
      "in digital image processing.  Applications include finding approximations\n",
      "to the original image and restoring images that are subject to noise. An\n",
      "article on the subject is H.C. Andrews and C.L. Patterson \"Outer product\n",
      "expansions and their uses in digital image processing\", American Mathematical\n",
      "Monthly, vol. 82.\n",
      "\n",
      "ERR = 0.625\n"
     ]
    }
   ],
   "source": [
    "#### Function check\n",
    "qid = queries[30][0]\n",
    "qtext = queries[30][1]\n",
    "print(f'query:{qtext}')\n",
    "results = bm25_search(qtext, 2)\n",
    "ERR = err(results, qrels[qid])\n",
    "print(f'ERR = {ERR}')\n",
    "####"
   ]
  },
  {
   "cell_type": "markdown",
   "metadata": {
    "id": "tzhb7crzNyZ8"
   },
   "source": [
    "---\n",
    "### 4.6 Evaluate Search Functions\n",
    "\n",
    "Let's define some metrics@k using [partial functions](https://docs.python.org/3/library/functools.html#functools.partial)"
   ]
  },
  {
   "cell_type": "code",
   "execution_count": 69,
   "metadata": {
    "id": "6OP_M-QhNyZ9"
   },
   "outputs": [],
   "source": [
    "#### metrics@k functions\n",
    "\n",
    "recall_at_1 = partial(recall_k, k=1)\n",
    "recall_at_5 = partial(recall_k, k=5)\n",
    "recall_at_10 = partial(recall_k, k=10)\n",
    "precision_at_1 = partial(precision_k, k=1)\n",
    "precision_at_5 = partial(precision_k, k=5)\n",
    "precision_at_10 = partial(precision_k, k=10)\n",
    "\n",
    "\n",
    "list_of_metrics = [\n",
    "    (\"ERR\", err),\n",
    "    (\"MAP\", average_precision),\n",
    "    (\"Recall@1\",recall_at_1),\n",
    "    (\"Recall@5\", recall_at_5),\n",
    "    (\"Recall@10\", recall_at_10),\n",
    "    (\"Precision@1\", precision_at_1),\n",
    "    (\"Precision@5\", precision_at_5),\n",
    "    (\"Precision@10\", precision_at_10)]\n",
    "####"
   ]
  },
  {
   "cell_type": "markdown",
   "metadata": {
    "id": "yiNdOM_jNyZ9"
   },
   "source": [
    "---\n",
    "\n",
    "The following function evaluates a `search_fn` using the `metric_fn`. Note that the final number is averaged over all the queries"
   ]
  },
  {
   "cell_type": "code",
   "execution_count": 70,
   "metadata": {
    "id": "7hL0ypKWNyZ9"
   },
   "outputs": [],
   "source": [
    "#### Evaluate a search function\n",
    "\n",
    "list_of_search_fns = [\n",
    "    (\"BOW\", bow_search),\n",
    "    (\"TF-IDF\", tfidf_search),\n",
    "    (\"NaiveQL\", naive_ql_search),\n",
    "    (\"QL\", ql_search),\n",
    "    (\"BM25\", bm25_search)\n",
    "]\n",
    "\n",
    "def evaluate_search_fn(search_fn, metric_fns, index_set=None):\n",
    "    # build a dict query_id -> query \n",
    "    queries_by_id = dict((q[0], q[1]) for q in queries)\n",
    "    \n",
    "    metrics = {}\n",
    "    for metric, metric_fn in metric_fns:\n",
    "        metrics[metric] = np.zeros(len(qrels), dtype=np.float32)\n",
    "    \n",
    "    for i, (query_id, relevant_docs) in enumerate(qrels.items()):\n",
    "        query = queries_by_id[query_id]\n",
    "        if index_set:\n",
    "            results = search_fn(query, index_set)\n",
    "        else:\n",
    "            results = search_fn(query)\n",
    "        \n",
    "        for metric, metric_fn in metric_fns:\n",
    "            metrics[metric][i] = metric_fn(results, relevant_docs)\n",
    "\n",
    "    \n",
    "    \n",
    "    final_dict = {}\n",
    "    for metric, metric_vals in metrics.items():\n",
    "        final_dict[metric] = metric_vals.mean()\n",
    "    \n",
    "    return final_dict\n",
    "####"
   ]
  },
  {
   "cell_type": "markdown",
   "metadata": {
    "id": "FWA6Td1VNyZ9"
   },
   "source": [
    "## Section 5: Analysis (30 points) <a class=\"anchor\" id=\"analysis\"></a>\n",
    "\n",
    "[Back to Part 1](#part1)\n",
    "\n",
    "In the final section of Part1, we will compare the different term-based IR algorithms and different preprocessing configurations and analyze their advantages and disadvantages.\n",
    "\n",
    "### Section 5.1: Plot (20 points)\n",
    "\n",
    "First, gather the results. The results should consider the index set, the different search functions and different metrics. Plot the results in bar charts, per metric, with clear labels.\n",
    "\n",
    "**Rubric:**\n",
    "- Each Metric is plotted: 7 points\n",
    "- Each Method is plotted: 7 points\n",
    "- Clear titles, x label, y labels and legends (if applicable): 6 points"
   ]
  },
  {
   "cell_type": "code",
   "execution_count": 71,
   "metadata": {
    "colab": {
     "base_uri": "https://localhost:8080/",
     "height": 392
    },
    "id": "jTGH258BNyZ9",
    "outputId": "f6aa0791-ca48-4951-847a-b4d472f6a878"
   },
   "outputs": [
    {
     "name": "stdout",
     "output_type": "stream",
     "text": [
      "BOW\n",
      "TF-IDF\n",
      "NaiveQL\n",
      "QL\n",
      "BM25\n"
     ]
    },
    {
     "data": {
      "image/png": "[encoded data removed]",
      "text/plain": [
       "<Figure size 1440x360 with 1 Axes>"
      ]
     },
     "metadata": {
      "needs_background": "light"
     },
     "output_type": "display_data"
    }
   ],
   "source": [
    "# YOUR CODE HERE\n",
    "ERR_1 = {}\n",
    "MAP_1 = {}\n",
    "Precision1_1 = {}\n",
    "Precision10_1 = {}\n",
    "Precision5_1 = {}\n",
    "Recall1_1 = {}\n",
    "Recall10_1 = {}\n",
    "Recall5_1 = {}\n",
    "\n",
    "ERR_2 = {}\n",
    "MAP_2 = {}\n",
    "Precision1_2 = {}\n",
    "Precision10_2 = {}\n",
    "Precision5_2 = {}\n",
    "Recall1_2 = {}\n",
    "Recall10_2 = {}\n",
    "Recall5_2 = {}\n",
    "\n",
    "for x in list_of_search_fns:\n",
    "  print(x[0])\n",
    "  sem_evaluation_1 = evaluate_search_fn(x[1], list_of_metrics, index_set=1)\n",
    "  sem_evaluation_2 = evaluate_search_fn(x[1], list_of_metrics, index_set=2)\n",
    "  ERR_1[x[0]] = sem_evaluation_1.get('ERR')\n",
    "  MAP_1[x[0]] = sem_evaluation_1.get('MAP')\n",
    "  Precision1_1[x[0]] = sem_evaluation_1.get('Precision@1')\n",
    "  Precision10_1[x[0]] = sem_evaluation_1.get('Precision@10')\n",
    "  Precision5_1[x[0]] = sem_evaluation_1.get('Precision@5')\n",
    "  Recall1_1[x[0]] = sem_evaluation_1.get('Recall@1')\n",
    "  Recall10_1[x[0]] = sem_evaluation_1.get('Recall@10')\n",
    "  Recall5_1[x[0]] = sem_evaluation_1.get('Recall@5')\n",
    "\n",
    "  ERR_2[x[0]] = sem_evaluation_2.get('ERR')\n",
    "  MAP_2[x[0]] = sem_evaluation_2.get('MAP')\n",
    "  Precision1_2[x[0]] = sem_evaluation_2.get('Precision@1')\n",
    "  Precision10_2[x[0]] = sem_evaluation_2.get('Precision@10')\n",
    "  Precision5_2[x[0]] = sem_evaluation_2.get('Precision@5')\n",
    "  Recall1_2[x[0]] = sem_evaluation_2.get('Recall@1')\n",
    "  Recall10_2[x[0]] = sem_evaluation_2.get('Recall@10')\n",
    "  Recall5_2[x[0]] = sem_evaluation_2.get('Recall@5')\n",
    "\n",
    "labels = ['ERR', 'MAP', 'Precision@1', 'Precision@10', 'Precision@5', 'Recall@1', 'Recall@10', 'Recall@5'] # labels\n",
    "\n",
    "BOW_list_1 = [ERR_1.get(\"BOW\"), MAP_1.get(\"BOW\"), Precision1_1.get(\"BOW\"), Precision10_1.get(\"BOW\"), Precision5_1.get(\"BOW\"), Recall1_1.get(\"BOW\"), Recall10_1.get(\"BOW\"), Recall5_1.get(\"BOW\")]\n",
    "TF_IDF_list_1 = [ERR_1.get(\"TF-IDF\"), MAP_1.get(\"TF-IDF\"), Precision1_1.get(\"TF-IDF\"), Precision10_1.get(\"TF-IDF\"), Precision5_1.get(\"TF-IDF\"), Recall1_1.get(\"TF-IDF\"), Recall10_1.get(\"TF-IDF\"), Recall5_1.get(\"TF-IDF\")]\n",
    "NaiveQL_list_1 = [ERR_1.get(\"NaiveQL\"), MAP_1.get(\"NaiveQL\"), Precision1_1.get(\"NaiveQL\"), Precision10_1.get(\"NaiveQL\"), Precision5_1.get(\"NaiveQL\"), Recall1_1.get(\"NaiveQL\"), Recall10_1.get(\"NaiveQL\"), Recall5_1.get(\"NaiveQL\")]\n",
    "QL_list_1 = [ERR_1.get(\"QL\"), MAP_1.get(\"QL\"), Precision1_1.get(\"QL\"), Precision10_1.get(\"QL\"), Precision5_1.get(\"QL\"), Recall1_1.get(\"QL\"), Recall10_1.get(\"QL\"), Recall5_1.get(\"QL\")]\n",
    "BM25_list_1 = [ERR_1.get(\"BM25\"), MAP_1.get(\"BM25\"), Precision1_1.get(\"BM25\"), Precision10_1.get(\"BM25\"), Precision5_1.get(\"BM25\"), Recall1_1.get(\"BM25\"), Recall10_1.get(\"BM25\"), Recall5_1.get(\"BM25\")]\n",
    "\n",
    "BOW_list_2 = [ERR_2.get(\"BOW\"), MAP_2.get(\"BOW\"), Precision1_2.get(\"BOW\"), Precision10_2.get(\"BOW\"), Precision5_2.get(\"BOW\"), Recall1_2.get(\"BOW\"), Recall10_2.get(\"BOW\"), Recall5_2.get(\"BOW\")]\n",
    "TF_IDF_list_2 = [ERR_2.get(\"TF-IDF\"), MAP_2.get(\"TF-IDF\"), Precision1_2.get(\"TF-IDF\"), Precision10_2.get(\"TF-IDF\"), Precision5_2.get(\"TF-IDF\"), Recall1_2.get(\"TF-IDF\"), Recall10_2.get(\"TF-IDF\"), Recall5_2.get(\"TF-IDF\")]\n",
    "NaiveQL_list_2 = [ERR_2.get(\"NaiveQL\"), MAP_2.get(\"NaiveQL\"), Precision1_2.get(\"NaiveQL\"), Precision10_2.get(\"NaiveQL\"), Precision5_2.get(\"NaiveQL\"), Recall1_2.get(\"NaiveQL\"), Recall10_2.get(\"NaiveQL\"), Recall5_2.get(\"NaiveQL\")]\n",
    "QL_list_2 = [ERR_2.get(\"QL\"), MAP_2.get(\"QL\"), Precision1_2.get(\"QL\"), Precision10_2.get(\"QL\"), Precision5_2.get(\"QL\"), Recall1_2.get(\"QL\"), Recall10_2.get(\"QL\"), Recall5_2.get(\"QL\")]\n",
    "BM25_list_2 = [ERR_2.get(\"BM25\"), MAP_2.get(\"BM25\"), Precision1_2.get(\"BM25\"), Precision10_2.get(\"BM25\"), Precision5_2.get(\"BM25\"), Recall1_2.get(\"BM25\"), Recall10_2.get(\"BM25\"), Recall5_2.get(\"BM25\")]\n",
    "\n",
    "\n",
    "x = np.arange(len(labels))*2  # the label locations\n",
    "\n",
    "width = 0.1  # the width of the bars\n",
    "\n",
    "fig, ax = plt.subplots(figsize=(20,5))\n",
    "ax.bar(x - 5*width, BOW_list_1, width, label='BOW_list_index1', color = '#1e81b0')\n",
    "ax.bar(x - 4*width, BOW_list_2, width, label='BOW_list_index2', color = '#76b5c5')\n",
    "\n",
    "ax.bar(x - 3*width, TF_IDF_list_1, width, label='TF-IDF_list_index1', color = '#e28743')\n",
    "ax.bar(x - 2*width, TF_IDF_list_2, width, label='TF-IDF_list_index2', color = '#eab676')\n",
    "\n",
    "ax.bar(x - 1*width, NaiveQL_list_1, width, label='NaiveQL_list_index1', color = '#76ea7a')\n",
    "ax.bar(x, NaiveQL_list_2, width, label='NaiveQL_list_index2', color = '#76EAB7')\n",
    "\n",
    "ax.bar(x + 1*width, QL_list_1, width, label='QL_list_index1', color = '#7a76ea')\n",
    "ax.bar(x + 2*width, QL_list_2, width, label='QL_list_index2', color = '#9276EA')\n",
    "\n",
    "ax.bar(x + 3*width, BM25_list_1, width, label='BM25_list_index1', color = '#ea768a')\n",
    "ax.bar(x + 4*width, BM25_list_2, width, label='BM25_list_index2', color = '#ea76B3')\n",
    "\n",
    "\n",
    "# notations\n",
    "ax.set_ylabel('Scores')\n",
    "ax.set_title('Scores by different evaluation metrics for simple IR systems')\n",
    "ax.set_xticks(x)\n",
    "ax.set_xticklabels(labels)\n",
    "ax.legend()\n",
    "\n",
    "fig.tight_layout()\n",
    "\n",
    "plt.show()\n",
    "# raise NotImplementedError()"
   ]
  },
  {
   "cell_type": "markdown",
   "metadata": {
    "id": "kjLEVuD2NyZ9"
   },
   "source": [
    "---\n",
    "### Section 5.2: Summary (10 points)\n",
    "Write a summary of what you observe in the results.\n",
    "Your summary should compare results across the 2 indices and the methods being used. State what you expected to see in the results, followed by either supporting evidence *or* justify why the results did not support your expectations.      "
   ]
  },
  {
   "cell_type": "markdown",
   "metadata": {
    "id": "Owr0rDxtNyZ9"
   },
   "source": [
    "\n",
    "In general, we expect that the models with setting two outform those with setting one in evaluation metrics. Among all models, we also assume BM25 being the most robust model, whereas the naive QL model performs the worst.\n",
    " \n",
    "Looking at the result in evaluation metrics, it is evident that the way text preprocessing significantly influences the quality of retrieved results. In setting 1, the configuration leads to a more extensive inverted index list, as both stopwords and un-stemminized words are kept. On the other hand, after stemming and removing stopwords in setting 2, the number of index terms remarkably decreases, while the retrieval efficiency increases and retrieval effectiveness generally improves. Since the term-based IR techniques rely on the representation of each term, setting one tends to contain excessive redundant information, leading to less irrelevant results. The results in evaluation metrics also align with our expectations. Comparing two settings, all the metrics in setting 2 are generally more significant than their counterparts, showing that the former outperforms the latter in the case of term-based retrieval.\n",
    " \n",
    "Comparing all the methods being used, it is noticeable that BM25 performs the best across the metrics. While BOW and TF-IDF are relatively close in metrics, naive QL seems to perform the poorest but applying smoothing greatly improves QL performance. The BM25 model assumes that relevance is binary and converges on topical relevance, whereas QL incorporates term frequency into a probabilistic model. Since the documents in naive QL are ranked how probable the document language model generates the query text, the performance is easily impacted if one word does not exist in the query, as the score would be set to zero.\n",
    " \n",
    "Reference: \n",
    "1. Croft, W. B., Metzler, D., & Strohman, T. (2010). Search engines: Information retrieval in practice. Boston: Addison-Wesley.\n",
    " \n"
   ]
  },
  {
   "cell_type": "markdown",
   "metadata": {
    "id": "g9MwL4AdNyZ9"
   },
   "source": [
    "---\n",
    "---\n",
    "# Part 2: Semantic-based Matching (85 points) <a class=\"anchor\" id=\"part2\"></a>\n",
    "\n",
    "[Back to top](#top)\n",
    "\n",
    "We will now experiment with methods that go beyond lexical methods like TF-IDF, which operate at the word level and are high dimensional and sparse, and look at methods which constructs low dimensional dense representations of queries and documents. \n",
    "\n",
    "Since these low-dimensional methods have a higher time complexity, they are typically used in conjunction with methods like BM-25. That is, instead of searching through potentially million documents to find matches using low dimensional vectors, a list of K documents are retrieved using BM25, and then **re-ranked** using the other method. This is the method that is going to be applied in the following exercises. \n",
    "\n",
    "LSI/LDA takes documents that are similar on a semantic level - for instance, if they are describing the same topic - and projects them into nearby vectors, despite having low lexical overlap.\n",
    "\n",
    "In this assignment, you will use `gensim` to create LSI/LDA models and use them in re-ranking. \n",
    "\n",
    "**Note**: The following exercises only uses `doc_repr_2` and `config_2`\n",
    "\n",
    "Table of contents:\n",
    "- [Section 6: LSI](#lsi) (15 points)\n",
    "- [Section 7: LDA](#lda) (10 points)\n",
    "- [Section 8: Word2Vec/Doc2Vec](#2vec) (20 points)\n",
    "- [Section 8: Re-ranking](#reranking) (10 points)\n",
    "- [Section 9: Re-ranking Evaluation](#reranking_eval) (30 points)"
   ]
  },
  {
   "cell_type": "markdown",
   "metadata": {
    "id": "l0u5M1uUNyZ9"
   },
   "source": [
    "---\n",
    "## Section 6: Latent Semantic Indexing (LSI) (15 points) <a class=\"anchor\" id=\"lsi\"></a>\n",
    "\n",
    "[Back to Part 2](#part2)\n",
    "\n",
    "LSI is one of the methods to embed the queries and documents into vectors. It is based on a method similar to Principal Component Analysis (PCA) for obtaining a dense concept matrix out of the sparse term-document matrix.\n",
    "\n",
    "See [wikipedia](https://en.wikipedia.org/wiki/Latent_semantic_analysis), particularly [#Mathematics_of_LSI](https://en.wikipedia.org/wiki/Latent_semantic_analysis#Mathematics_of_LSI)."
   ]
  },
  {
   "cell_type": "code",
   "execution_count": 72,
   "metadata": {
    "id": "XsLwUmuJNyZ-"
   },
   "outputs": [],
   "source": [
    "from gensim.corpora import Dictionary\n",
    "from gensim.models import LdaModel, LsiModel, Word2Vec\n",
    "from gensim.models.doc2vec import Doc2Vec, TaggedDocument\n",
    "from gensim import downloader as g_downloader\n",
    "# gensim uses logging, so set it up \n",
    "import logging\n",
    "logging.basicConfig(format='%(asctime)s : %(levelname)s : %(message)s', level=logging.INFO)"
   ]
  },
  {
   "cell_type": "markdown",
   "metadata": {
    "id": "TDiqoodXNyZ-"
   },
   "source": [
    "---\n",
    "### Section 6.1: Cosine Similarity (5 points)<a class=\"anchor\" id=\"cosing_sim\"></a>\n",
    "Before we begin, let us first define our method of similarity for the LSI model, the cosine similarity:\n",
    "\n",
    "$$\\text{similarity} = \\cos(\\theta) = {\\mathbf{A} \\cdot \\mathbf{B} \\over \\|\\mathbf{A}\\| \\|\\mathbf{B}\\|} = \\frac{ \\sum\\limits_{i=1}^{n}{A_i  B_i} }{ \\sqrt{\\sum\\limits_{i=1}^{n}{A_i^2}}  \\sqrt{\\sum\\limits_{i=1}^{n}{B_i^2}} }$$\n",
    "\n",
    "Since we are using gensim, the types of vectors returned by their classes are of the form defined below (they are not just simple vectors):"
   ]
  },
  {
   "cell_type": "code",
   "execution_count": 73,
   "metadata": {
    "id": "lD1BOxSANyZ-"
   },
   "outputs": [],
   "source": [
    "# 1, 2, 3 are either latent dimensions (LSI), or topics (LDA)\n",
    "# The second value in each tuple is a number (LSI) or a probability (LDA)  \n",
    "example_vec_1 = [(1, 0.2), (2, 0.3), (3, 0.4)]\n",
    "example_vec_2 = [(1, 0.2), (2, 0.7), (3, 0.4)]"
   ]
  },
  {
   "cell_type": "markdown",
   "metadata": {
    "id": "o17xOiVGNyZ-"
   },
   "source": [
    "---\n",
    "**Implementation (2+3 points):**\n",
    "Now, implement the `dot product` operation on these types of vectors and using this operator, implement the `cosine similarity` (don't forget: two functions to implement!):"
   ]
  },
  {
   "cell_type": "code",
   "execution_count": 74,
   "metadata": {
    "id": "4XQhhFFZNyZ-"
   },
   "outputs": [],
   "source": [
    "# TODO: Implement this! (2 points)\n",
    "def dot(vec_1,vec_2): \n",
    "    \"\"\"\n",
    "        vec_1 and vec_2 are of the form: [(int, float), (int, float), ...]\n",
    "        Return the dot product of two such vectors, computed only on the floats\n",
    "        You can assume that the lengths of the vectors are the same, and the dimensions are aligned \n",
    "            i.e you won't get: vec_1 = [(1, 0.2)] ; vec_2 = [(2, 0.3)] \n",
    "                                (dimensions are unaligned and lengths are different)\n",
    "    \"\"\"\n",
    "    # YOUR CODE HERE\n",
    "    return sum( [vec_1[i][1]*vec_2[i][1] for i in range(len(vec_1))] )\n",
    "    # raise NotImplementedError()\n",
    "\n",
    "\n",
    "# TODO: Implement this! (3 points)\n",
    "def cosine_sim(vec_1, vec_2):\n",
    "    # YOUR CODE HERE\n",
    "    return dot(vec_1, vec_2)/((np.sqrt(dot(vec_1, vec_1)) * np.sqrt(dot(vec_2, vec_2)))+1e-6)\n",
    "    # raise NotImplementedError()"
   ]
  },
  {
   "cell_type": "code",
   "execution_count": 75,
   "metadata": {
    "colab": {
     "base_uri": "https://localhost:8080/"
    },
    "id": "d-BzeWHtNyZ-",
    "outputId": "98760dee-399d-428f-9131-df4096fc4f48"
   },
   "outputs": [
    {
     "name": "stdout",
     "output_type": "stream",
     "text": [
      "vectors: ([(1, 0.2), (2, 0.3), (3, 0.4)], [(1, 0.2), (2, 0.7), (3, 0.4)])\n",
      "dot product = 0.41000000000000003\n",
      "cosine similarity = 0.9165567107493549\n"
     ]
    }
   ],
   "source": [
    "##### Function check\n",
    "print(f'vectors: {(example_vec_1,example_vec_2)}')\n",
    "print(f'dot product = {dot(example_vec_1,example_vec_2)}')\n",
    "print(f'cosine similarity = {cosine_sim(example_vec_1,example_vec_2)}')\n",
    "##### "
   ]
  },
  {
   "cell_type": "code",
   "execution_count": 76,
   "metadata": {
    "id": "U30TuhuANyZ-"
   },
   "outputs": [],
   "source": [
    "#### Please do not change this. This cell is used for grading."
   ]
  },
  {
   "cell_type": "markdown",
   "metadata": {
    "id": "uMnz_D_WNyZ-"
   },
   "source": [
    "---\n",
    "### Section 6.2: LSI Retrieval (10 points)<a class=\"anchor\" id=\"lsi_retrieval\"></a>\n",
    "LSI retrieval is simply ranking the documents based on their cosine similarity to the query vector.\n",
    "First, let's write a parent class for vector-based retrieval models:"
   ]
  },
  {
   "cell_type": "code",
   "execution_count": 77,
   "metadata": {
    "id": "NlHxaCkCNyZ-"
   },
   "outputs": [],
   "source": [
    "class VectorSpaceRetrievalModel:\n",
    "    \"\"\"\n",
    "        Parent class for Dense Vector Retrieval models\n",
    "    \"\"\"\n",
    "    def __init__(self, doc_repr):\n",
    "        \"\"\"\n",
    "            document_collection: \n",
    "                [\n",
    "                    (doc_id_1, [token 1, token 2, ...]), \n",
    "                    (doc_id_2, [token 1, token 2, ....]) \n",
    "                    ...\n",
    "                ]\n",
    "\n",
    "        \"\"\"\n",
    "        self.doc_repr = doc_repr\n",
    "        self.documents = [_[1] for _ in self.doc_repr]\n",
    "        \n",
    "        # construct a dictionary\n",
    "        self.dictionary = Dictionary(self.documents)\n",
    "        # Filter out words that occur less than 20 documents, or more than 50% of the documents.\n",
    "        self.dictionary.filter_extremes(no_below=10)\n",
    "        self.corpus = [self.dictionary.doc2bow(doc) for doc in self.documents]\n",
    "    \n",
    "        # Make a index to word dictionary.\n",
    "        temp = self.dictionary[0]  # This is only to \"load\" the dictionary.\n",
    "        self.id2word = self.dictionary.id2token\n",
    "        \n",
    "        # this is set by the train_model function\n",
    "        self.model = None\n",
    "        \n",
    "        \n",
    "    def vectorize_documents(self):\n",
    "        \"\"\"\n",
    "            Returns a doc_id -> vector dictionary\n",
    "        \"\"\"\n",
    "        vectors = {}\n",
    "        for (doc_id, _), cc in zip(self.doc_repr, self.corpus):\n",
    "            vectors[doc_id] = self.model[cc]\n",
    "        return vectors\n",
    "\n",
    "    def vectorize_query(self, query):\n",
    "        # Note the use of config_2 here!\n",
    "        query = process_text(query, **config_2)\n",
    "        query_vector = self.dictionary.doc2bow(query)\n",
    "        return self.model[query_vector]\n",
    "    \n",
    "    def train_model(self):\n",
    "        \"\"\"\n",
    "            Trains a model and sets the 'self.model' variable. \n",
    "            Make sure to use the variables created in the __init__ method.\n",
    "            e.g the variables which may be useful: {corpus, dictionary, id2word}\n",
    "        \"\"\"\n",
    "        raise NotImplementedError()"
   ]
  },
  {
   "cell_type": "markdown",
   "metadata": {
    "id": "hSW0pAoxNyZ_"
   },
   "source": [
    "---\n",
    "**Implementation (5 points):**\n",
    "Implement the `train_model` method in the following class (note that this is only one line of code in `gensim`!). Ensure that the parameters defined in the `__init__` method are not changed, and are *used in the `train_method` function*. Normally, the hyperaparameter space will be searched using grid search / other methods - in this assignment we have provided the hyperparameters for you.\n",
    "\n",
    "The last two lines of code train an LSI model on the list of documents which have been stemmed, lower-cased and have stopwords removed. "
   ]
  },
  {
   "cell_type": "code",
   "execution_count": 78,
   "metadata": {
    "id": "sv5wcwXQNyZ_"
   },
   "outputs": [],
   "source": [
    "# TODO: Implement this! (5 points)\n",
    "class LsiRetrievalModel(VectorSpaceRetrievalModel):\n",
    "    def __init__(self, doc_repr):\n",
    "        super().__init__(doc_repr)\n",
    "        \n",
    "        self.num_topics = 100\n",
    "        self.chunksize = 2000\n",
    "    \n",
    "    def train_model(self):\n",
    "        # YOUR CODE HERE\n",
    "        self.model = LsiModel(self.corpus, num_topics=self.num_topics, id2word=self.id2word, chunksize=self.chunksize)\n",
    "        # raise NotImplementedError()"
   ]
  },
  {
   "cell_type": "code",
   "execution_count": 79,
   "metadata": {
    "colab": {
     "base_uri": "https://localhost:8080/"
    },
    "id": "VT8Udr37NyZ_",
    "outputId": "6662a535-1076-4873-d1ca-d92ef1856cfc"
   },
   "outputs": [
    {
     "name": "stderr",
     "output_type": "stream",
     "text": [
      "2021-02-19 22:51:55,543 : INFO : adding document #0 to Dictionary(0 unique tokens: [])\n",
      "2021-02-19 22:51:55,644 : INFO : built Dictionary(5937 unique tokens: ['-', 'algebra', 'intern', 'languag', 'preliminari']...) from 3204 documents (total 115969 corpus positions)\n",
      "2021-02-19 22:51:55,649 : INFO : discarding 4740 tokens: [('repeat', 8), ('glossari', 7), ('inspect', 8), ('uncol', 2), ('rung', 9), ('secant', 2), ('.', 1603), ('acceler', 6), ('diverg', 3), ('induc', 9)]...\n",
      "2021-02-19 22:51:55,649 : INFO : keeping 1197 tokens which were in no less than 10 and no more than 1602 (=50.0%) documents\n",
      "2021-02-19 22:51:55,652 : INFO : resulting dictionary: Dictionary(1197 unique tokens: ['-', 'algebra', 'intern', 'languag', 'preliminari']...)\n",
      "2021-02-19 22:51:55,709 : INFO : using serial LSI version on this node\n",
      "2021-02-19 22:51:55,710 : INFO : updating model with new documents\n",
      "2021-02-19 22:51:55,711 : INFO : preparing a new chunk of documents\n",
      "2021-02-19 22:51:55,721 : INFO : using 100 extra samples and 2 power iterations\n",
      "2021-02-19 22:51:55,722 : INFO : 1st phase: constructing (1197, 200) action matrix\n",
      "2021-02-19 22:51:55,736 : INFO : orthonormalizing (1197, 200) action matrix\n",
      "2021-02-19 22:51:55,775 : INFO : 2nd phase: running dense svd on (200, 2000) matrix\n",
      "2021-02-19 22:51:55,799 : INFO : computing the final decomposition\n",
      "2021-02-19 22:51:55,799 : INFO : keeping 100 factors (discarding 13.438% of energy spectrum)\n",
      "2021-02-19 22:51:55,802 : INFO : processed documents up to #2000\n",
      "2021-02-19 22:51:55,803 : INFO : topic #0(152.127): 0.741*\",\" + 0.342*\"-\" + 0.211*\"system\" + 0.204*\"program\" + 0.192*\"comput\" + 0.146*\"(\" + 0.127*\"languag\" + 0.108*\")\" + 0.084*\"gener\" + 0.083*\"data\"\n",
      "2021-02-19 22:51:55,804 : INFO : topic #1(60.600): -0.607*\"(\" + -0.434*\")\" + -0.366*\"algorithm\" + -0.300*\"-\" + 0.237*\",\" + 0.213*\"system\" + 0.132*\"comput\" + -0.096*\"[\" + 0.093*\"program\" + -0.084*\"])\"\n",
      "2021-02-19 22:51:55,805 : INFO : topic #2(57.438): -0.744*\"-\" + 0.452*\",\" + -0.263*\"system\" + 0.214*\"(\" + 0.166*\")\" + -0.107*\"time\" + -0.105*\"program\" + 0.094*\"algorithm\" + -0.068*\"comput\" + -0.067*\"share\"\n",
      "2021-02-19 22:51:55,805 : INFO : topic #3(48.370): -0.483*\"system\" + -0.375*\"program\" + -0.367*\"comput\" + 0.363*\"-\" + 0.308*\",\" + -0.212*\"(\" + -0.168*\")\" + -0.147*\"algorithm\" + 0.144*\"languag\" + -0.119*\"time\"\n",
      "2021-02-19 22:51:55,806 : INFO : topic #4(45.710): 0.489*\"comput\" + -0.475*\"languag\" + -0.428*\"program\" + 0.238*\"method\" + 0.141*\"problem\" + -0.121*\"system\" + -0.109*\")\" + 0.107*\"equat\" + 0.100*\"algorithm\" + -0.099*\"(\"\n",
      "2021-02-19 22:51:55,807 : INFO : preparing a new chunk of documents\n",
      "2021-02-19 22:51:55,820 : INFO : using 100 extra samples and 2 power iterations\n",
      "2021-02-19 22:51:55,821 : INFO : 1st phase: constructing (1197, 200) action matrix\n",
      "2021-02-19 22:51:55,831 : INFO : orthonormalizing (1197, 200) action matrix\n",
      "2021-02-19 22:51:55,865 : INFO : 2nd phase: running dense svd on (200, 1204) matrix\n",
      "2021-02-19 22:51:55,879 : INFO : computing the final decomposition\n",
      "2021-02-19 22:51:55,880 : INFO : keeping 100 factors (discarding 14.021% of energy spectrum)\n",
      "2021-02-19 22:51:55,882 : INFO : merging projections: (1197, 100) + (1197, 100)\n",
      "2021-02-19 22:51:55,891 : INFO : keeping 100 factors (discarding 8.158% of energy spectrum)\n",
      "2021-02-19 22:51:55,894 : INFO : processed documents up to #3204\n",
      "2021-02-19 22:51:55,895 : INFO : topic #0(225.136): 0.759*\",\" + 0.337*\"-\" + 0.196*\"system\" + 0.186*\"program\" + 0.166*\"comput\" + 0.139*\"(\" + 0.103*\")\" + 0.103*\"algorithm\" + 0.099*\"languag\" + 0.087*\"time\"\n",
      "2021-02-19 22:51:55,896 : INFO : topic #1(87.805): 0.613*\"-\" + -0.399*\",\" + 0.399*\"(\" + 0.326*\"algorithm\" + 0.293*\")\" + -0.129*\"system\" + -0.107*\"program\" + 0.085*\"method\" + 0.077*\"time\" + 0.062*\"1\"\n",
      "2021-02-19 22:51:55,896 : INFO : topic #2(81.909): 0.550*\"-\" + -0.434*\"(\" + 0.355*\"system\" + -0.321*\")\" + -0.291*\",\" + -0.266*\"algorithm\" + 0.146*\"program\" + 0.123*\"comput\" + 0.078*\"time\" + -0.064*\"[\"\n",
      "2021-02-19 22:51:55,897 : INFO : topic #3(72.432): -0.693*\"program\" + 0.339*\",\" + 0.279*\"-\" + -0.251*\"(\" + -0.221*\"system\" + -0.214*\"languag\" + -0.204*\")\" + -0.160*\"comput\" + -0.099*\"data\" + -0.056*\"execut\"\n",
      "2021-02-19 22:51:55,898 : INFO : topic #4(68.523): -0.673*\"system\" + 0.453*\"program\" + 0.254*\"languag\" + 0.212*\"-\" + -0.179*\"comput\" + -0.165*\"(\" + -0.121*\")\" + -0.115*\"model\" + 0.101*\",\" + -0.098*\"algorithm\"\n"
     ]
    },
    {
     "data": {
      "text/plain": [
       "[(0, 0.015215834624246513),\n",
       " (1, -0.016263418262754036),\n",
       " (2, -0.00014924820963127267),\n",
       " (3, -0.001844797397146262),\n",
       " (4, -0.009410782537723221),\n",
       " (5, -0.004655749590977103),\n",
       " (6, 0.02697416610243697),\n",
       " (7, 0.01676131607691515),\n",
       " (8, -0.03199898280428064),\n",
       " (9, -0.0006277968286616149),\n",
       " (10, 0.0020006746702512326),\n",
       " (11, -0.017632346583803832),\n",
       " (12, -0.0001246204641988692),\n",
       " (13, 0.0015568839105128702),\n",
       " (14, 0.004342429014160269),\n",
       " (15, 0.00556500350795988),\n",
       " (16, 0.005426371032274096),\n",
       " (17, 0.002158826503058514),\n",
       " (18, -0.0184276478541636),\n",
       " (19, 0.020291772664427665),\n",
       " (20, -0.009349276487707083),\n",
       " (21, -0.01371997173129846),\n",
       " (22, 0.04833556021434567),\n",
       " (23, 0.02621725627750566),\n",
       " (24, -0.010793875832810303),\n",
       " (25, -0.011512193868802902),\n",
       " (26, 0.006259406188192686),\n",
       " (27, 0.07744628057361455),\n",
       " (28, -0.059762859876259906),\n",
       " (29, 0.03323810612473432),\n",
       " (30, 0.04164645315649476),\n",
       " (31, 0.047716697301490585),\n",
       " (32, -0.07279741968583814),\n",
       " (33, 0.048825064315525135),\n",
       " (34, -0.023973585955118618),\n",
       " (35, 0.057865787935824566),\n",
       " (36, 0.04157821189032394),\n",
       " (37, -0.010838426330088144),\n",
       " (38, -0.059833930181703604),\n",
       " (39, 0.02131585603797649),\n",
       " (40, -0.0420335692544159),\n",
       " (41, -0.03424144831759847),\n",
       " (42, 0.02552140112771937),\n",
       " (43, 0.013487128579207358),\n",
       " (44, 0.02166774930594348),\n",
       " (45, 0.057348141643905386),\n",
       " (46, -0.010272388924649191),\n",
       " (47, 0.00744813157066335),\n",
       " (48, 0.012481533506874858),\n",
       " (49, 0.030711501028357794),\n",
       " (50, 0.023918363625160644),\n",
       " (51, 0.047106843502233146),\n",
       " (52, -0.0133242901151829),\n",
       " (53, -0.00247107664243087),\n",
       " (54, 0.03954222858545224),\n",
       " (55, 0.022135387803708502),\n",
       " (56, -0.017481633022074606),\n",
       " (57, -0.020166237959151623),\n",
       " (58, -0.015227296477276435),\n",
       " (59, 0.04969485208093003),\n",
       " (60, -0.018760364726736683),\n",
       " (61, -0.03825054457869881),\n",
       " (62, -0.02913662368074424),\n",
       " (63, 0.03692637117702),\n",
       " (64, -0.04630291494290928),\n",
       " (65, 0.046792527268865194),\n",
       " (66, 0.010748711166833048),\n",
       " (67, -0.04666211691184251),\n",
       " (68, 0.048950886529255666),\n",
       " (69, -0.04436300919214739),\n",
       " (70, -0.05453453640491521),\n",
       " (71, -0.015104254240669631),\n",
       " (72, 0.04725610964775864),\n",
       " (73, -0.06055212941717092),\n",
       " (74, -0.06268318166840008),\n",
       " (75, 0.009179669917783042),\n",
       " (76, 0.031068135186783544),\n",
       " (77, 0.008524847551758254),\n",
       " (78, 0.054294318313519246),\n",
       " (79, -0.0056635170396460936),\n",
       " (80, -0.02812117171327362),\n",
       " (81, 0.01051531684036439),\n",
       " (82, 0.06331458853854596),\n",
       " (83, -0.01837331050110811),\n",
       " (84, -0.04010018798768497),\n",
       " (85, 0.01850119493936611),\n",
       " (86, 0.004743990630057628),\n",
       " (87, 0.011321492272978415),\n",
       " (88, -0.07663225559508868),\n",
       " (89, -0.07091798306316988),\n",
       " (90, -0.03300204516865838),\n",
       " (91, -0.012633539080098505),\n",
       " (92, 0.025596824547047987),\n",
       " (93, 0.05817435274061611),\n",
       " (94, -0.04428399165596155),\n",
       " (95, -0.008793877921675125),\n",
       " (96, 0.0008844918081112024),\n",
       " (97, -0.021564396673820537),\n",
       " (98, 0.004171824464825035),\n",
       " (99, 0.010430656267268783)]"
      ]
     },
     "execution_count": 79,
     "metadata": {},
     "output_type": "execute_result"
    }
   ],
   "source": [
    "##### Function check\n",
    "lsi = LsiRetrievalModel(doc_repr_2)\n",
    "lsi.train_model()\n",
    "\n",
    "# you can now get an LSI vector for a given query in the following way:\n",
    "lsi.vectorize_query(\"report\")\n",
    "##### "
   ]
  },
  {
   "cell_type": "markdown",
   "metadata": {
    "id": "AZ9kpb87NyZ_"
   },
   "source": [
    "\\#### Please do not change this. This cell is used for grading."
   ]
  },
  {
   "cell_type": "markdown",
   "metadata": {
    "id": "3FbDazU7NyZ_"
   },
   "source": [
    "---\n",
    "Next, implement a basic ranking class for vector space retrieval (used for all semantic methods): "
   ]
  },
  {
   "cell_type": "code",
   "execution_count": 80,
   "metadata": {
    "id": "t29jqKUYNyZ_"
   },
   "outputs": [],
   "source": [
    "# TODO: Implement this! (5 points)\n",
    "import itertools\n",
    "class DenseRetrievalRanker:\n",
    "    def __init__(self, vsrm, similarity_fn):\n",
    "        \"\"\"\n",
    "            vsrm: instance of `VectorSpaceRetrievalModel`\n",
    "            similarity_fn: function instance that takes in two vectors \n",
    "                            and returns a similarity score e.g cosine_sim defined earlier\n",
    "        \"\"\"\n",
    "        self.vsrm = vsrm \n",
    "        self.vectorized_documents = self.vsrm.vectorize_documents()\n",
    "        self.similarity_fn = similarity_fn\n",
    "    \n",
    "    def _compute_sim(self, query_vector):\n",
    "        \"\"\"\n",
    "            Compute the similarity of `query_vector` to documents in \n",
    "            `self.vectorized_documents` using `self.similarity_fn`\n",
    "            Returns a list of (doc_id, score) tuples\n",
    "        \"\"\"\n",
    "        # YOUR CODE HERE\n",
    "        empty_list = []\n",
    "\n",
    "        for key in self.vectorized_documents:\n",
    "          doc_id = key\n",
    "          document_single = self.vectorized_documents.get(key)\n",
    "\n",
    "          if document_single != [] and query_vector != []:\n",
    "            score = self.similarity_fn(document_single,query_vector) # compute similary between the query vector to each vectorized document\n",
    "            empty_list.append(tuple((doc_id, score)))\n",
    "          else:\n",
    "            score = 0\n",
    "            empty_list.append(tuple((doc_id, score)))\n",
    "\n",
    "\n",
    "        return empty_list\n",
    "        # raise NotImplementedError()\n",
    "    \n",
    "    def search(self, query):\n",
    "        scores = self._compute_sim(self.vsrm.vectorize_query(query))\n",
    "        scores.sort(key=lambda _:-_[1])\n",
    "        return scores "
   ]
  },
  {
   "cell_type": "code",
   "execution_count": 81,
   "metadata": {
    "colab": {
     "base_uri": "https://localhost:8080/"
    },
    "id": "bMUEzB_VNyZ_",
    "outputId": "a15a6774-eadd-4366-aabc-bba2adc16f6e"
   },
   "outputs": [
    {
     "data": {
      "text/plain": [
       "[('599', 0.8068677701877416),\n",
       " ('947', 0.5926735760451405),\n",
       " ('53', 0.5007307462029179),\n",
       " ('1339', 0.4451527356465547),\n",
       " ('3160', 0.4409258097578163)]"
      ]
     },
     "execution_count": 81,
     "metadata": {},
     "output_type": "execute_result"
    }
   ],
   "source": [
    "##### Function check\n",
    "drm_lsi = DenseRetrievalRanker(lsi, cosine_sim)\n",
    "drm_lsi.search(\"report\")[:5]\n",
    "##### "
   ]
  },
  {
   "cell_type": "markdown",
   "metadata": {
    "id": "AgK9fD-iNyZ_"
   },
   "source": [
    "\\#### Please do not change this. This cell is used for grading."
   ]
  },
  {
   "cell_type": "markdown",
   "metadata": {
    "id": "zOu5LE34NyZ_"
   },
   "source": [
    "---\n",
    "Now, you can test your LSI model in the following cell: try finding queries which are lexically different to documents, but semantically similar - does LSI work well for these queries?!"
   ]
  },
  {
   "cell_type": "code",
   "execution_count": 82,
   "metadata": {
    "colab": {
     "base_uri": "https://localhost:8080/",
     "height": 49,
     "referenced_widgets": [
      "56084253838740e2b8c958a439e997c6",
      "5a95c4a6dbe24f91b2c5b7a65376b590",
      "4ec6170bbcae48dc8c41adba6f85f5da"
     ]
    },
    "id": "TsZNCpFVNyaA",
    "outputId": "8b9ecd1d-0cc3-4554-c38f-18bf672f7e81"
   },
   "outputs": [
    {
     "data": {
      "application/vnd.jupyter.widget-view+json": {
       "model_id": "e8bc48667ffa403488c4a17a7148a391",
       "version_major": 2,
       "version_minor": 0
      },
      "text/plain": [
       "Text(value='', description='Search Bar')"
      ]
     },
     "metadata": {},
     "output_type": "display_data"
    }
   ],
   "source": [
    "# test your LSI model\n",
    "search_fn = drm_lsi.search\n",
    "\n",
    "text = widgets.Text(description=\"Search Bar\", width=200)\n",
    "display(text)\n",
    "\n",
    "def make_results_2(query, search_fn):\n",
    "    results = []\n",
    "    for doc_id, score in search_fn(query):\n",
    "        highlight = highlight_text(docs_by_id[doc_id], query)\n",
    "        if len(highlight.strip()) == 0:\n",
    "            highlight = docs_by_id[doc_id]\n",
    "        results.append(ResultRow(doc_id, highlight, score))\n",
    "    return results\n",
    "\n",
    "def handle_submit_2(sender):\n",
    "    print(f\"Searching for: '{sender.value}' (SEARCH FN: {search_fn})\")\n",
    "    \n",
    "    results = make_results_2(sender.value, search_fn)\n",
    "    \n",
    "    # display only the top 5\n",
    "    results = results[:5]\n",
    "    \n",
    "    body = \"\"\n",
    "    for idx, r in enumerate(results):\n",
    "        body += f\"<li>Document #{r.doc_id}({r.score}): {r.snippet}</li>\"\n",
    "    display(HTML(f\"<ul>{body}</ul>\"))\n",
    "    \n",
    "\n",
    "text.on_submit(handle_submit_2)"
   ]
  },
  {
   "cell_type": "markdown",
   "metadata": {
    "id": "Fo5n4slyNyaA"
   },
   "source": [
    "---\n",
    "## Section 7: Latent Dirichlet Allocation (LDA) (10 points) <a class=\"anchor\" id=\"lda\"></a>\n",
    "\n",
    "[Back to Part 2](#part2)\n",
    "\n",
    "The specifics of LDA is out of the scope of this assignment, but we will use the `gensim` implementation to perform search using LDA over our small document collection. The key thing to remember is that LDA, unlike LSI, outputs a topic **distribution**, not a vector. With that in mind, let's first define a similarity measure.\n"
   ]
  },
  {
   "cell_type": "markdown",
   "metadata": {
    "id": "CPKK_jw6NyaA"
   },
   "source": [
    "---\n",
    "### Section 7.1: Jenson-Shannon divergence (5 points) <a class=\"anchor\" id=\"js_sim\"></a>\n",
    "\n",
    "The Jenson-Shannon divergence is a symmetric and finite measure on two probability distributions (unlike the KL, which is neither). For identical distributions, the JSD is equal to 0, and since our code uses 0 as irrelevant and higher scores as relevant, we use `(1 - JSD)` as the score or 'similarity' in our setup\n",
    "\n",
    "**Note**: the JSD is bounded to \\[0,1\\] only if we use log base 2. So please ensure that you're using `np.log2` instead of `np.log`"
   ]
  },
  {
   "cell_type": "code",
   "execution_count": 83,
   "metadata": {
    "id": "b3z0cgEPNyaA"
   },
   "outputs": [],
   "source": [
    "## TODO: Implement this! (5 points)\n",
    "def jenson_shannon_divergence(vec_1, vec_2, assert_prob=False):\n",
    "    \"\"\"\n",
    "        Computes the Jensen-Shannon divergence between two probability distributions. \n",
    "        NOTE: DO NOT RETURN 1 - JSD here, that is handled by the next function which is already implemented! \n",
    "        The inputs are *gensim* vectors - same as the vectors for the cosine_sim function\n",
    "        assert_prob is a flag that checks if the inputs are proper probability distributions \n",
    "            i.e they sum to 1 and are positive - use this to check your inputs if needed. \n",
    "                (This is optional to implement, but recommended - \n",
    "                you can the default to False to save a few ms off the runtime)\n",
    "    \"\"\"\n",
    "    # YOUR CODE HERE\n",
    "    _vec_1 = np.asarray(vec_1) / sum(n for _, n in vec_1)\n",
    "    _vec_2 = np.asarray(vec_2) / sum(n for _, n in vec_2)\n",
    "    _avg = 0.5 * (_vec_1 + _vec_2)\n",
    "    \n",
    "    def KL(a,b):\n",
    "      a = np.asarray([x[1] for x in a], dtype=np.float)\n",
    "      b = np.asarray([x[1] for x in b], dtype=np.float)\n",
    "\n",
    "      return np.sum(np.where(a != 0, a * np.log2(a / b), 0))\n",
    "\n",
    "    return 0.5 * (KL(_vec_1, _avg) + KL(_vec_2, _avg))\n",
    "    # raise NotImplementedError()\n",
    "\n",
    "def jenson_shannon_sim(vec_1, vec_2, assert_prob=False):\n",
    "    return 1 - jenson_shannon_divergence(vec_1, vec_2)\n",
    "\n"
   ]
  },
  {
   "cell_type": "code",
   "execution_count": 84,
   "metadata": {
    "colab": {
     "base_uri": "https://localhost:8080/"
    },
    "id": "sX1mqCygNyaA",
    "outputId": "a32a96df-fa74-4dee-806a-72188c403fef"
   },
   "outputs": [
    {
     "data": {
      "text/plain": [
       "0.9251064410358459"
      ]
     },
     "execution_count": 84,
     "metadata": {},
     "output_type": "execute_result"
    }
   ],
   "source": [
    "##### Function check\n",
    "vec_1 = [(1, 0.3), (2, 0.4), (3, 0.3)]\n",
    "vec_2 = [(1, 0.1), (2, 0.7), (3, 0.2)]\n",
    "jenson_shannon_sim(vec_1, vec_2, assert_prob=True)\n",
    "##### "
   ]
  },
  {
   "cell_type": "markdown",
   "metadata": {
    "id": "Zjv0CHsLNyaA"
   },
   "source": [
    "---\n",
    "### Section 7.2: LDA retrieval (5 points) <a class=\"anchor\" id=\"lda_ret\"></a>\n",
    "\n",
    "Implement the `train_model` method in the following class (note that this is only one line of code in `gensim`!). Ensure that the parameters defined in the `__init__` method are not changed, and are *used in the `train_method` function*. You do not need to set this. Normally, the hyperaparameter space will be searched using grid search / other methods. Note that training the LDA model might take some time\n",
    "\n",
    "The last two lines of code train an LDA model on the list of documents which have been stemmed, lower-cased and have stopwords removed. "
   ]
  },
  {
   "cell_type": "code",
   "execution_count": 85,
   "metadata": {
    "id": "fTh0-seuNyaA"
   },
   "outputs": [],
   "source": [
    "# TODO: Implement this! (5 points)\n",
    "class LdaRetrievalModel(VectorSpaceRetrievalModel):\n",
    "    def __init__(self, doc_repr):\n",
    "        super().__init__(doc_repr)\n",
    "        \n",
    "        # use these parameters in the train_model method\n",
    "        self.num_topics = 100\n",
    "        self.chunksize = 2000\n",
    "        self.passes = 20\n",
    "        self.iterations = 400\n",
    "        self.eval_every = 10\n",
    "        # this is need to get full vectors\n",
    "        self.minimum_probability=0.0\n",
    "        self.alpha='auto'\n",
    "        self.eta='auto'\n",
    "    \n",
    "    \n",
    "    def train_model(self):\n",
    "        # YOUR CODE HERE\n",
    "        self.model = LdaModel(self.corpus, self.num_topics, id2word=self.id2word, chunksize=self.chunksize,\n",
    "                              passes=self.passes, iterations=self.iterations, eval_every=self.eval_every, \n",
    "                              minimum_probability=self.minimum_probability, alpha=self.alpha, eta=self.eta)\n",
    "        # raise NotImplementedError()"
   ]
  },
  {
   "cell_type": "code",
   "execution_count": 86,
   "metadata": {
    "colab": {
     "base_uri": "https://localhost:8080/"
    },
    "id": "pTUgTmBfNyaA",
    "outputId": "df4c141f-e8df-4801-abd9-259b2845881c"
   },
   "outputs": [
    {
     "name": "stderr",
     "output_type": "stream",
     "text": [
      "2021-02-19 22:51:56,778 : INFO : adding document #0 to Dictionary(0 unique tokens: [])\n",
      "2021-02-19 22:51:56,880 : INFO : built Dictionary(5937 unique tokens: ['-', 'algebra', 'intern', 'languag', 'preliminari']...) from 3204 documents (total 115969 corpus positions)\n",
      "2021-02-19 22:51:56,885 : INFO : discarding 4740 tokens: [('repeat', 8), ('glossari', 7), ('inspect', 8), ('uncol', 2), ('rung', 9), ('secant', 2), ('.', 1603), ('acceler', 6), ('diverg', 3), ('induc', 9)]...\n",
      "2021-02-19 22:51:56,886 : INFO : keeping 1197 tokens which were in no less than 10 and no more than 1602 (=50.0%) documents\n",
      "2021-02-19 22:51:56,889 : INFO : resulting dictionary: Dictionary(1197 unique tokens: ['-', 'algebra', 'intern', 'languag', 'preliminari']...)\n",
      "2021-02-19 22:51:56,944 : INFO : using autotuned alpha, starting with [0.01, 0.01, 0.01, 0.01, 0.01, 0.01, 0.01, 0.01, 0.01, 0.01, 0.01, 0.01, 0.01, 0.01, 0.01, 0.01, 0.01, 0.01, 0.01, 0.01, 0.01, 0.01, 0.01, 0.01, 0.01, 0.01, 0.01, 0.01, 0.01, 0.01, 0.01, 0.01, 0.01, 0.01, 0.01, 0.01, 0.01, 0.01, 0.01, 0.01, 0.01, 0.01, 0.01, 0.01, 0.01, 0.01, 0.01, 0.01, 0.01, 0.01, 0.01, 0.01, 0.01, 0.01, 0.01, 0.01, 0.01, 0.01, 0.01, 0.01, 0.01, 0.01, 0.01, 0.01, 0.01, 0.01, 0.01, 0.01, 0.01, 0.01, 0.01, 0.01, 0.01, 0.01, 0.01, 0.01, 0.01, 0.01, 0.01, 0.01, 0.01, 0.01, 0.01, 0.01, 0.01, 0.01, 0.01, 0.01, 0.01, 0.01, 0.01, 0.01, 0.01, 0.01, 0.01, 0.01, 0.01, 0.01, 0.01, 0.01]\n",
      "2021-02-19 22:51:56,945 : INFO : using serial LDA version on this node\n",
      "2021-02-19 22:51:56,956 : INFO : running online (multi-pass) LDA training, 100 topics, 20 passes over the supplied corpus of 3204 documents, updating model once every 2000 documents, evaluating perplexity every 3204 documents, iterating 400x with a convergence threshold of 0.001000\n",
      "2021-02-19 22:51:56,957 : INFO : PROGRESS: pass 0, at document #2000/3204\n",
      "2021-02-19 22:51:58,413 : INFO : optimized alpha [0.009788489, 0.009798996, 0.00980391, 0.009804105, 0.009865791, 0.0098403, 0.009968559, 0.009783266, 0.009871758, 0.009819655, 0.0098765595, 0.009897629, 0.009793536, 0.009778065, 0.009803688, 0.009804208, 0.00977796, 0.009845172, 0.009850902, 0.009891554, 0.009793734, 0.0098354975, 0.009995383, 0.009773041, 0.009860663, 0.009803988, 0.009814162, 0.009762583, 0.009772824, 0.009830027, 0.009845043, 0.009778047, 0.0098036695, 0.009819513, 0.00980398, 0.009809261, 0.009881897, 0.009856142, 0.009825008, 0.00980913, 0.009767802, 0.0097938115, 0.0098193735, 0.009819662, 0.009829826, 0.009778017, 0.0098250555, 0.009814679, 0.009803903, 0.009850789, 0.009844502, 0.00985001, 0.0098090395, 0.009839771, 0.009788415, 0.009783241, 0.009788565, 0.009814072, 0.009803954, 0.009773042, 0.009960346, 0.009934377, 0.009856216, 0.009850612, 0.009767696, 0.00989273, 0.009793598, 0.009829593, 0.009778029, 0.0098038735, 0.009808992, 0.009803836, 0.0097988015, 0.009772843, 0.009778015, 0.009887148, 0.009938454, 0.00983562, 0.009877231, 0.009871351, 0.009819851, 0.009803968, 0.009855144, 0.009819262, 0.00990174, 0.009856453, 0.0097782, 0.009773118, 0.009912918, 0.009923392, 0.009902346, 0.009798828, 0.009804153, 0.009825043, 0.009888124, 0.009818651, 0.009829753, 0.009788439, 0.009783213, 0.009819543]\n",
      "2021-02-19 22:51:58,418 : INFO : merging changes from 2000 documents into a model of 3204 documents\n",
      "2021-02-19 22:51:58,424 : INFO : topic #59 (0.010): 0.043*\"comput\" + 0.039*\"potenti\" + 0.039*\"languag\" + 0.035*\"measur\" + 0.035*\"-\" + 0.033*\"problem\" + 0.024*\",\" + 0.020*\"fulli\" + 0.020*\"paramet\" + 0.020*\"nest\"\n",
      "2021-02-19 22:51:58,425 : INFO : topic #27 (0.010): 0.061*\"])\" + 0.061*\"larg\" + 0.061*\"s15\" + 0.061*\"function\" + 0.061*\"[\" + 0.061*\"-\" + 0.061*\"error\" + 0.061*\"(\" + 0.061*\"algorithm\" + 0.000*\"respons\"\n",
      "2021-02-19 22:51:58,425 : INFO : topic #61 (0.010): 0.059*\"-\" + 0.059*\",\" + 0.024*\"languag\" + 0.024*\"program\" + 0.023*\"comput\" + 0.020*\"system\" + 0.016*\"algorithm\" + 0.009*\"translat\" + 0.009*\"method\" + 0.008*\"statement\"\n",
      "2021-02-19 22:51:58,426 : INFO : topic #76 (0.010): 0.072*\",\" + 0.030*\"-\" + 0.029*\"(\" + 0.017*\"system\" + 0.016*\"program\" + 0.015*\")\" + 0.014*\"algorithm\" + 0.012*\"logic\" + 0.012*\"answer\" + 0.011*\"order\"\n",
      "2021-02-19 22:51:58,426 : INFO : topic #22 (0.010): 0.063*\",\" + 0.030*\"comput\" + 0.029*\"-\" + 0.020*\"(\" + 0.018*\"program\" + 0.017*\"algorithm\" + 0.017*\")\" + 0.016*\"system\" + 0.016*\"languag\" + 0.010*\"techniqu\"\n",
      "2021-02-19 22:51:58,427 : INFO : topic diff=82.775909, rho=1.000000\n",
      "2021-02-19 22:51:59,320 : INFO : -7.290 per-word bound, 156.5 perplexity estimate based on a held-out corpus of 1204 documents with 49783 words\n",
      "2021-02-19 22:51:59,321 : INFO : PROGRESS: pass 0, at document #3204/3204\n",
      "2021-02-19 22:52:00,042 : INFO : optimized alpha [0.009799965, 0.010333282, 0.00992107, 0.009880606, 0.010136468, 0.009846879, 0.010039519, 0.010033684, 0.009973538, 0.010096952, 0.009978073, 0.010112702, 0.009780317, 0.009707463, 0.010059033, 0.009951597, 0.009701221, 0.010120868, 0.009969454, 0.010145175, 0.009981775, 0.010025401, 0.0101011535, 0.009923803, 0.009960559, 0.010013912, 0.009731553, 0.009500994, 0.009986348, 0.009952743, 0.01012179, 0.009707268, 0.009850256, 0.0100028915, 0.009785972, 0.009998423, 0.009995101, 0.009916187, 0.009991471, 0.009790878, 0.009930727, 0.010088109, 0.009936517, 0.010015087, 0.009982675, 0.009876929, 0.010203523, 0.009974885, 0.009956541, 0.0100584775, 0.010047359, 0.009872579, 0.009884933, 0.009756576, 0.009935121, 0.009736592, 0.009905673, 0.010163288, 0.009938029, 0.009895758, 0.010236981, 0.010144463, 0.009975477, 0.010081187, 0.0096974, 0.010114609, 0.010002939, 0.0101179695, 0.009742105, 0.009845039, 0.009844478, 0.009756177, 0.00981044, 0.009696558, 0.009858528, 0.010496845, 0.01001357, 0.010114434, 0.010177618, 0.010072185, 0.01019839, 0.0099573145, 0.010013746, 0.009830363, 0.0098172845, 0.01000573, 0.009849459, 0.009960363, 0.0099594705, 0.009999245, 0.010063094, 0.009887152, 0.009970034, 0.010097448, 0.009994224, 0.009787916, 0.009981955, 0.010045269, 0.009735702, 0.01024381]\n",
      "2021-02-19 22:52:00,048 : INFO : merging changes from 1204 documents into a model of 3204 documents\n",
      "2021-02-19 22:52:00,054 : INFO : topic #27 (0.010): 0.030*\"])\" + 0.030*\"larg\" + 0.030*\"s15\" + 0.030*\"function\" + 0.030*\"[\" + 0.030*\"-\" + 0.030*\"error\" + 0.030*\"(\" + 0.030*\"algorithm\" + 0.001*\"respons\"\n",
      "2021-02-19 22:52:00,054 : INFO : topic #31 (0.010): 0.165*\"select\" + 0.108*\"definit\" + 0.070*\"gener\" + 0.048*\"-\" + 0.046*\"algorithm\" + 0.046*\"purpos\" + 0.041*\"'\" + 0.040*\"routin\" + 0.038*\"terminolog\" + 0.032*\"program\"\n",
      "2021-02-19 22:52:00,055 : INFO : topic #99 (0.010): 0.090*\"tree\" + 0.071*\",\" + 0.048*\"search\" + 0.043*\"averag\" + 0.036*\"node\" + 0.027*\"time\" + 0.026*\"structur\" + 0.022*\"set\" + 0.021*\"-\" + 0.017*\"updat\"\n",
      "2021-02-19 22:52:00,056 : INFO : topic #1 (0.010): 0.055*\",\" + 0.040*\"hash\" + 0.034*\"storag\" + 0.032*\"method\" + 0.025*\"induct\" + 0.024*\"system\" + 0.021*\"linear\" + 0.021*\"size\" + 0.021*\"code\" + 0.019*\"cluster\"\n",
      "2021-02-19 22:52:00,057 : INFO : topic #75 (0.010): 0.088*\",\" + 0.038*\"-\" + 0.032*\"algorithm\" + 0.028*\"(\" + 0.017*\")\" + 0.014*\"log\" + 0.012*\"1\" + 0.012*\"shown\" + 0.012*\"method\" + 0.011*\"comparison\"\n",
      "2021-02-19 22:52:00,057 : INFO : topic diff=0.748168, rho=0.707107\n",
      "2021-02-19 22:52:00,064 : INFO : PROGRESS: pass 1, at document #2000/3204\n",
      "2021-02-19 22:52:00,920 : INFO : optimized alpha [0.009881326, 0.010233381, 0.009923716, 0.009903609, 0.010055272, 0.009815424, 0.009993638, 0.009959541, 0.009886191, 0.010081683, 0.009880044, 0.010081804, 0.009790287, 0.009849488, 0.010094037, 0.0099145295, 0.00965259, 0.010128943, 0.009889719, 0.010061194, 0.01004527, 0.009936712, 0.00999998, 0.009986394, 0.009928754, 0.00997557, 0.009711589, 0.009358138, 0.009982017, 0.010000459, 0.010008262, 0.009761489, 0.0098702945, 0.0099916905, 0.009720669, 0.009984722, 0.009917905, 0.009877926, 0.009919814, 0.009777737, 0.009945654, 0.01004812, 0.009886385, 0.009947733, 0.009896857, 0.009853493, 0.010153865, 0.009977252, 0.010012456, 0.00999297, 0.010009506, 0.0103963595, 0.009888346, 0.009894192, 0.009945856, 0.009706187, 0.009879917, 0.01018993, 0.009975151, 0.009822251, 0.010182771, 0.010091542, 0.010007998, 0.010009411, 0.0100037055, 0.010024086, 0.009985804, 0.01009132, 0.009721119, 0.009890711, 0.009827822, 0.009709596, 0.0098597, 0.009914617, 0.009874564, 0.01038494, 0.009949242, 0.010042335, 0.010129483, 0.010074127, 0.010176255, 0.009972946, 0.009983661, 0.009771765, 0.009717582, 0.009949816, 0.009917289, 0.009909006, 0.009843017, 0.009940936, 0.009981462, 0.009829876, 0.009852875, 0.010028376, 0.010050663, 0.009800021, 0.009920303, 0.009962971, 0.009906715, 0.010156922]\n"
     ]
    },
    {
     "name": "stderr",
     "output_type": "stream",
     "text": [
      "2021-02-19 22:52:00,926 : INFO : merging changes from 2000 documents into a model of 3204 documents\n",
      "2021-02-19 22:52:00,932 : INFO : topic #27 (0.009): 0.089*\"function\" + 0.073*\"larg\" + 0.050*\"s15\" + 0.037*\"error\" + 0.027*\"])\" + 0.021*\"-\" + 0.016*\"[\" + 0.015*\"(\" + 0.015*\"algorithm\" + 0.001*\"polygon\"\n",
      "2021-02-19 22:52:00,932 : INFO : topic #16 (0.010): 0.127*\"number\" + 0.124*\"round\" + 0.116*\"sum\" + 0.060*\"accumul\" + 0.051*\",\" + 0.049*\"schedul\" + 0.048*\"vari\" + 0.044*\"recogn\" + 0.035*\"sign\" + 0.026*\"algorithm\"\n",
      "2021-02-19 22:52:00,933 : INFO : topic #60 (0.010): 0.087*\",\" + 0.064*\"-\" + 0.037*\"system\" + 0.023*\"program\" + 0.019*\"comput\" + 0.016*\"\"\" + 0.013*\"control\" + 0.012*\"data\" + 0.011*\"user\" + 0.011*\"design\"\n",
      "2021-02-19 22:52:00,933 : INFO : topic #51 (0.010): 0.160*\"algorithm\" + 0.155*\"(\" + 0.134*\"[\" + 0.121*\"])\" + 0.044*\")\" + 0.023*\"-\" + 0.019*\"gener\" + 0.018*\"normal\" + 0.017*\"number\" + 0.015*\"random\"\n",
      "2021-02-19 22:52:00,934 : INFO : topic #75 (0.010): 0.091*\",\" + 0.039*\"-\" + 0.028*\"algorithm\" + 0.027*\"(\" + 0.016*\")\" + 0.013*\"1\" + 0.012*\"program\" + 0.012*\"log\" + 0.011*\"comparison\" + 0.011*\"method\"\n",
      "2021-02-19 22:52:00,935 : INFO : topic diff=0.301355, rho=0.526900\n",
      "2021-02-19 22:52:01,843 : INFO : -6.906 per-word bound, 120.0 perplexity estimate based on a held-out corpus of 1204 documents with 49783 words\n",
      "2021-02-19 22:52:01,844 : INFO : PROGRESS: pass 1, at document #3204/3204\n",
      "2021-02-19 22:52:02,574 : INFO : optimized alpha [0.010043103, 0.0105374325, 0.010059639, 0.0100137815, 0.01024405, 0.009857616, 0.01002912, 0.010138645, 0.009922708, 0.010294242, 0.009961239, 0.010224491, 0.009829392, 0.009909149, 0.010370059, 0.010077982, 0.009684794, 0.010240674, 0.010009643, 0.01025091, 0.010288118, 0.010025732, 0.0100124115, 0.010243679, 0.009967786, 0.010136692, 0.009628108, 0.009184567, 0.010304839, 0.0101352595, 0.010215579, 0.009870142, 0.009931347, 0.010195358, 0.009749195, 0.010179089, 0.009998208, 0.009941065, 0.010062137, 0.009805423, 0.010176799, 0.010282709, 0.010043973, 0.010102855, 0.010028933, 0.009980223, 0.010499874, 0.010127458, 0.010125813, 0.010206488, 0.010192977, 0.010408816, 0.01005439, 0.00987605, 0.010183419, 0.009751926, 0.009998473, 0.01057232, 0.010136583, 0.010045043, 0.010385696, 0.010212231, 0.010114098, 0.01018675, 0.010497626, 0.010104515, 0.010283414, 0.010298649, 0.009825562, 0.010092324, 0.009855048, 0.009767374, 0.009947529, 0.009978757, 0.010043321, 0.010740997, 0.010028048, 0.010264855, 0.0104052555, 0.0102054775, 0.010458351, 0.010104865, 0.010123812, 0.009834165, 0.009704017, 0.010097227, 0.0100676045, 0.010106188, 0.009897237, 0.009993742, 0.010047827, 0.009997429, 0.010021023, 0.010178966, 0.010156687, 0.009865564, 0.010043072, 0.01023027, 0.009952815, 0.010523709]\n",
      "2021-02-19 22:52:02,580 : INFO : merging changes from 1204 documents into a model of 3204 documents\n",
      "2021-02-19 22:52:02,586 : INFO : topic #27 (0.009): 0.133*\"function\" + 0.039*\"larg\" + 0.026*\"s15\" + 0.020*\"error\" + 0.015*\"])\" + 0.011*\"-\" + 0.009*\"[\" + 0.008*\"(\" + 0.008*\"algorithm\" + 0.001*\"polygon\"\n",
      "2021-02-19 22:52:02,587 : INFO : topic #26 (0.010): 0.087*\"analysi\" + 0.074*\"(\" + 0.059*\")\" + 0.050*\"algorithm\" + 0.040*\"multipl\" + 0.039*\"varianc\" + 0.034*\"calculu\" + 0.033*\",\" + 0.028*\"oper\" + 0.027*\";\"\n",
      "2021-02-19 22:52:02,587 : INFO : topic #46 (0.010): 0.064*\",\" + 0.062*\"program\" + 0.043*\"structur\" + 0.042*\"implement\" + 0.040*\"data\" + 0.036*\"system\" + 0.032*\"languag\" + 0.018*\"base\" + 0.016*\"design\" + 0.015*\"function\"\n",
      "2021-02-19 22:52:02,588 : INFO : topic #57 (0.011): 0.174*\"]\" + 0.146*\"[\" + 0.109*\"algorithm\" + 0.108*\"(\" + 0.088*\")\" + 0.027*\"function\" + 0.022*\"justifi\" + 0.020*\"-\" + 0.018*\"calcul\" + 0.016*\"integ\"\n",
      "2021-02-19 22:52:02,589 : INFO : topic #75 (0.011): 0.097*\",\" + 0.043*\"-\" + 0.031*\"algorithm\" + 0.024*\"(\" + 0.020*\"log\" + 0.015*\"shown\" + 0.014*\")\" + 0.013*\"1\" + 0.013*\"bound\" + 0.013*\"delet\"\n",
      "2021-02-19 22:52:02,589 : INFO : topic diff=0.392566, rho=0.526900\n",
      "2021-02-19 22:52:02,596 : INFO : PROGRESS: pass 2, at document #2000/3204\n",
      "2021-02-19 22:52:03,440 : INFO : optimized alpha [0.010237486, 0.010440879, 0.0100733405, 0.010069588, 0.010197301, 0.009856633, 0.01001613, 0.010098138, 0.009861786, 0.010313087, 0.009904467, 0.010191779, 0.009859566, 0.010119306, 0.010452424, 0.010075364, 0.009690874, 0.010275976, 0.009956075, 0.010192685, 0.010394232, 0.009972254, 0.009909461, 0.010384115, 0.009966505, 0.01010435, 0.009653699, 0.009080646, 0.01031896, 0.010193553, 0.010138333, 0.009980423, 0.009972385, 0.010232291, 0.009700257, 0.010201224, 0.009935803, 0.009919976, 0.0100201415, 0.009843447, 0.010233317, 0.010269404, 0.01003907, 0.010076402, 0.009967446, 0.009989694, 0.01046643, 0.010162146, 0.010181505, 0.010178281, 0.010187372, 0.010945463, 0.010112971, 0.010029121, 0.010241331, 0.009753474, 0.009982725, 0.010564176, 0.010230581, 0.010013601, 0.010356112, 0.010189664, 0.010190233, 0.010129775, 0.011463763, 0.010025858, 0.010298872, 0.010268298, 0.009834457, 0.010166958, 0.00987167, 0.009747568, 0.01008497, 0.010190463, 0.010103777, 0.0106373485, 0.010000305, 0.010209119, 0.010394365, 0.010216455, 0.010448337, 0.010139502, 0.010115578, 0.009804477, 0.009658476, 0.010080722, 0.01020608, 0.010069165, 0.009818129, 0.009938649, 0.009981884, 0.009964969, 0.009945711, 0.01014396, 0.010282684, 0.009902062, 0.0100123035, 0.010171508, 0.010168473, 0.010459365]\n",
      "2021-02-19 22:52:03,446 : INFO : merging changes from 2000 documents into a model of 3204 documents\n",
      "2021-02-19 22:52:03,451 : INFO : topic #27 (0.009): 0.356*\"function\" + 0.099*\"larg\" + 0.025*\"s15\" + 0.014*\"error\" + 0.006*\"])\" + 0.005*\"-\" + 0.003*\"[\" + 0.003*\"(\" + 0.003*\"algorithm\" + 0.000*\"polygon\"\n",
      "2021-02-19 22:52:03,452 : INFO : topic #16 (0.010): 0.216*\"number\" + 0.134*\"sum\" + 0.126*\"round\" + 0.073*\"accumul\" + 0.051*\"recogn\" + 0.045*\",\" + 0.044*\"vari\" + 0.043*\"sign\" + 0.020*\"equal\" + 0.019*\"gener\"\n",
      "2021-02-19 22:52:03,453 : INFO : topic #75 (0.011): 0.100*\",\" + 0.043*\"-\" + 0.028*\"algorithm\" + 0.025*\"(\" + 0.017*\"log\" + 0.014*\"shown\" + 0.014*\")\" + 0.014*\"1\" + 0.013*\"comparison\" + 0.012*\"bound\"\n",
      "2021-02-19 22:52:03,453 : INFO : topic #51 (0.011): 0.168*\"algorithm\" + 0.167*\"(\" + 0.165*\"[\" + 0.150*\"])\" + 0.027*\")\" + 0.023*\"-\" + 0.021*\"gener\" + 0.019*\"random\" + 0.018*\"number\" + 0.018*\"normal\"\n",
      "2021-02-19 22:52:03,454 : INFO : topic #64 (0.011): 0.306*\"(\" + 0.300*\")\" + 0.269*\"algorithm\" + 0.045*\"integr\" + 0.016*\"chain\" + 0.013*\"link\" + 0.010*\"remov\" + 0.009*\"item\" + 0.008*\"-\" + 0.008*\"d1\"\n",
      "2021-02-19 22:52:03,455 : INFO : topic diff=0.376730, rho=0.466151\n",
      "2021-02-19 22:52:04,390 : INFO : -6.789 per-word bound, 110.6 perplexity estimate based on a held-out corpus of 1204 documents with 49783 words\n",
      "2021-02-19 22:52:04,391 : INFO : PROGRESS: pass 2, at document #3204/3204\n",
      "2021-02-19 22:52:05,155 : INFO : optimized alpha [0.01046508, 0.010660144, 0.01021749, 0.010163408, 0.01036542, 0.009906647, 0.010044432, 0.010293381, 0.009903477, 0.010518963, 0.010012451, 0.010322782, 0.009921588, 0.010201806, 0.010708345, 0.010229123, 0.0097771, 0.010403, 0.010102473, 0.010393626, 0.010628253, 0.010059607, 0.009927094, 0.010635349, 0.0100133065, 0.010263795, 0.009612944, 0.009047032, 0.0106418915, 0.01031312, 0.010335149, 0.010154213, 0.010038064, 0.010438142, 0.009764957, 0.010374508, 0.010039064, 0.009988507, 0.010190597, 0.009926223, 0.010460159, 0.010491081, 0.010222673, 0.010266274, 0.010089179, 0.010114737, 0.010815456, 0.010287673, 0.010277271, 0.010413405, 0.010346946, 0.010926248, 0.01031593, 0.010062712, 0.010481726, 0.009878911, 0.010115631, 0.010893688, 0.010398019, 0.010232172, 0.010529023, 0.010309216, 0.010303909, 0.0103157405, 0.012213944, 0.010086426, 0.010622367, 0.010445175, 0.009950528, 0.010446154, 0.009915917, 0.009860341, 0.010189713, 0.010276771, 0.010289491, 0.010931392, 0.010086525, 0.010419709, 0.010707376, 0.010288913, 0.010705216, 0.010236738, 0.010259903, 0.009902849, 0.009709709, 0.010251361, 0.01041595, 0.010237321, 0.009860071, 0.009998474, 0.010053525, 0.010138185, 0.01013444, 0.010293918, 0.010465625, 0.009995186, 0.010137523, 0.0104187345, 0.010219037, 0.010801662]\n",
      "2021-02-19 22:52:05,161 : INFO : merging changes from 1204 documents into a model of 3204 documents\n",
      "2021-02-19 22:52:05,167 : INFO : topic #27 (0.009): 0.813*\"function\" + 0.047*\"larg\" + 0.004*\"s15\" + 0.002*\"error\" + 0.001*\"])\" + 0.001*\"-\" + 0.001*\"[\" + 0.001*\"(\" + 0.000*\"algorithm\" + 0.000*\"polygon\"\n"
     ]
    },
    {
     "name": "stderr",
     "output_type": "stream",
     "text": [
      "2021-02-19 22:52:05,167 : INFO : topic #26 (0.010): 0.151*\"analysi\" + 0.060*\"multipl\" + 0.053*\"varianc\" + 0.051*\"(\" + 0.041*\")\" + 0.039*\"oper\" + 0.038*\"prime\" + 0.036*\"calculu\" + 0.030*\",\" + 0.030*\"algorithm\"\n",
      "2021-02-19 22:52:05,168 : INFO : topic #75 (0.011): 0.105*\",\" + 0.047*\"-\" + 0.031*\"algorithm\" + 0.023*\"log\" + 0.022*\"(\" + 0.018*\"shown\" + 0.016*\"bound\" + 0.015*\"delet\" + 0.014*\"condit\" + 0.013*\"comparison\"\n",
      "2021-02-19 22:52:05,168 : INFO : topic #51 (0.011): 0.167*\"(\" + 0.166*\"algorithm\" + 0.150*\"[\" + 0.118*\"])\" + 0.031*\")\" + 0.025*\"random\" + 0.025*\"-\" + 0.024*\"normal\" + 0.024*\"gener\" + 0.023*\"number\"\n",
      "2021-02-19 22:52:05,169 : INFO : topic #64 (0.012): 0.315*\"(\" + 0.302*\")\" + 0.278*\"algorithm\" + 0.033*\"integr\" + 0.015*\"chain\" + 0.012*\"remov\" + 0.009*\"item\" + 0.009*\"link\" + 0.009*\"-\" + 0.006*\"d1\"\n",
      "2021-02-19 22:52:05,169 : INFO : topic diff=0.503978, rho=0.466151\n",
      "2021-02-19 22:52:05,176 : INFO : PROGRESS: pass 3, at document #2000/3204\n",
      "2021-02-19 22:52:05,969 : INFO : optimized alpha [0.010733749, 0.010580645, 0.010229567, 0.010218796, 0.010324744, 0.009925594, 0.010053235, 0.01027757, 0.009877633, 0.010548529, 0.009987202, 0.010308467, 0.009980828, 0.010434443, 0.0108050965, 0.010237203, 0.009828452, 0.010476914, 0.0100689065, 0.010357587, 0.010760854, 0.0100378, 0.009854052, 0.010811468, 0.010030004, 0.010236098, 0.00967442, 0.009211419, 0.010681445, 0.010370462, 0.010264283, 0.010297783, 0.010039001, 0.010486603, 0.009750818, 0.0104048, 0.010000377, 0.009970208, 0.010180419, 0.009984242, 0.010537246, 0.010484397, 0.0102390675, 0.010278716, 0.010038075, 0.0101598445, 0.010793148, 0.010323452, 0.010336736, 0.01040849, 0.010368074, 0.011426994, 0.010434073, 0.010209572, 0.010537909, 0.009930398, 0.010118409, 0.010850528, 0.010541114, 0.010226161, 0.010517571, 0.010295467, 0.010386202, 0.010300799, 0.013323887, 0.010032096, 0.01065642, 0.010414272, 0.009956556, 0.010528543, 0.009955046, 0.009861369, 0.010389521, 0.010508753, 0.010381205, 0.010844123, 0.010077013, 0.010374643, 0.010731647, 0.01031022, 0.010717031, 0.010296607, 0.010276195, 0.009888995, 0.009692702, 0.010266564, 0.010605081, 0.010218374, 0.009807412, 0.009958318, 0.0100078145, 0.010123235, 0.010076238, 0.010285834, 0.010601249, 0.010047543, 0.010113897, 0.010365807, 0.010433008, 0.010751128]\n",
      "2021-02-19 22:52:05,975 : INFO : merging changes from 2000 documents into a model of 3204 documents\n",
      "2021-02-19 22:52:05,981 : INFO : topic #27 (0.009): 0.901*\"function\" + 0.031*\"larg\" + 0.001*\"s15\" + 0.001*\"error\" + 0.000*\"])\" + 0.000*\"-\" + 0.000*\"[\" + 0.000*\"(\" + 0.000*\"algorithm\" + 0.000*\"polygon\"\n",
      "2021-02-19 22:52:05,981 : INFO : topic #26 (0.010): 0.196*\"analysi\" + 0.060*\"varianc\" + 0.055*\"multipl\" + 0.040*\"(\" + 0.033*\"oper\" + 0.033*\"prime\" + 0.032*\"magnet\" + 0.031*\")\" + 0.029*\"complet\" + 0.027*\"calculu\"\n",
      "2021-02-19 22:52:05,982 : INFO : topic #14 (0.011): 0.134*\"comput\" + 0.087*\"area\" + 0.084*\"comment\" + 0.076*\"problem\" + 0.062*\"integ\" + 0.053*\"method\" + 0.048*\"program\" + 0.032*\"classic\" + 0.031*\"'\" + 0.029*\"survey\"\n",
      "2021-02-19 22:52:05,983 : INFO : topic #51 (0.011): 0.180*\"[\" + 0.179*\"(\" + 0.176*\"algorithm\" + 0.166*\"])\" + 0.023*\"-\" + 0.019*\"random\" + 0.018*\"normal\" + 0.018*\"gener\" + 0.017*\"s14\" + 0.017*\"number\"\n",
      "2021-02-19 22:52:05,983 : INFO : topic #64 (0.013): 0.325*\"(\" + 0.320*\")\" + 0.275*\"algorithm\" + 0.029*\"integr\" + 0.012*\"chain\" + 0.008*\"-\" + 0.007*\"remov\" + 0.006*\"item\" + 0.005*\"link\" + 0.003*\"d1\"\n",
      "2021-02-19 22:52:05,984 : INFO : topic diff=0.516824, rho=0.422502\n",
      "2021-02-19 22:52:06,862 : INFO : -6.707 per-word bound, 104.5 perplexity estimate based on a held-out corpus of 1204 documents with 49783 words\n",
      "2021-02-19 22:52:06,862 : INFO : PROGRESS: pass 3, at document #3204/3204\n",
      "2021-02-19 22:52:07,562 : INFO : optimized alpha [0.010973951, 0.010766309, 0.010364737, 0.010285847, 0.010504107, 0.009992939, 0.01009399, 0.010481653, 0.009920171, 0.010733543, 0.01008594, 0.010420669, 0.010044418, 0.010537179, 0.01104436, 0.0104143005, 0.009962732, 0.010599754, 0.010249328, 0.010541355, 0.010972137, 0.010139165, 0.009917703, 0.01107345, 0.010112128, 0.010385485, 0.009669091, 0.009386821, 0.011017595, 0.010505087, 0.010451653, 0.010489482, 0.010102592, 0.010667834, 0.009827524, 0.010570507, 0.010119657, 0.01005454, 0.010369266, 0.010101984, 0.01074559, 0.010698626, 0.010417962, 0.010456524, 0.0101530105, 0.010292013, 0.011135223, 0.010437787, 0.010409091, 0.01064667, 0.010536261, 0.011389562, 0.010664025, 0.010235681, 0.010773694, 0.010115315, 0.010236263, 0.011135318, 0.0106977755, 0.010473625, 0.010687079, 0.010415456, 0.01051171, 0.010496667, 0.014222779, 0.010106085, 0.010959265, 0.010587018, 0.010059147, 0.010801422, 0.010023853, 0.009981681, 0.010520832, 0.010633711, 0.01058803, 0.011121683, 0.010195293, 0.010563624, 0.011024829, 0.010390998, 0.010945438, 0.01039599, 0.010437093, 0.010000155, 0.009809278, 0.010451905, 0.010817211, 0.0103720855, 0.009860836, 0.010010185, 0.010102168, 0.010267464, 0.010277558, 0.010444334, 0.010776257, 0.010139443, 0.010260576, 0.010600119, 0.010510226, 0.011096846]\n",
      "2021-02-19 22:52:07,567 : INFO : merging changes from 1204 documents into a model of 3204 documents\n",
      "2021-02-19 22:52:07,573 : INFO : topic #27 (0.009): 0.935*\"function\" + 0.021*\"larg\" + 0.001*\"s15\" + 0.000*\"error\" + 0.000*\"])\" + 0.000*\"-\" + 0.000*\"[\" + 0.000*\"(\" + 0.000*\"algorithm\" + 0.000*\"polygon\"\n",
      "2021-02-19 22:52:07,574 : INFO : topic #26 (0.010): 0.211*\"analysi\" + 0.063*\"multipl\" + 0.058*\"varianc\" + 0.056*\"prime\" + 0.039*\"oper\" + 0.036*\"calculu\" + 0.034*\"complet\" + 0.034*\"(\" + 0.026*\",\" + 0.026*\")\"\n",
      "2021-02-19 22:52:07,574 : INFO : topic #46 (0.011): 0.066*\",\" + 0.059*\"data\" + 0.058*\"implement\" + 0.058*\"program\" + 0.053*\"structur\" + 0.038*\"system\" + 0.027*\"languag\" + 0.025*\"design\" + 0.023*\"base\" + 0.017*\"abstract\"\n",
      "2021-02-19 22:52:07,575 : INFO : topic #51 (0.011): 0.179*\"(\" + 0.174*\"algorithm\" + 0.168*\"[\" + 0.140*\"])\" + 0.025*\"normal\" + 0.023*\"-\" + 0.021*\"random\" + 0.020*\"number\" + 0.020*\"a1\" + 0.020*\"s14\"\n",
      "2021-02-19 22:52:07,575 : INFO : topic #64 (0.014): 0.333*\"(\" + 0.319*\")\" + 0.279*\"algorithm\" + 0.024*\"integr\" + 0.011*\"chain\" + 0.008*\"-\" + 0.006*\"remov\" + 0.005*\"item\" + 0.004*\"link\" + 0.003*\"d1\"\n",
      "2021-02-19 22:52:07,576 : INFO : topic diff=0.625169, rho=0.422502\n",
      "2021-02-19 22:52:07,582 : INFO : PROGRESS: pass 4, at document #2000/3204\n",
      "2021-02-19 22:52:08,335 : INFO : optimized alpha [0.011274178, 0.010692634, 0.010381755, 0.01033346, 0.010496809, 0.010020693, 0.0101305805, 0.010470105, 0.009909218, 0.010774994, 0.010076985, 0.010415809, 0.010121251, 0.010782646, 0.011126909, 0.010439548, 0.01005105, 0.010693184, 0.010235643, 0.010509506, 0.011104188, 0.010133321, 0.009871442, 0.011258023, 0.010151591, 0.010357531, 0.009745607, 0.009594587, 0.011052176, 0.01057224, 0.010393828, 0.010650173, 0.01011571, 0.010724713, 0.009849523, 0.010604185, 0.010092144, 0.01004009, 0.010375472, 0.010173538, 0.010829261, 0.010697648, 0.010440571, 0.01046751, 0.010110309, 0.010333791, 0.011120484, 0.010464507, 0.010476677, 0.010672365, 0.010571927, 0.011859652, 0.010796534, 0.010360526, 0.010845882, 0.010194527, 0.01025082, 0.011080099, 0.010850299, 0.010466533, 0.010690825, 0.010419227, 0.010593973, 0.010494386, 0.015465107, 0.010063087, 0.010991081, 0.010568238, 0.010066813, 0.010904539, 0.010072194, 0.009988451, 0.010762334, 0.010862268, 0.010687355, 0.011047959, 0.010206574, 0.0105379075, 0.011054376, 0.010423176, 0.01096599, 0.010471866, 0.010476237, 0.009995318, 0.009824477, 0.010483768, 0.011033227, 0.010356194, 0.009829085, 0.009978249, 0.010060598, 0.010265623, 0.01024497, 0.010460939, 0.010926057, 0.010201882, 0.010248529, 0.0105561, 0.010686088, 0.011053349]\n",
      "2021-02-19 22:52:08,341 : INFO : merging changes from 2000 documents into a model of 3204 documents\n",
      "2021-02-19 22:52:08,346 : INFO : topic #27 (0.010): 0.941*\"function\" + 0.020*\"larg\" + 0.000*\"s15\" + 0.000*\"error\" + 0.000*\"])\" + 0.000*\"-\" + 0.000*\"[\" + 0.000*\"(\" + 0.000*\"algorithm\" + 0.000*\"polygon\"\n",
      "2021-02-19 22:52:08,347 : INFO : topic #26 (0.010): 0.240*\"analysi\" + 0.064*\"varianc\" + 0.054*\"multipl\" + 0.045*\"prime\" + 0.038*\"complet\" + 0.034*\"magnet\" + 0.032*\"oper\" + 0.028*\"calculu\" + 0.026*\"(\" + 0.024*\",\"\n",
      "2021-02-19 22:52:08,348 : INFO : topic #23 (0.011): 0.273*\"/\" + 0.103*\"ibm\" + 0.087*\"approxim\" + 0.047*\"360\" + 0.041*\"interv\" + 0.040*\"error\" + 0.040*\"start\" + 0.033*\"rang\" + 0.031*\"analyt\" + 0.024*\"period\"\n"
     ]
    },
    {
     "name": "stderr",
     "output_type": "stream",
     "text": [
      "2021-02-19 22:52:08,348 : INFO : topic #51 (0.012): 0.191*\"[\" + 0.187*\"(\" + 0.182*\"algorithm\" + 0.176*\"])\" + 0.022*\"-\" + 0.019*\"normal\" + 0.018*\"s14\" + 0.017*\"a1\" + 0.016*\"number\" + 0.015*\"random\"\n",
      "2021-02-19 22:52:08,349 : INFO : topic #64 (0.015): 0.337*\"(\" + 0.330*\")\" + 0.274*\"algorithm\" + 0.024*\"integr\" + 0.009*\"chain\" + 0.007*\"-\" + 0.004*\"item\" + 0.004*\"remov\" + 0.002*\"link\" + 0.002*\"d1\"\n",
      "2021-02-19 22:52:08,349 : INFO : topic diff=0.611990, rho=0.389191\n",
      "2021-02-19 22:52:09,179 : INFO : -6.648 per-word bound, 100.3 perplexity estimate based on a held-out corpus of 1204 documents with 49783 words\n",
      "2021-02-19 22:52:09,180 : INFO : PROGRESS: pass 4, at document #3204/3204\n",
      "2021-02-19 22:52:09,863 : INFO : optimized alpha [0.011540236, 0.010851363, 0.010524045, 0.010388901, 0.0106807, 0.010116146, 0.010185186, 0.010660342, 0.009985156, 0.010957827, 0.0101787895, 0.01055082, 0.010189932, 0.0108871255, 0.011353855, 0.010604402, 0.010240757, 0.010827687, 0.010420501, 0.010690799, 0.011286761, 0.010240887, 0.009947522, 0.011518346, 0.0102476245, 0.010496323, 0.009775817, 0.009833654, 0.011386168, 0.010734897, 0.010574905, 0.01083944, 0.010175076, 0.010882819, 0.009936809, 0.010751256, 0.010216198, 0.010125201, 0.010595858, 0.010296178, 0.011051718, 0.010904319, 0.010637442, 0.010643284, 0.010237167, 0.010449879, 0.011485885, 0.010591025, 0.010553911, 0.0109511, 0.010738657, 0.011814385, 0.011025526, 0.010394289, 0.011080195, 0.010466816, 0.010343733, 0.011342812, 0.011020181, 0.010725145, 0.010855608, 0.010530693, 0.0107032545, 0.010697302, 0.016451402, 0.010132389, 0.011275303, 0.010739317, 0.0101589365, 0.01117848, 0.0101491865, 0.01012305, 0.01088014, 0.011008799, 0.010877158, 0.011314169, 0.010326532, 0.01073447, 0.011365922, 0.010498243, 0.011189823, 0.010580829, 0.010625544, 0.010105203, 0.009981104, 0.010684059, 0.011246163, 0.010532757, 0.009882619, 0.010020444, 0.010155072, 0.010423266, 0.010462428, 0.010594339, 0.0111034075, 0.010283698, 0.010391617, 0.010778356, 0.010774075, 0.011392086]\n",
      "2021-02-19 22:52:09,869 : INFO : merging changes from 1204 documents into a model of 3204 documents\n",
      "2021-02-19 22:52:09,874 : INFO : topic #26 (0.010): 0.262*\"analysi\" + 0.068*\"prime\" + 0.060*\"varianc\" + 0.053*\"multipl\" + 0.043*\"complet\" + 0.037*\"oper\" + 0.034*\"calculu\" + 0.023*\",\" + 0.022*\"(\" + 0.022*\"magnet\"\n",
      "2021-02-19 22:52:09,875 : INFO : topic #27 (0.010): 0.953*\"function\" + 0.015*\"larg\" + 0.000*\"s15\" + 0.000*\"error\" + 0.000*\"])\" + 0.000*\"-\" + 0.000*\"[\" + 0.000*\"(\" + 0.000*\"algorithm\" + 0.000*\"polygon\"\n",
      "2021-02-19 22:52:09,875 : INFO : topic #0 (0.012): 0.139*\"equat\" + 0.119*\"integr\" + 0.090*\"solut\" + 0.058*\"method\" + 0.054*\"differenti\" + 0.047*\"numer\" + 0.039*\"'\" + 0.036*\"differ\" + 0.036*\",\" + 0.036*\"algorithm\"\n",
      "2021-02-19 22:52:09,876 : INFO : topic #51 (0.012): 0.188*\"(\" + 0.180*\"algorithm\" + 0.178*\"[\" + 0.152*\"])\" + 0.025*\"normal\" + 0.024*\"a1\" + 0.022*\"-\" + 0.021*\"s14\" + 0.019*\"gauss\" + 0.017*\"random\"\n",
      "2021-02-19 22:52:09,876 : INFO : topic #64 (0.016): 0.345*\"(\" + 0.330*\")\" + 0.273*\"algorithm\" + 0.021*\"integr\" + 0.008*\"chain\" + 0.008*\"-\" + 0.004*\"remov\" + 0.003*\"item\" + 0.002*\"d1\" + 0.002*\"link\"\n",
      "2021-02-19 22:52:09,877 : INFO : topic diff=0.676861, rho=0.389191\n",
      "2021-02-19 22:52:09,883 : INFO : PROGRESS: pass 5, at document #2000/3204\n",
      "2021-02-19 22:52:10,646 : INFO : optimized alpha [0.011848354, 0.010786644, 0.010549347, 0.010433913, 0.01069065, 0.0101514915, 0.010229298, 0.010654593, 0.009982858, 0.010992223, 0.010185729, 0.010565524, 0.010277239, 0.011130843, 0.011445297, 0.010627588, 0.010371947, 0.010939184, 0.010420401, 0.010668268, 0.0114319045, 0.010248721, 0.009921593, 0.011701942, 0.010299468, 0.010475904, 0.009867582, 0.010058055, 0.011420672, 0.010797822, 0.010526209, 0.010997649, 0.010191594, 0.010934026, 0.009977631, 0.010800122, 0.01019059, 0.010121471, 0.010614347, 0.010367209, 0.011139863, 0.010916492, 0.010673413, 0.010658866, 0.010203093, 0.010488983, 0.011483898, 0.010621851, 0.010623341, 0.011003994, 0.010777735, 0.012263356, 0.011172585, 0.010512033, 0.011149402, 0.010576996, 0.010359546, 0.0112915775, 0.011174491, 0.01072273, 0.010862842, 0.0105438735, 0.010796075, 0.0107002985, 0.01779871, 0.010091342, 0.011309807, 0.010725109, 0.01016826, 0.01128722, 0.01021512, 0.010138432, 0.011128338, 0.011240454, 0.010984274, 0.011243642, 0.010335235, 0.010723361, 0.01140245, 0.01053258, 0.011207998, 0.01069266, 0.0106775025, 0.01010637, 0.0100295525, 0.010736684, 0.011474909, 0.010513475, 0.009857641, 0.009988127, 0.010122395, 0.010440306, 0.01043849, 0.010619396, 0.011271434, 0.010349881, 0.010383971, 0.01074986, 0.010934531, 0.011350551]\n",
      "2021-02-19 22:52:10,652 : INFO : merging changes from 2000 documents into a model of 3204 documents\n",
      "2021-02-19 22:52:10,657 : INFO : topic #88 (0.010): 0.076*\"-\" + 0.068*\",\" + 0.059*\"multiprogram\" + 0.032*\"program\" + 0.031*\"environ\" + 0.030*\"system\" + 0.028*\"comput\" + 0.024*\"driven\" + 0.018*\"design\" + 0.017*\"page\"\n",
      "2021-02-19 22:52:10,658 : INFO : topic #26 (0.010): 0.282*\"analysi\" + 0.065*\"varianc\" + 0.054*\"prime\" + 0.046*\"multipl\" + 0.045*\"complet\" + 0.034*\"magnet\" + 0.031*\"oper\" + 0.026*\"calculu\" + 0.021*\",\" + 0.020*\"output\"\n",
      "2021-02-19 22:52:10,659 : INFO : topic #0 (0.012): 0.143*\"equat\" + 0.126*\"integr\" + 0.093*\"solut\" + 0.063*\"numer\" + 0.060*\"method\" + 0.056*\"differenti\" + 0.039*\"'\" + 0.038*\",\" + 0.033*\"differ\" + 0.029*\"interpol\"\n",
      "2021-02-19 22:52:10,659 : INFO : topic #51 (0.012): 0.196*\"[\" + 0.193*\"(\" + 0.187*\"algorithm\" + 0.181*\"])\" + 0.022*\"-\" + 0.020*\"normal\" + 0.019*\"a1\" + 0.019*\"s14\" + 0.014*\"s15\" + 0.014*\"random\"\n",
      "2021-02-19 22:52:10,660 : INFO : topic #64 (0.018): 0.345*\"(\" + 0.337*\")\" + 0.269*\"algorithm\" + 0.021*\"integr\" + 0.007*\"-\" + 0.007*\"chain\" + 0.003*\"remov\" + 0.003*\"item\" + 0.001*\"d1\" + 0.001*\"link\"\n",
      "2021-02-19 22:52:10,661 : INFO : topic diff=0.622956, rho=0.362690\n",
      "2021-02-19 22:52:11,488 : INFO : -6.603 per-word bound, 97.2 perplexity estimate based on a held-out corpus of 1204 documents with 49783 words\n",
      "2021-02-19 22:52:11,489 : INFO : PROGRESS: pass 5, at document #3204/3204\n",
      "2021-02-19 22:52:12,168 : INFO : optimized alpha [0.012126988, 0.010922716, 0.010683133, 0.010498844, 0.010867156, 0.010253685, 0.010296297, 0.010853271, 0.010072922, 0.0111577725, 0.010306235, 0.010705434, 0.010347731, 0.011251262, 0.011673437, 0.01078609, 0.010592161, 0.011078699, 0.0106043145, 0.010839038, 0.011589802, 0.010371512, 0.0100176055, 0.011963097, 0.010392767, 0.010612856, 0.009919472, 0.010326188, 0.01175215, 0.010957505, 0.010706212, 0.011176359, 0.01025675, 0.01108623, 0.010074736, 0.010961335, 0.010297985, 0.010210912, 0.010832597, 0.010488573, 0.011360446, 0.011124581, 0.010872053, 0.010850367, 0.010322536, 0.010604401, 0.011832065, 0.01072452, 0.010702173, 0.011285709, 0.010951135, 0.0122113135, 0.011399499, 0.010549635, 0.011384508, 0.010884937, 0.010453189, 0.011553516, 0.011337769, 0.010970886, 0.011021484, 0.010664702, 0.010908176, 0.010881968, 0.018858034, 0.010156959, 0.01158269, 0.010902428, 0.010258049, 0.011554359, 0.010296626, 0.0102774035, 0.011238009, 0.011371108, 0.011183273, 0.011494899, 0.010454354, 0.010915154, 0.011709294, 0.010631899, 0.011426183, 0.010804384, 0.010824341, 0.010222007, 0.010225998, 0.010942168, 0.011707768, 0.010679732, 0.009923551, 0.01002858, 0.010220438, 0.010610996, 0.01065645, 0.010751169, 0.011455703, 0.010439065, 0.010518614, 0.010985711, 0.011022972, 0.011678865]\n",
      "2021-02-19 22:52:12,174 : INFO : merging changes from 1204 documents into a model of 3204 documents\n",
      "2021-02-19 22:52:12,180 : INFO : topic #88 (0.010): 0.082*\"-\" + 0.068*\",\" + 0.064*\"multiprogram\" + 0.035*\"environ\" + 0.032*\"driven\" + 0.030*\"system\" + 0.030*\"program\" + 0.027*\"comput\" + 0.019*\"frame\" + 0.019*\"page\"\n",
      "2021-02-19 22:52:12,180 : INFO : topic #26 (0.010): 0.307*\"analysi\" + 0.075*\"prime\" + 0.060*\"varianc\" + 0.049*\"complet\" + 0.044*\"multipl\" + 0.035*\"oper\" + 0.032*\"calculu\" + 0.023*\"magnet\" + 0.021*\",\" + 0.019*\"output\"\n",
      "2021-02-19 22:52:12,181 : INFO : topic #0 (0.012): 0.147*\"equat\" + 0.119*\"integr\" + 0.101*\"solut\" + 0.057*\"method\" + 0.056*\"differenti\" + 0.053*\"numer\" + 0.039*\"'\" + 0.038*\",\" + 0.035*\"differ\" + 0.031*\"interpol\"\n",
      "2021-02-19 22:52:12,182 : INFO : topic #51 (0.012): 0.193*\"(\" + 0.184*\"algorithm\" + 0.184*\"[\" + 0.160*\"])\" + 0.026*\"a1\" + 0.025*\"normal\" + 0.022*\"-\" + 0.021*\"s14\" + 0.019*\"gauss\" + 0.017*\"g5\"\n"
     ]
    },
    {
     "name": "stderr",
     "output_type": "stream",
     "text": [
      "2021-02-19 22:52:12,182 : INFO : topic #64 (0.019): 0.352*\"(\" + 0.337*\")\" + 0.266*\"algorithm\" + 0.019*\"integr\" + 0.007*\"-\" + 0.006*\"chain\" + 0.003*\"remov\" + 0.002*\"item\" + 0.001*\"d1\" + 0.001*\"link\"\n",
      "2021-02-19 22:52:12,183 : INFO : topic diff=0.648232, rho=0.362690\n",
      "2021-02-19 22:52:12,189 : INFO : PROGRESS: pass 6, at document #2000/3204\n",
      "2021-02-19 22:52:12,965 : INFO : optimized alpha [0.012432586, 0.010863924, 0.010705085, 0.01053989, 0.010879877, 0.010294251, 0.010356085, 0.010856354, 0.01009537, 0.011195675, 0.010326992, 0.010733852, 0.0104342755, 0.011494933, 0.011753674, 0.010820694, 0.010749893, 0.011216894, 0.010605403, 0.01082117, 0.011728104, 0.010396746, 0.009993569, 0.012144932, 0.010452713, 0.010600869, 0.01001523, 0.010556287, 0.011800887, 0.011026253, 0.0106654335, 0.011335095, 0.0102745285, 0.011142202, 0.010123895, 0.011012926, 0.01028118, 0.010213001, 0.010866161, 0.010561326, 0.011457348, 0.01113348, 0.010918551, 0.010879405, 0.010297661, 0.010643143, 0.011846069, 0.010757482, 0.0107718045, 0.011358214, 0.01099709, 0.012640591, 0.01155916, 0.010667095, 0.011457306, 0.010999095, 0.01048452, 0.011503616, 0.011483146, 0.010974819, 0.011041405, 0.010675324, 0.010994296, 0.010895428, 0.020303374, 0.010131489, 0.011620094, 0.010894065, 0.010272342, 0.011667158, 0.010364552, 0.010293528, 0.011490079, 0.011589588, 0.011288753, 0.011439104, 0.010466115, 0.010907767, 0.011762767, 0.010677378, 0.011436673, 0.0109404605, 0.010873385, 0.010231877, 0.010304925, 0.011004695, 0.0119442195, 0.010662966, 0.009900743, 0.010006186, 0.01019706, 0.010632132, 0.010641955, 0.010780367, 0.01162037, 0.010503669, 0.010509477, 0.0109763825, 0.011175957, 0.011641105]\n",
      "2021-02-19 22:52:12,971 : INFO : merging changes from 2000 documents into a model of 3204 documents\n",
      "2021-02-19 22:52:12,976 : INFO : topic #88 (0.010): 0.079*\"-\" + 0.068*\",\" + 0.063*\"multiprogram\" + 0.034*\"environ\" + 0.032*\"program\" + 0.031*\"system\" + 0.029*\"comput\" + 0.025*\"driven\" + 0.018*\"page\" + 0.017*\"design\"\n",
      "2021-02-19 22:52:12,977 : INFO : topic #22 (0.010): 0.082*\",\" + 0.041*\"strategi\" + 0.041*\"boundari\" + 0.035*\"comput\" + 0.030*\"polygon\" + 0.028*\"formul\" + 0.026*\"-\" + 0.023*\"algorithm\" + 0.018*\"techniqu\" + 0.017*\"usual\"\n",
      "2021-02-19 22:52:12,978 : INFO : topic #0 (0.012): 0.151*\"equat\" + 0.125*\"integr\" + 0.103*\"solut\" + 0.067*\"numer\" + 0.058*\"method\" + 0.057*\"differenti\" + 0.040*\",\" + 0.039*\"'\" + 0.033*\"differ\" + 0.028*\"-\"\n",
      "2021-02-19 22:52:12,978 : INFO : topic #51 (0.013): 0.199*\"[\" + 0.197*\"(\" + 0.190*\"algorithm\" + 0.185*\"])\" + 0.021*\"-\" + 0.021*\"a1\" + 0.020*\"normal\" + 0.019*\"s14\" + 0.014*\"s15\" + 0.014*\"gauss\"\n",
      "2021-02-19 22:52:12,979 : INFO : topic #64 (0.020): 0.352*\"(\" + 0.343*\")\" + 0.263*\"algorithm\" + 0.020*\"integr\" + 0.007*\"-\" + 0.005*\"chain\" + 0.002*\"remov\" + 0.002*\"item\" + 0.001*\"d1\" + 0.001*\"link\"\n",
      "2021-02-19 22:52:12,979 : INFO : topic diff=0.577083, rho=0.340958\n",
      "2021-02-19 22:52:13,827 : INFO : -6.569 per-word bound, 95.0 perplexity estimate based on a held-out corpus of 1204 documents with 49783 words\n",
      "2021-02-19 22:52:13,828 : INFO : PROGRESS: pass 6, at document #3204/3204\n",
      "2021-02-19 22:52:14,535 : INFO : optimized alpha [0.012704027, 0.010992968, 0.010828953, 0.010601585, 0.011063184, 0.010405983, 0.010422349, 0.01106688, 0.010209775, 0.011352791, 0.010453213, 0.010897444, 0.010506789, 0.011621187, 0.011984405, 0.010968074, 0.010994359, 0.011355437, 0.010789462, 0.01098646, 0.011874519, 0.010531058, 0.010107639, 0.012412039, 0.010552962, 0.010736952, 0.010084103, 0.010827824, 0.012139081, 0.011181126, 0.010848503, 0.011514728, 0.01033359, 0.01127068, 0.010213061, 0.011172373, 0.010389021, 0.010300887, 0.0110744815, 0.010673355, 0.011677613, 0.0113187125, 0.011120101, 0.011077305, 0.010419914, 0.010749539, 0.012200961, 0.010860947, 0.010849449, 0.011634926, 0.011168389, 0.01258611, 0.011775822, 0.010708335, 0.011671889, 0.011330693, 0.010579315, 0.01174344, 0.011644623, 0.01121791, 0.011201738, 0.010802188, 0.011100331, 0.011077517, 0.02142153, 0.010196986, 0.011890544, 0.011065687, 0.01036044, 0.011932804, 0.010459486, 0.01042551, 0.01158948, 0.011735732, 0.01147844, 0.011688117, 0.010591056, 0.011118179, 0.012077452, 0.010777547, 0.011647591, 0.011049125, 0.011022051, 0.010350349, 0.010522006, 0.011210027, 0.012187707, 0.010820942, 0.009969294, 0.010050947, 0.010284348, 0.010809542, 0.010864694, 0.010905223, 0.011799115, 0.010596968, 0.01063726, 0.011210681, 0.011268643, 0.0119585]\n",
      "2021-02-19 22:52:14,540 : INFO : merging changes from 1204 documents into a model of 3204 documents\n",
      "2021-02-19 22:52:14,546 : INFO : topic #88 (0.010): 0.084*\"-\" + 0.068*\",\" + 0.067*\"multiprogram\" + 0.037*\"environ\" + 0.032*\"driven\" + 0.030*\"system\" + 0.029*\"program\" + 0.027*\"comput\" + 0.020*\"page\" + 0.020*\"frame\"\n",
      "2021-02-19 22:52:14,547 : INFO : topic #89 (0.010): 0.049*\"-\" + 0.048*\",\" + 0.046*\"shift\" + 0.033*\"code\" + 0.026*\"laboratori\" + 0.025*\"program\" + 0.025*\"remain\" + 0.017*\"merit\" + 0.016*\"techniqu\" + 0.014*\"greatli\"\n",
      "2021-02-19 22:52:14,547 : INFO : topic #51 (0.013): 0.197*\"(\" + 0.188*\"algorithm\" + 0.187*\"[\" + 0.166*\"])\" + 0.027*\"a1\" + 0.025*\"normal\" + 0.022*\"s14\" + 0.022*\"-\" + 0.019*\"gauss\" + 0.017*\"g5\"\n",
      "2021-02-19 22:52:14,548 : INFO : topic #0 (0.013): 0.153*\"equat\" + 0.119*\"integr\" + 0.108*\"solut\" + 0.058*\"numer\" + 0.056*\"differenti\" + 0.055*\"method\" + 0.040*\",\" + 0.039*\"'\" + 0.035*\"differ\" + 0.029*\"interpol\"\n",
      "2021-02-19 22:52:14,548 : INFO : topic #64 (0.021): 0.358*\"(\" + 0.343*\")\" + 0.259*\"algorithm\" + 0.018*\"integr\" + 0.007*\"-\" + 0.004*\"chain\" + 0.003*\"remov\" + 0.002*\"item\" + 0.000*\"link\" + 0.000*\"d1\"\n",
      "2021-02-19 22:52:14,549 : INFO : topic diff=0.584471, rho=0.340958\n",
      "2021-02-19 22:52:14,555 : INFO : PROGRESS: pass 7, at document #2000/3204\n",
      "2021-02-19 22:52:15,333 : INFO : optimized alpha [0.013010403, 0.010937544, 0.01085854, 0.010640925, 0.01107651, 0.01045837, 0.0104847355, 0.011083259, 0.010247807, 0.011399763, 0.010474699, 0.010929534, 0.0105947275, 0.011860638, 0.012066229, 0.011009777, 0.011164311, 0.011500789, 0.010793455, 0.010970932, 0.012011002, 0.010563539, 0.01008811, 0.01259309, 0.010611935, 0.0107289925, 0.010188868, 0.011054223, 0.012187845, 0.011248329, 0.010809248, 0.011669267, 0.010350924, 0.011331457, 0.010271593, 0.0112321535, 0.010378367, 0.010308134, 0.011107749, 0.010742857, 0.01177368, 0.011326565, 0.0111620715, 0.011115267, 0.010401465, 0.010788354, 0.012226191, 0.010892472, 0.010923083, 0.011711116, 0.011217408, 0.013002518, 0.0119426, 0.010819149, 0.0117465425, 0.011458295, 0.010619674, 0.011694846, 0.011793491, 0.01123308, 0.011229771, 0.010819377, 0.011184396, 0.011087981, 0.022960221, 0.010176838, 0.011936609, 0.01106082, 0.010375983, 0.012044278, 0.010522753, 0.010444135, 0.0118313115, 0.011933409, 0.011586682, 0.011631813, 0.010607342, 0.011113998, 0.01212919, 0.010820957, 0.011656733, 0.011195634, 0.011079395, 0.010373209, 0.010621194, 0.011276549, 0.012440829, 0.01080292, 0.009951539, 0.010033877, 0.010264336, 0.010839766, 0.010851669, 0.01093111, 0.011976722, 0.010662061, 0.0106371185, 0.011206206, 0.011419109, 0.0119222915]\n",
      "2021-02-19 22:52:15,339 : INFO : merging changes from 2000 documents into a model of 3204 documents\n",
      "2021-02-19 22:52:15,345 : INFO : topic #88 (0.010): 0.080*\"-\" + 0.068*\",\" + 0.065*\"multiprogram\" + 0.036*\"environ\" + 0.031*\"system\" + 0.031*\"program\" + 0.029*\"comput\" + 0.025*\"driven\" + 0.019*\"page\" + 0.018*\"long\"\n",
      "2021-02-19 22:52:15,346 : INFO : topic #89 (0.010): 0.053*\"-\" + 0.051*\",\" + 0.038*\"code\" + 0.037*\"shift\" + 0.027*\"laboratori\" + 0.025*\"program\" + 0.021*\"remain\" + 0.019*\"debug\" + 0.019*\"techniqu\" + 0.013*\"greatli\"\n",
      "2021-02-19 22:52:15,347 : INFO : topic #51 (0.013): 0.200*\"[\" + 0.200*\"(\" + 0.192*\"algorithm\" + 0.187*\"])\" + 0.021*\"a1\" + 0.021*\"-\" + 0.020*\"normal\" + 0.019*\"s14\" + 0.014*\"gauss\" + 0.014*\"s15\"\n",
      "2021-02-19 22:52:15,347 : INFO : topic #0 (0.013): 0.156*\"equat\" + 0.123*\"integr\" + 0.109*\"solut\" + 0.072*\"numer\" + 0.057*\"differenti\" + 0.057*\"method\" + 0.041*\",\" + 0.039*\"'\" + 0.033*\"differ\" + 0.028*\"-\"\n",
      "2021-02-19 22:52:15,348 : INFO : topic #64 (0.023): 0.357*\"(\" + 0.347*\")\" + 0.258*\"algorithm\" + 0.019*\"integr\" + 0.007*\"-\" + 0.003*\"chain\" + 0.002*\"remov\" + 0.002*\"item\" + 0.000*\"link\" + 0.000*\"d1\"\n",
      "2021-02-19 22:52:15,349 : INFO : topic diff=0.513692, rho=0.322715\n"
     ]
    },
    {
     "name": "stderr",
     "output_type": "stream",
     "text": [
      "2021-02-19 22:52:16,210 : INFO : -6.544 per-word bound, 93.3 perplexity estimate based on a held-out corpus of 1204 documents with 49783 words\n",
      "2021-02-19 22:52:16,210 : INFO : PROGRESS: pass 7, at document #3204/3204\n",
      "2021-02-19 22:52:16,930 : INFO : optimized alpha [0.013283137, 0.011051876, 0.010970863, 0.010697035, 0.011258072, 0.010570813, 0.010550638, 0.011294177, 0.010371014, 0.011559347, 0.010601002, 0.011097888, 0.010666608, 0.011986759, 0.012297346, 0.011150691, 0.011418652, 0.011636099, 0.010981525, 0.011126109, 0.012150446, 0.010689155, 0.010202633, 0.01285394, 0.010716058, 0.010856104, 0.010281638, 0.011324349, 0.0125342915, 0.011402311, 0.010993133, 0.011853892, 0.010413052, 0.011460248, 0.010364905, 0.011399845, 0.010489947, 0.01040606, 0.0113226175, 0.010864347, 0.012023295, 0.011506831, 0.011382321, 0.011314121, 0.010526758, 0.01089568, 0.012572713, 0.011008902, 0.011000008, 0.011993605, 0.01139367, 0.012945874, 0.012169871, 0.010858126, 0.01194922, 0.011799378, 0.01071295, 0.011924644, 0.011951037, 0.011472727, 0.01138327, 0.010943426, 0.01128831, 0.0112773925, 0.024091266, 0.010264624, 0.012196831, 0.011231037, 0.010460169, 0.012306811, 0.010616113, 0.0105730435, 0.011921981, 0.012088619, 0.011777866, 0.011854717, 0.010726722, 0.011312596, 0.012433019, 0.010916508, 0.01185875, 0.01132606, 0.011224444, 0.010489181, 0.010853451, 0.011467532, 0.012692649, 0.010962662, 0.010022729, 0.01008526, 0.0103505, 0.011003939, 0.011074006, 0.011053292, 0.012157795, 0.010762412, 0.010764989, 0.011431153, 0.011503921, 0.012224524]\n",
      "2021-02-19 22:52:16,936 : INFO : merging changes from 1204 documents into a model of 3204 documents\n",
      "2021-02-19 22:52:16,942 : INFO : topic #88 (0.010): 0.084*\"-\" + 0.068*\",\" + 0.068*\"multiprogram\" + 0.038*\"environ\" + 0.032*\"driven\" + 0.031*\"system\" + 0.029*\"program\" + 0.027*\"comput\" + 0.021*\"page\" + 0.020*\"frame\"\n",
      "2021-02-19 22:52:16,942 : INFO : topic #89 (0.010): 0.049*\"-\" + 0.048*\",\" + 0.047*\"shift\" + 0.031*\"code\" + 0.027*\"laboratori\" + 0.026*\"remain\" + 0.024*\"program\" + 0.019*\"merit\" + 0.018*\"techniqu\" + 0.016*\"debug\"\n",
      "2021-02-19 22:52:16,943 : INFO : topic #51 (0.013): 0.199*\"(\" + 0.190*\"algorithm\" + 0.190*\"[\" + 0.169*\"])\" + 0.027*\"a1\" + 0.025*\"normal\" + 0.022*\"s14\" + 0.021*\"-\" + 0.019*\"gauss\" + 0.017*\"g5\"\n",
      "2021-02-19 22:52:16,944 : INFO : topic #0 (0.013): 0.157*\"equat\" + 0.119*\"integr\" + 0.112*\"solut\" + 0.062*\"numer\" + 0.057*\"differenti\" + 0.054*\"method\" + 0.041*\",\" + 0.040*\"'\" + 0.035*\"differ\" + 0.029*\"-\"\n",
      "2021-02-19 22:52:16,944 : INFO : topic #64 (0.024): 0.363*\"(\" + 0.347*\")\" + 0.254*\"algorithm\" + 0.017*\"integr\" + 0.007*\"-\" + 0.003*\"chain\" + 0.003*\"remov\" + 0.002*\"item\" + 0.000*\"link\" + 0.000*\"d1\"\n",
      "2021-02-19 22:52:16,945 : INFO : topic diff=0.516212, rho=0.322715\n",
      "2021-02-19 22:52:16,951 : INFO : PROGRESS: pass 8, at document #2000/3204\n",
      "2021-02-19 22:52:17,725 : INFO : optimized alpha [0.013591505, 0.010997727, 0.011002667, 0.0107368585, 0.011270322, 0.0106275845, 0.010622091, 0.011314381, 0.0104106795, 0.011602341, 0.010624779, 0.011138553, 0.010752862, 0.0122212805, 0.012377228, 0.011199119, 0.011597803, 0.011783574, 0.010984743, 0.011117929, 0.012283784, 0.010731768, 0.01018885, 0.013036944, 0.010779317, 0.0108569, 0.010388846, 0.011547805, 0.01258136, 0.011468313, 0.0109602045, 0.012006807, 0.010430008, 0.011527358, 0.010427485, 0.0114658, 0.010481474, 0.010419651, 0.011369734, 0.01093775, 0.012126427, 0.011519263, 0.011423608, 0.011351752, 0.010512488, 0.010937894, 0.012585265, 0.011047631, 0.011069156, 0.012082963, 0.011445665, 0.013351358, 0.0123368, 0.01097476, 0.012026079, 0.011940617, 0.010756747, 0.011877193, 0.012098469, 0.0114881545, 0.011424206, 0.010968301, 0.011372513, 0.011290367, 0.025713112, 0.010244194, 0.0122419, 0.011222526, 0.010476906, 0.012415638, 0.010671981, 0.010590789, 0.012167662, 0.012291252, 0.011885496, 0.01180739, 0.010745639, 0.011316479, 0.012487132, 0.010959911, 0.011868722, 0.011476294, 0.011275828, 0.010517613, 0.010969071, 0.011538187, 0.012953407, 0.010950183, 0.010007814, 0.010068102, 0.010335028, 0.011032586, 0.011074162, 0.011084797, 0.0123429, 0.010826587, 0.010766564, 0.01142943, 0.011656066, 0.012186049]\n",
      "2021-02-19 22:52:17,731 : INFO : merging changes from 2000 documents into a model of 3204 documents\n",
      "2021-02-19 22:52:17,736 : INFO : topic #88 (0.010): 0.081*\"-\" + 0.068*\",\" + 0.067*\"multiprogram\" + 0.037*\"environ\" + 0.031*\"system\" + 0.031*\"program\" + 0.029*\"comput\" + 0.025*\"driven\" + 0.020*\"page\" + 0.019*\"long\"\n",
      "2021-02-19 22:52:17,737 : INFO : topic #89 (0.010): 0.053*\"-\" + 0.051*\",\" + 0.038*\"shift\" + 0.036*\"code\" + 0.028*\"laboratori\" + 0.024*\"program\" + 0.022*\"debug\" + 0.021*\"remain\" + 0.021*\"techniqu\" + 0.014*\"merit\"\n",
      "2021-02-19 22:52:17,738 : INFO : topic #51 (0.013): 0.201*\"(\" + 0.201*\"[\" + 0.194*\"algorithm\" + 0.188*\"])\" + 0.022*\"a1\" + 0.021*\"-\" + 0.020*\"normal\" + 0.019*\"s14\" + 0.014*\"gauss\" + 0.014*\"s15\"\n",
      "2021-02-19 22:52:17,739 : INFO : topic #0 (0.014): 0.159*\"equat\" + 0.122*\"integr\" + 0.113*\"solut\" + 0.075*\"numer\" + 0.058*\"differenti\" + 0.055*\"method\" + 0.043*\",\" + 0.039*\"'\" + 0.033*\"differ\" + 0.028*\"-\"\n",
      "2021-02-19 22:52:17,740 : INFO : topic #64 (0.026): 0.360*\"(\" + 0.350*\")\" + 0.253*\"algorithm\" + 0.018*\"integr\" + 0.007*\"-\" + 0.003*\"chain\" + 0.002*\"remov\" + 0.002*\"item\" + 0.000*\"link\" + 0.000*\"d1\"\n",
      "2021-02-19 22:52:17,740 : INFO : topic diff=0.452029, rho=0.307119\n",
      "2021-02-19 22:52:18,598 : INFO : -6.523 per-word bound, 92.0 perplexity estimate based on a held-out corpus of 1204 documents with 49783 words\n",
      "2021-02-19 22:52:18,599 : INFO : PROGRESS: pass 8, at document #3204/3204\n",
      "2021-02-19 22:52:19,292 : INFO : optimized alpha [0.013869916, 0.011096212, 0.011113246, 0.010796379, 0.011450785, 0.010743829, 0.010690659, 0.011523447, 0.010547968, 0.011755884, 0.010746086, 0.01132074, 0.010827142, 0.012360358, 0.012603455, 0.011345993, 0.01187172, 0.011925374, 0.011168701, 0.011278568, 0.012417443, 0.010857982, 0.010298856, 0.013299329, 0.010879143, 0.010979054, 0.01049366, 0.0118145, 0.012924444, 0.011619194, 0.011134334, 0.012178616, 0.010495138, 0.011654013, 0.010519622, 0.0116213225, 0.010596818, 0.010518988, 0.01159211, 0.011057263, 0.012368078, 0.011698539, 0.011650816, 0.011555158, 0.010635634, 0.011035408, 0.012924928, 0.01116797, 0.011148512, 0.012382135, 0.011612524, 0.01329614, 0.012565854, 0.011014542, 0.0122214295, 0.012292627, 0.01084903, 0.0121045625, 0.012259038, 0.011719695, 0.011571813, 0.01109869, 0.011463228, 0.011484293, 0.026873406, 0.010328653, 0.012509001, 0.011380439, 0.010563094, 0.012672856, 0.0107697435, 0.010717318, 0.012247099, 0.012443365, 0.0120728295, 0.012034229, 0.010865805, 0.011507846, 0.012801481, 0.011062854, 0.012063214, 0.011627564, 0.0114267785, 0.010642522, 0.011242544, 0.0117341755, 0.013220929, 0.011100953, 0.010076379, 0.0101152975, 0.010420509, 0.011204787, 0.011299977, 0.011219184, 0.012530024, 0.010922871, 0.010892154, 0.011649374, 0.011739777, 0.01247498]\n",
      "2021-02-19 22:52:19,297 : INFO : merging changes from 1204 documents into a model of 3204 documents\n",
      "2021-02-19 22:52:19,303 : INFO : topic #88 (0.010): 0.084*\"-\" + 0.069*\"multiprogram\" + 0.069*\",\" + 0.039*\"environ\" + 0.032*\"driven\" + 0.031*\"system\" + 0.029*\"program\" + 0.027*\"comput\" + 0.021*\"page\" + 0.021*\"long\"\n",
      "2021-02-19 22:52:19,304 : INFO : topic #89 (0.010): 0.049*\"-\" + 0.049*\",\" + 0.047*\"shift\" + 0.029*\"code\" + 0.028*\"laboratori\" + 0.026*\"remain\" + 0.023*\"program\" + 0.020*\"merit\" + 0.019*\"techniqu\" + 0.019*\"debug\"\n",
      "2021-02-19 22:52:19,305 : INFO : topic #51 (0.013): 0.201*\"(\" + 0.191*\"algorithm\" + 0.191*\"[\" + 0.171*\"])\" + 0.027*\"a1\" + 0.025*\"normal\" + 0.022*\"s14\" + 0.021*\"-\" + 0.019*\"gauss\" + 0.017*\"g5\"\n",
      "2021-02-19 22:52:19,305 : INFO : topic #0 (0.014): 0.161*\"equat\" + 0.119*\"integr\" + 0.117*\"solut\" + 0.065*\"numer\" + 0.057*\"differenti\" + 0.051*\"method\" + 0.043*\",\" + 0.040*\"'\" + 0.035*\"differ\" + 0.028*\"interpol\"\n",
      "2021-02-19 22:52:19,305 : INFO : topic #64 (0.027): 0.365*\"(\" + 0.350*\")\" + 0.250*\"algorithm\" + 0.016*\"integr\" + 0.007*\"-\" + 0.003*\"remov\" + 0.002*\"chain\" + 0.002*\"item\" + 0.000*\"link\" + 0.000*\"d1\"\n",
      "2021-02-19 22:52:19,306 : INFO : topic diff=0.454049, rho=0.307119\n",
      "2021-02-19 22:52:19,312 : INFO : PROGRESS: pass 9, at document #2000/3204\n",
      "2021-02-19 22:52:20,084 : INFO : optimized alpha [0.014172973, 0.011049884, 0.011143879, 0.010839798, 0.011458762, 0.010800108, 0.010765981, 0.011543911, 0.0105939135, 0.011798717, 0.010775253, 0.0113729015, 0.010912059, 0.012594595, 0.012676268, 0.011394084, 0.01205714, 0.012078867, 0.011176294, 0.01127545, 0.012552036, 0.010902146, 0.010285719, 0.013482964, 0.010941747, 0.010981457, 0.010608252, 0.01203556, 0.012973912, 0.011687863, 0.011107247, 0.012326954, 0.010513353, 0.011715242, 0.0105847055, 0.011686424, 0.010590267, 0.010535324, 0.011652567, 0.011128104, 0.012467443, 0.011710049, 0.011701958, 0.011590855, 0.010620401, 0.011076157, 0.0129408715, 0.011203485, 0.011220214, 0.012478852, 0.011664056, 0.013692306, 0.012731693, 0.011125756, 0.012298887, 0.012449591, 0.0108945295, 0.012058094, 0.012403623, 0.011733653, 0.011621506, 0.011124089, 0.011547955, 0.011491086, 0.028559614, 0.010310928, 0.012558827, 0.011376971, 0.010582444, 0.012777626, 0.0108347, 0.010734288, 0.012481116, 0.0126442, 0.012175004, 0.011982573, 0.010893632, 0.011511037, 0.012858321, 0.011114531, 0.012079442, 0.011793904, 0.011481144, 0.010679229, 0.011390991, 0.011802095, 0.0134885665, 0.01108874, 0.0100625185, 0.010101085, 0.010406049, 0.011232074, 0.011309223, 0.011254401, 0.012723078, 0.010987996, 0.01089201, 0.011658851, 0.011888881, 0.012439953]\n"
     ]
    },
    {
     "name": "stderr",
     "output_type": "stream",
     "text": [
      "2021-02-19 22:52:20,090 : INFO : merging changes from 2000 documents into a model of 3204 documents\n",
      "2021-02-19 22:52:20,095 : INFO : topic #88 (0.010): 0.081*\"-\" + 0.068*\",\" + 0.068*\"multiprogram\" + 0.039*\"environ\" + 0.031*\"system\" + 0.030*\"program\" + 0.029*\"comput\" + 0.026*\"driven\" + 0.020*\"long\" + 0.020*\"page\"\n",
      "2021-02-19 22:52:20,096 : INFO : topic #89 (0.010): 0.053*\"-\" + 0.051*\",\" + 0.039*\"shift\" + 0.031*\"code\" + 0.029*\"laboratori\" + 0.026*\"debug\" + 0.023*\"program\" + 0.022*\"techniqu\" + 0.022*\"remain\" + 0.015*\"merit\"\n",
      "2021-02-19 22:52:20,097 : INFO : topic #51 (0.014): 0.203*\"(\" + 0.201*\"[\" + 0.194*\"algorithm\" + 0.189*\"])\" + 0.022*\"a1\" + 0.021*\"-\" + 0.021*\"normal\" + 0.020*\"s14\" + 0.015*\"gauss\" + 0.014*\"s15\"\n",
      "2021-02-19 22:52:20,097 : INFO : topic #0 (0.014): 0.163*\"equat\" + 0.122*\"integr\" + 0.117*\"solut\" + 0.077*\"numer\" + 0.058*\"differenti\" + 0.052*\"method\" + 0.044*\",\" + 0.039*\"'\" + 0.033*\"differ\" + 0.027*\"-\"\n",
      "2021-02-19 22:52:20,098 : INFO : topic #64 (0.029): 0.363*\"(\" + 0.353*\")\" + 0.250*\"algorithm\" + 0.018*\"integr\" + 0.007*\"-\" + 0.002*\"remov\" + 0.002*\"chain\" + 0.002*\"item\" + 0.000*\"link\" + 0.000*\"d1\"\n",
      "2021-02-19 22:52:20,098 : INFO : topic diff=0.397446, rho=0.293585\n",
      "2021-02-19 22:52:20,953 : INFO : -6.506 per-word bound, 90.9 perplexity estimate based on a held-out corpus of 1204 documents with 49783 words\n",
      "2021-02-19 22:52:20,954 : INFO : PROGRESS: pass 9, at document #3204/3204\n",
      "2021-02-19 22:52:21,637 : INFO : optimized alpha [0.014451032, 0.011150533, 0.011245004, 0.010899915, 0.011627545, 0.010912318, 0.01083728, 0.01173771, 0.010726574, 0.011946969, 0.010897689, 0.011546369, 0.010986109, 0.0127251595, 0.012892212, 0.0115414765, 0.012336906, 0.0122244265, 0.011370743, 0.011441719, 0.012693043, 0.011029362, 0.010401951, 0.013731462, 0.0110459365, 0.011102006, 0.010722149, 0.012296596, 0.013314808, 0.01183924, 0.011278255, 0.012495963, 0.010576249, 0.01184898, 0.010678655, 0.011830908, 0.010701517, 0.010644096, 0.011888672, 0.011254235, 0.012711279, 0.011877511, 0.011931153, 0.01179353, 0.010739231, 0.011170125, 0.013294132, 0.011316859, 0.011296639, 0.012783187, 0.011828336, 0.013635077, 0.012953923, 0.01116374, 0.012487862, 0.012810773, 0.0109914895, 0.012277953, 0.012561613, 0.011963896, 0.011784387, 0.011258062, 0.011637875, 0.011664491, 0.029734995, 0.010395068, 0.012821231, 0.011526548, 0.010668158, 0.013027455, 0.010926239, 0.010859026, 0.012553364, 0.012805973, 0.012365133, 0.012195953, 0.011009515, 0.011701639, 0.0131742945, 0.011216518, 0.012264477, 0.011937076, 0.011626948, 0.010807627, 0.011689603, 0.012000663, 0.013759447, 0.011234229, 0.010131281, 0.010156927, 0.010501323, 0.01140687, 0.011536429, 0.011384089, 0.01291373, 0.0110834, 0.011013179, 0.011871947, 0.011974772, 0.012710958]\n",
      "2021-02-19 22:52:21,643 : INFO : merging changes from 1204 documents into a model of 3204 documents\n",
      "2021-02-19 22:52:21,649 : INFO : topic #88 (0.010): 0.084*\"-\" + 0.070*\"multiprogram\" + 0.069*\",\" + 0.040*\"environ\" + 0.032*\"driven\" + 0.030*\"system\" + 0.029*\"program\" + 0.027*\"comput\" + 0.022*\"long\" + 0.021*\"page\"\n",
      "2021-02-19 22:52:21,650 : INFO : topic #89 (0.010): 0.049*\"-\" + 0.049*\",\" + 0.047*\"shift\" + 0.028*\"laboratori\" + 0.027*\"remain\" + 0.026*\"code\" + 0.022*\"debug\" + 0.021*\"program\" + 0.020*\"techniqu\" + 0.020*\"merit\"\n",
      "2021-02-19 22:52:21,650 : INFO : topic #86 (0.014): 0.307*\"languag\" + 0.277*\"program\" + 0.052*\",\" + 0.027*\"-\" + 0.026*\"orient\" + 0.024*\"sourc\" + 0.022*\"discuss\" + 0.017*\"paper\" + 0.015*\"convent\" + 0.014*\"user\"\n",
      "2021-02-19 22:52:21,651 : INFO : topic #0 (0.014): 0.166*\"equat\" + 0.121*\"solut\" + 0.119*\"integr\" + 0.068*\"numer\" + 0.058*\"differenti\" + 0.048*\"method\" + 0.043*\",\" + 0.040*\"'\" + 0.035*\"differ\" + 0.028*\"interpol\"\n",
      "2021-02-19 22:52:21,651 : INFO : topic #64 (0.030): 0.368*\"(\" + 0.353*\")\" + 0.245*\"algorithm\" + 0.016*\"integr\" + 0.007*\"-\" + 0.003*\"remov\" + 0.002*\"chain\" + 0.002*\"item\" + 0.000*\"link\" + 0.000*\"d1\"\n",
      "2021-02-19 22:52:21,652 : INFO : topic diff=0.400701, rho=0.293585\n",
      "2021-02-19 22:52:21,658 : INFO : PROGRESS: pass 10, at document #2000/3204\n",
      "2021-02-19 22:52:22,401 : INFO : optimized alpha [0.014751486, 0.011108039, 0.0112762535, 0.010940589, 0.011647995, 0.010972977, 0.0109134, 0.011760222, 0.0107800625, 0.011996655, 0.010932061, 0.011603072, 0.011066895, 0.012952535, 0.01296211, 0.011597583, 0.012523823, 0.012375583, 0.011380641, 0.011443239, 0.012827399, 0.011079852, 0.010392273, 0.013914239, 0.011112786, 0.011107501, 0.010839621, 0.012514002, 0.013364887, 0.011903883, 0.011254947, 0.012643786, 0.010595629, 0.011916604, 0.010743208, 0.011892111, 0.010698348, 0.010664407, 0.011948401, 0.0113228, 0.0128216455, 0.011884967, 0.0119918175, 0.01183076, 0.010726125, 0.011209651, 0.013311367, 0.011354451, 0.011369354, 0.012872847, 0.011891493, 0.014026961, 0.013115417, 0.011268533, 0.012562539, 0.012974863, 0.011038668, 0.012232346, 0.012700465, 0.011974814, 0.011832119, 0.011282429, 0.011715075, 0.011673954, 0.03148624, 0.010378375, 0.012868543, 0.011524654, 0.010688546, 0.013124941, 0.010990686, 0.01087992, 0.012781895, 0.013003805, 0.012474407, 0.012147107, 0.011039519, 0.011710758, 0.0132375285, 0.011268111, 0.012272699, 0.012095932, 0.011692334, 0.010846102, 0.011848175, 0.012072899, 0.014034425, 0.01121912, 0.010119822, 0.010150995, 0.010490597, 0.0114345, 0.011542845, 0.011426064, 0.013109823, 0.01114955, 0.011016113, 0.011883766, 0.012118036, 0.012673887]\n",
      "2021-02-19 22:52:22,407 : INFO : merging changes from 2000 documents into a model of 3204 documents\n",
      "2021-02-19 22:52:22,412 : INFO : topic #88 (0.010): 0.081*\"-\" + 0.069*\",\" + 0.068*\"multiprogram\" + 0.040*\"environ\" + 0.031*\"system\" + 0.030*\"program\" + 0.029*\"comput\" + 0.026*\"driven\" + 0.021*\"long\" + 0.021*\"page\"\n",
      "2021-02-19 22:52:22,413 : INFO : topic #89 (0.010): 0.052*\"-\" + 0.051*\",\" + 0.039*\"shift\" + 0.030*\"debug\" + 0.029*\"laboratori\" + 0.027*\"code\" + 0.024*\"techniqu\" + 0.022*\"remain\" + 0.021*\"program\" + 0.016*\"merit\"\n",
      "2021-02-19 22:52:22,414 : INFO : topic #86 (0.014): 0.310*\"languag\" + 0.272*\"program\" + 0.051*\",\" + 0.029*\"-\" + 0.026*\"orient\" + 0.024*\"sourc\" + 0.023*\"discuss\" + 0.017*\"paper\" + 0.015*\"user\" + 0.014*\"convent\"\n",
      "2021-02-19 22:52:22,414 : INFO : topic #0 (0.015): 0.167*\"equat\" + 0.122*\"integr\" + 0.120*\"solut\" + 0.079*\"numer\" + 0.058*\"differenti\" + 0.049*\"method\" + 0.045*\",\" + 0.039*\"'\" + 0.033*\"differ\" + 0.026*\"-\"\n",
      "2021-02-19 22:52:22,415 : INFO : topic #64 (0.031): 0.366*\"(\" + 0.355*\")\" + 0.246*\"algorithm\" + 0.017*\"integr\" + 0.007*\"-\" + 0.002*\"remov\" + 0.002*\"chain\" + 0.002*\"item\" + 0.000*\"link\" + 0.000*\"d1\"\n",
      "2021-02-19 22:52:22,416 : INFO : topic diff=0.350698, rho=0.281696\n",
      "2021-02-19 22:52:23,263 : INFO : -6.490 per-word bound, 89.9 perplexity estimate based on a held-out corpus of 1204 documents with 49783 words\n",
      "2021-02-19 22:52:23,264 : INFO : PROGRESS: pass 10, at document #3204/3204\n",
      "2021-02-19 22:52:23,931 : INFO : optimized alpha [0.0150228115, 0.01119773, 0.011376701, 0.010993603, 0.011806175, 0.011097329, 0.0109848445, 0.011951125, 0.010911246, 0.012140364, 0.011058329, 0.011779684, 0.011146153, 0.013084266, 0.013168688, 0.011745989, 0.012812893, 0.012530876, 0.011575006, 0.01160451, 0.012972793, 0.011213379, 0.010507332, 0.0141592305, 0.011221308, 0.011226814, 0.010952463, 0.012769901, 0.013701452, 0.012044925, 0.011426121, 0.012801609, 0.0106590465, 0.012048919, 0.010838977, 0.01204041, 0.010803548, 0.010769799, 0.012192985, 0.011442279, 0.013068316, 0.012044443, 0.012220679, 0.012030515, 0.010841231, 0.011300527, 0.013657117, 0.01146421, 0.01144316, 0.013173901, 0.012059272, 0.013967787, 0.013337729, 0.0112996185, 0.012745935, 0.013343142, 0.011134997, 0.012448531, 0.012850454, 0.012198793, 0.011990162, 0.011403975, 0.011793439, 0.011847607, 0.0326326, 0.010467286, 0.013133194, 0.011669513, 0.0107715335, 0.013380707, 0.011084324, 0.011008345, 0.01284452, 0.013178416, 0.012659079, 0.012354168, 0.011159452, 0.011890206, 0.013552854, 0.011372072, 0.012455077, 0.012251401, 0.011833532, 0.010988221, 0.012164654, 0.012271634, 0.0143259335, 0.011359995, 0.010191295, 0.010212495, 0.01058541, 0.011612235, 0.01176116, 0.01155703, 0.01331049, 0.011249515, 0.011138639, 0.01209642, 0.012200583, 0.012937314]\n",
      "2021-02-19 22:52:23,937 : INFO : merging changes from 1204 documents into a model of 3204 documents\n"
     ]
    },
    {
     "name": "stderr",
     "output_type": "stream",
     "text": [
      "2021-02-19 22:52:23,942 : INFO : topic #88 (0.010): 0.083*\"-\" + 0.071*\"multiprogram\" + 0.069*\",\" + 0.041*\"environ\" + 0.032*\"driven\" + 0.030*\"system\" + 0.029*\"program\" + 0.027*\"comput\" + 0.022*\"long\" + 0.022*\"page\"\n",
      "2021-02-19 22:52:23,943 : INFO : topic #89 (0.010): 0.049*\"-\" + 0.049*\",\" + 0.047*\"shift\" + 0.028*\"laboratori\" + 0.027*\"remain\" + 0.027*\"debug\" + 0.023*\"code\" + 0.022*\"techniqu\" + 0.021*\"merit\" + 0.020*\"program\"\n",
      "2021-02-19 22:52:23,944 : INFO : topic #86 (0.014): 0.312*\"languag\" + 0.285*\"program\" + 0.052*\",\" + 0.027*\"-\" + 0.026*\"orient\" + 0.024*\"sourc\" + 0.021*\"discuss\" + 0.017*\"paper\" + 0.014*\"convent\" + 0.014*\"user\"\n",
      "2021-02-19 22:52:23,944 : INFO : topic #0 (0.015): 0.169*\"equat\" + 0.123*\"solut\" + 0.119*\"integr\" + 0.071*\"numer\" + 0.058*\"differenti\" + 0.045*\"method\" + 0.045*\",\" + 0.039*\"'\" + 0.035*\"differ\" + 0.027*\"interpol\"\n",
      "2021-02-19 22:52:23,945 : INFO : topic #64 (0.033): 0.370*\"(\" + 0.355*\")\" + 0.241*\"algorithm\" + 0.016*\"integr\" + 0.007*\"-\" + 0.003*\"remov\" + 0.002*\"item\" + 0.001*\"chain\" + 0.000*\"link\" + 0.000*\"d1\"\n",
      "2021-02-19 22:52:23,945 : INFO : topic diff=0.355597, rho=0.281696\n",
      "2021-02-19 22:52:23,952 : INFO : PROGRESS: pass 11, at document #2000/3204\n",
      "2021-02-19 22:52:24,673 : INFO : optimized alpha [0.015319034, 0.011160315, 0.011407071, 0.011037893, 0.011822501, 0.011162354, 0.011063371, 0.011974041, 0.010973599, 0.01219333, 0.011094516, 0.011839307, 0.011226249, 0.013308899, 0.013237762, 0.011800308, 0.013001746, 0.012680142, 0.011580854, 0.011605689, 0.013100128, 0.01126224, 0.010503761, 0.014339657, 0.01128922, 0.011232128, 0.011071483, 0.012984003, 0.013754094, 0.012107564, 0.011404736, 0.012945771, 0.010676651, 0.012124383, 0.010900205, 0.012104652, 0.0107976105, 0.01079242, 0.012250508, 0.011504171, 0.013178991, 0.012056372, 0.0122922845, 0.012067743, 0.010828635, 0.011334351, 0.013683315, 0.011495912, 0.0115200905, 0.01326592, 0.012118777, 0.014352542, 0.0134989815, 0.01140314, 0.01281823, 0.013514797, 0.011183846, 0.012403677, 0.012985799, 0.01221024, 0.012047952, 0.011427485, 0.011873259, 0.011859618, 0.0344464, 0.0104585895, 0.013187051, 0.011670673, 0.010791471, 0.013478615, 0.011152982, 0.011031454, 0.013071661, 0.013372045, 0.01276532, 0.012308015, 0.0111915395, 0.011898553, 0.013618882, 0.011425254, 0.012469393, 0.012408371, 0.011892223, 0.011026886, 0.012343701, 0.012344808, 0.014606857, 0.0113483155, 0.01018054, 0.010207179, 0.010578086, 0.0116385985, 0.011773025, 0.011602394, 0.013499051, 0.011316823, 0.011142975, 0.012108828, 0.012340184, 0.012900146]\n",
      "2021-02-19 22:52:24,679 : INFO : merging changes from 2000 documents into a model of 3204 documents\n",
      "2021-02-19 22:52:24,685 : INFO : topic #88 (0.010): 0.080*\"-\" + 0.069*\"multiprogram\" + 0.069*\",\" + 0.041*\"environ\" + 0.031*\"system\" + 0.030*\"program\" + 0.029*\"comput\" + 0.026*\"driven\" + 0.022*\"long\" + 0.021*\"page\"\n",
      "2021-02-19 22:52:24,685 : INFO : topic #89 (0.010): 0.052*\"-\" + 0.051*\",\" + 0.039*\"shift\" + 0.034*\"debug\" + 0.029*\"laboratori\" + 0.025*\"techniqu\" + 0.024*\"code\" + 0.023*\"remain\" + 0.020*\"program\" + 0.017*\"merit\"\n",
      "2021-02-19 22:52:24,686 : INFO : topic #86 (0.015): 0.314*\"languag\" + 0.280*\"program\" + 0.052*\",\" + 0.029*\"-\" + 0.026*\"orient\" + 0.024*\"sourc\" + 0.022*\"discuss\" + 0.017*\"paper\" + 0.014*\"user\" + 0.014*\"convent\"\n",
      "2021-02-19 22:52:24,686 : INFO : topic #0 (0.015): 0.171*\"equat\" + 0.123*\"integr\" + 0.123*\"solut\" + 0.080*\"numer\" + 0.059*\"differenti\" + 0.047*\"method\" + 0.046*\",\" + 0.038*\"'\" + 0.033*\"differ\" + 0.025*\"-\"\n",
      "2021-02-19 22:52:24,687 : INFO : topic #64 (0.034): 0.368*\"(\" + 0.356*\")\" + 0.243*\"algorithm\" + 0.017*\"integr\" + 0.007*\"-\" + 0.002*\"remov\" + 0.002*\"chain\" + 0.001*\"item\" + 0.000*\"link\" + 0.000*\"d1\"\n",
      "2021-02-19 22:52:24,688 : INFO : topic diff=0.312068, rho=0.271143\n",
      "2021-02-19 22:52:25,510 : INFO : -6.478 per-word bound, 89.1 perplexity estimate based on a held-out corpus of 1204 documents with 49783 words\n",
      "2021-02-19 22:52:25,511 : INFO : PROGRESS: pass 11, at document #3204/3204\n",
      "2021-02-19 22:52:26,177 : INFO : optimized alpha [0.0155876465, 0.011250057, 0.011507124, 0.011084382, 0.011981636, 0.011295939, 0.011137518, 0.012165235, 0.011108731, 0.012327513, 0.011234978, 0.012011388, 0.011310557, 0.013445159, 0.013435793, 0.011952627, 0.013283385, 0.012833912, 0.011767662, 0.011770344, 0.013241161, 0.01139722, 0.01061556, 0.01458194, 0.011409768, 0.01134544, 0.011200872, 0.0132352095, 0.014084128, 0.012250009, 0.011576356, 0.013096085, 0.010740683, 0.012252943, 0.010990721, 0.012248673, 0.010904611, 0.010899737, 0.012495379, 0.011620091, 0.013423197, 0.012214049, 0.012515881, 0.012265229, 0.010942881, 0.0114224795, 0.01402568, 0.011612858, 0.011588887, 0.013561258, 0.012290356, 0.014294775, 0.013718905, 0.01144073, 0.012993828, 0.013891051, 0.011287454, 0.012611162, 0.013134313, 0.012428654, 0.012209867, 0.011550754, 0.011943666, 0.012031141, 0.035606362, 0.01055214, 0.0134516535, 0.011811384, 0.010874457, 0.013728605, 0.011248746, 0.011158726, 0.01312812, 0.013556811, 0.012948068, 0.0125094745, 0.011307991, 0.012081358, 0.013934331, 0.011526113, 0.012649642, 0.012553876, 0.01204014, 0.011175083, 0.012676358, 0.012535774, 0.014906433, 0.011492866, 0.010252352, 0.010266998, 0.010677384, 0.011806432, 0.011980518, 0.011732242, 0.013707087, 0.011421425, 0.011261954, 0.012318833, 0.012419763, 0.013159741]\n",
      "2021-02-19 22:52:26,183 : INFO : merging changes from 1204 documents into a model of 3204 documents\n",
      "2021-02-19 22:52:26,188 : INFO : topic #89 (0.010): 0.049*\"-\" + 0.049*\",\" + 0.047*\"shift\" + 0.029*\"debug\" + 0.028*\"laboratori\" + 0.027*\"remain\" + 0.023*\"techniqu\" + 0.022*\"merit\" + 0.021*\"code\" + 0.019*\"program\"\n",
      "2021-02-19 22:52:26,189 : INFO : topic #88 (0.010): 0.082*\"-\" + 0.071*\"multiprogram\" + 0.070*\",\" + 0.041*\"environ\" + 0.032*\"driven\" + 0.030*\"system\" + 0.029*\"program\" + 0.027*\"comput\" + 0.022*\"long\" + 0.022*\"page\"\n",
      "2021-02-19 22:52:26,190 : INFO : topic #86 (0.015): 0.315*\"languag\" + 0.291*\"program\" + 0.052*\",\" + 0.027*\"-\" + 0.024*\"orient\" + 0.024*\"sourc\" + 0.021*\"discuss\" + 0.018*\"paper\" + 0.014*\"convent\" + 0.013*\"user\"\n",
      "2021-02-19 22:52:26,191 : INFO : topic #0 (0.016): 0.172*\"equat\" + 0.125*\"solut\" + 0.120*\"integr\" + 0.073*\"numer\" + 0.059*\"differenti\" + 0.046*\",\" + 0.043*\"method\" + 0.038*\"'\" + 0.035*\"differ\" + 0.027*\"interpol\"\n",
      "2021-02-19 22:52:26,191 : INFO : topic #64 (0.036): 0.372*\"(\" + 0.357*\")\" + 0.238*\"algorithm\" + 0.016*\"integr\" + 0.007*\"-\" + 0.003*\"remov\" + 0.001*\"item\" + 0.001*\"chain\" + 0.000*\"link\" + 0.000*\"d1\"\n",
      "2021-02-19 22:52:26,192 : INFO : topic diff=0.317333, rho=0.271143\n",
      "2021-02-19 22:52:26,198 : INFO : PROGRESS: pass 12, at document #2000/3204\n",
      "2021-02-19 22:52:26,918 : INFO : optimized alpha [0.015875893, 0.011212795, 0.0115396865, 0.011123297, 0.01199877, 0.011357731, 0.011211131, 0.012188588, 0.011175225, 0.012387158, 0.0112759555, 0.012072393, 0.011393102, 0.013665856, 0.013506114, 0.01200688, 0.013472717, 0.012981649, 0.011777533, 0.01177733, 0.013370743, 0.01145066, 0.010610681, 0.014758523, 0.011474337, 0.011353592, 0.011321693, 0.013446258, 0.014133962, 0.012309218, 0.011553689, 0.01323347, 0.010760848, 0.012324781, 0.011051775, 0.012312667, 0.010904692, 0.010926103, 0.01255743, 0.011683374, 0.013536247, 0.012220501, 0.012585227, 0.01230417, 0.010933595, 0.011453936, 0.014051395, 0.011646687, 0.011665408, 0.013653949, 0.012344579, 0.014675098, 0.0138819935, 0.011540171, 0.013063966, 0.014063291, 0.011339419, 0.012565374, 0.013264746, 0.012440699, 0.01226932, 0.0115781445, 0.012024545, 0.012045549, 0.03747509, 0.0105410535, 0.013503256, 0.011809247, 0.010893967, 0.013823604, 0.011318673, 0.011182536, 0.013349127, 0.013750371, 0.013053278, 0.012464183, 0.011337631, 0.012088974, 0.014016105, 0.011585499, 0.012663094, 0.012715812, 0.012106544, 0.011218359, 0.012873141, 0.012606817, 0.015188424, 0.011484377, 0.010243631, 0.010266276, 0.010676038, 0.011834806, 0.011994555, 0.011782435, 0.013897563, 0.011486948, 0.011267619, 0.0123334015, 0.0125577655, 0.013127557]\n",
      "2021-02-19 22:52:26,924 : INFO : merging changes from 2000 documents into a model of 3204 documents\n",
      "2021-02-19 22:52:26,930 : INFO : topic #89 (0.010): 0.052*\"-\" + 0.050*\",\" + 0.039*\"shift\" + 0.036*\"debug\" + 0.029*\"laboratori\" + 0.026*\"techniqu\" + 0.023*\"remain\" + 0.020*\"code\" + 0.019*\"program\" + 0.017*\"merit\"\n"
     ]
    },
    {
     "name": "stderr",
     "output_type": "stream",
     "text": [
      "2021-02-19 22:52:26,930 : INFO : topic #88 (0.010): 0.080*\"-\" + 0.070*\"multiprogram\" + 0.069*\",\" + 0.042*\"environ\" + 0.030*\"system\" + 0.030*\"program\" + 0.028*\"comput\" + 0.027*\"driven\" + 0.022*\"long\" + 0.021*\"page\"\n",
      "2021-02-19 22:52:26,931 : INFO : topic #86 (0.015): 0.317*\"languag\" + 0.287*\"program\" + 0.052*\",\" + 0.028*\"-\" + 0.025*\"orient\" + 0.024*\"sourc\" + 0.022*\"discuss\" + 0.017*\"paper\" + 0.014*\"convent\" + 0.014*\"user\"\n",
      "2021-02-19 22:52:26,932 : INFO : topic #0 (0.016): 0.173*\"equat\" + 0.124*\"solut\" + 0.123*\"integr\" + 0.082*\"numer\" + 0.059*\"differenti\" + 0.047*\",\" + 0.045*\"method\" + 0.037*\"'\" + 0.033*\"differ\" + 0.025*\"interpol\"\n",
      "2021-02-19 22:52:26,932 : INFO : topic #64 (0.037): 0.369*\"(\" + 0.358*\")\" + 0.240*\"algorithm\" + 0.017*\"integr\" + 0.007*\"-\" + 0.002*\"remov\" + 0.001*\"chain\" + 0.001*\"item\" + 0.000*\"link\" + 0.000*\"d1\"\n",
      "2021-02-19 22:52:26,933 : INFO : topic diff=0.279346, rho=0.261694\n",
      "2021-02-19 22:52:27,729 : INFO : -6.466 per-word bound, 88.4 perplexity estimate based on a held-out corpus of 1204 documents with 49783 words\n",
      "2021-02-19 22:52:27,730 : INFO : PROGRESS: pass 12, at document #3204/3204\n",
      "2021-02-19 22:52:28,380 : INFO : optimized alpha [0.01614555, 0.01129288, 0.011637016, 0.011163747, 0.012153853, 0.0115029225, 0.011290532, 0.012375287, 0.011309505, 0.012523225, 0.011417917, 0.012256276, 0.011474986, 0.013798033, 0.013702099, 0.012157965, 0.013758815, 0.01313136, 0.011959922, 0.0119353635, 0.013513757, 0.011587298, 0.010719523, 0.0149985785, 0.011604195, 0.011466312, 0.0114552, 0.013693115, 0.014458042, 0.012445244, 0.011718446, 0.01337967, 0.010823221, 0.0124580925, 0.01113977, 0.012450275, 0.011013658, 0.011037775, 0.01280874, 0.011793579, 0.013787279, 0.012379472, 0.012817746, 0.012499704, 0.011052032, 0.011532179, 0.014390873, 0.011770711, 0.011737327, 0.013944144, 0.0125147775, 0.014612238, 0.014105994, 0.011573981, 0.01324083, 0.014454346, 0.011440147, 0.01277318, 0.0134063475, 0.012656869, 0.012419258, 0.011700706, 0.012100583, 0.012204841, 0.038600136, 0.010636764, 0.013759465, 0.011954044, 0.010972371, 0.014068281, 0.011414286, 0.011306454, 0.013402857, 0.013942529, 0.013245761, 0.012655124, 0.011446046, 0.012261976, 0.0143356705, 0.01169115, 0.012836051, 0.012871329, 0.012245426, 0.011372702, 0.0132230185, 0.012796151, 0.015486512, 0.011625173, 0.010324832, 0.010324605, 0.010779693, 0.012003739, 0.012192062, 0.011911449, 0.014104154, 0.011591167, 0.01138102, 0.01253864, 0.012631907, 0.013386898]\n",
      "2021-02-19 22:52:28,386 : INFO : merging changes from 1204 documents into a model of 3204 documents\n",
      "2021-02-19 22:52:28,391 : INFO : topic #88 (0.010): 0.082*\"-\" + 0.071*\"multiprogram\" + 0.071*\",\" + 0.041*\"environ\" + 0.031*\"driven\" + 0.030*\"system\" + 0.029*\"program\" + 0.027*\"comput\" + 0.023*\"long\" + 0.022*\"page\"\n",
      "2021-02-19 22:52:28,392 : INFO : topic #89 (0.010): 0.049*\",\" + 0.049*\"-\" + 0.047*\"shift\" + 0.032*\"debug\" + 0.028*\"laboratori\" + 0.027*\"remain\" + 0.024*\"techniqu\" + 0.022*\"merit\" + 0.018*\"program\" + 0.018*\"code\"\n",
      "2021-02-19 22:52:28,393 : INFO : topic #86 (0.015): 0.318*\"languag\" + 0.298*\"program\" + 0.053*\",\" + 0.027*\"-\" + 0.024*\"orient\" + 0.024*\"sourc\" + 0.020*\"discuss\" + 0.018*\"paper\" + 0.014*\"convent\" + 0.013*\"user\"\n",
      "2021-02-19 22:52:28,393 : INFO : topic #0 (0.016): 0.174*\"equat\" + 0.126*\"solut\" + 0.120*\"integr\" + 0.075*\"numer\" + 0.059*\"differenti\" + 0.047*\",\" + 0.042*\"method\" + 0.038*\"'\" + 0.035*\"differ\" + 0.027*\"interpol\"\n",
      "2021-02-19 22:52:28,394 : INFO : topic #64 (0.039): 0.373*\"(\" + 0.359*\")\" + 0.236*\"algorithm\" + 0.016*\"integr\" + 0.007*\"-\" + 0.003*\"remov\" + 0.001*\"chain\" + 0.001*\"item\" + 0.000*\"link\" + 0.000*\"d1\"\n",
      "2021-02-19 22:52:28,394 : INFO : topic diff=0.285151, rho=0.261694\n",
      "2021-02-19 22:52:28,401 : INFO : PROGRESS: pass 13, at document #2000/3204\n",
      "2021-02-19 22:52:29,094 : INFO : optimized alpha [0.016434247, 0.011255849, 0.0116702635, 0.011210515, 0.012171811, 0.011570477, 0.011365343, 0.012400692, 0.011375833, 0.012576457, 0.011457692, 0.01231557, 0.011557114, 0.0140168825, 0.013771965, 0.012212204, 0.013950586, 0.013284472, 0.011970544, 0.011940393, 0.013643963, 0.01164516, 0.010717553, 0.01517161, 0.011674463, 0.011471333, 0.011576566, 0.013901344, 0.0145071065, 0.012504442, 0.011699086, 0.013517542, 0.010841721, 0.012528205, 0.011199377, 0.01250938, 0.011015156, 0.011066247, 0.012885204, 0.011855274, 0.013899243, 0.012391805, 0.012893077, 0.012535597, 0.011045846, 0.011552768, 0.014416221, 0.011802108, 0.011813616, 0.014035969, 0.012569076, 0.01499064, 0.014269423, 0.011672678, 0.01331235, 0.014629224, 0.011489367, 0.012728036, 0.013535633, 0.01267116, 0.012469125, 0.011725784, 0.012178084, 0.012221652, 0.040495757, 0.010627484, 0.013807209, 0.01195633, 0.010992895, 0.014160561, 0.011481116, 0.011332426, 0.013621621, 0.014134587, 0.013346798, 0.012613909, 0.011477846, 0.012269057, 0.014421999, 0.011750563, 0.012847138, 0.013036807, 0.01231014, 0.011417588, 0.01342483, 0.012866791, 0.015791507, 0.01161673, 0.010319178, 0.010325527, 0.010781202, 0.012038659, 0.012206694, 0.011961777, 0.014289755, 0.011656544, 0.011393766, 0.012550606, 0.012768624, 0.013357807]\n",
      "2021-02-19 22:52:29,099 : INFO : merging changes from 2000 documents into a model of 3204 documents\n",
      "2021-02-19 22:52:29,105 : INFO : topic #89 (0.010): 0.052*\"-\" + 0.050*\",\" + 0.040*\"shift\" + 0.039*\"debug\" + 0.030*\"laboratori\" + 0.027*\"techniqu\" + 0.024*\"remain\" + 0.018*\"merit\" + 0.018*\"program\" + 0.017*\"code\"\n",
      "2021-02-19 22:52:29,105 : INFO : topic #88 (0.010): 0.079*\"-\" + 0.071*\",\" + 0.070*\"multiprogram\" + 0.042*\"environ\" + 0.031*\"system\" + 0.030*\"program\" + 0.028*\"comput\" + 0.027*\"driven\" + 0.023*\"characterist\" + 0.022*\"long\"\n",
      "2021-02-19 22:52:29,106 : INFO : topic #86 (0.016): 0.319*\"languag\" + 0.294*\"program\" + 0.052*\",\" + 0.028*\"-\" + 0.024*\"orient\" + 0.023*\"sourc\" + 0.021*\"discuss\" + 0.017*\"paper\" + 0.014*\"convent\" + 0.014*\"user\"\n",
      "2021-02-19 22:52:29,107 : INFO : topic #0 (0.016): 0.175*\"equat\" + 0.124*\"solut\" + 0.123*\"integr\" + 0.085*\"numer\" + 0.060*\"differenti\" + 0.047*\",\" + 0.044*\"method\" + 0.037*\"'\" + 0.033*\"differ\" + 0.025*\"interpol\"\n",
      "2021-02-19 22:52:29,107 : INFO : topic #64 (0.040): 0.370*\"(\" + 0.360*\")\" + 0.238*\"algorithm\" + 0.017*\"integr\" + 0.007*\"-\" + 0.002*\"remov\" + 0.001*\"chain\" + 0.001*\"item\" + 0.000*\"link\" + 0.000*\"d1\"\n",
      "2021-02-19 22:52:29,108 : INFO : topic diff=0.251848, rho=0.253169\n",
      "2021-02-19 22:52:29,934 : INFO : -6.457 per-word bound, 87.8 perplexity estimate based on a held-out corpus of 1204 documents with 49783 words\n",
      "2021-02-19 22:52:29,935 : INFO : PROGRESS: pass 13, at document #3204/3204\n",
      "2021-02-19 22:52:30,591 : INFO : optimized alpha [0.016691491, 0.011341235, 0.011772523, 0.01125722, 0.012331004, 0.011717504, 0.011445057, 0.012591128, 0.011511941, 0.012709328, 0.01160857, 0.012498298, 0.011644086, 0.014148105, 0.013957627, 0.012372772, 0.014232853, 0.013430547, 0.012154027, 0.012089646, 0.013783275, 0.0117884055, 0.010830658, 0.015403432, 0.011806189, 0.011578856, 0.011711933, 0.014144126, 0.014831789, 0.012639783, 0.011860025, 0.013660021, 0.010902614, 0.012660923, 0.011287445, 0.012640944, 0.011128444, 0.011184653, 0.013129775, 0.011965246, 0.014163303, 0.012547059, 0.013121269, 0.012732339, 0.011161361, 0.011629129, 0.01476284, 0.011923125, 0.011883639, 0.014321548, 0.012732801, 0.014926011, 0.01449474, 0.011707832, 0.013482364, 0.01503585, 0.011587608, 0.012928409, 0.013667742, 0.012882818, 0.012612902, 0.011842789, 0.012246931, 0.012377163, 0.04155103, 0.01072096, 0.014064241, 0.012095112, 0.011069356, 0.014406386, 0.011576684, 0.011453355, 0.013672772, 0.014328386, 0.013532348, 0.012800392, 0.011590807, 0.012438085, 0.014746206, 0.011848498, 0.013016095, 0.0131914485, 0.012453487, 0.011578196, 0.013787167, 0.013065721, 0.016091932, 0.011751699, 0.010398472, 0.0103890775, 0.010889229, 0.012201275, 0.012405079, 0.012090205, 0.0144952815, 0.011760572, 0.011504364, 0.012756744, 0.012837676, 0.013608996]\n",
      "2021-02-19 22:52:30,597 : INFO : merging changes from 1204 documents into a model of 3204 documents\n",
      "2021-02-19 22:52:30,603 : INFO : topic #89 (0.010): 0.049*\"-\" + 0.048*\",\" + 0.047*\"shift\" + 0.033*\"debug\" + 0.029*\"laboratori\" + 0.027*\"remain\" + 0.025*\"techniqu\" + 0.023*\"merit\" + 0.019*\"import\" + 0.016*\"program\"\n"
     ]
    },
    {
     "name": "stderr",
     "output_type": "stream",
     "text": [
      "2021-02-19 22:52:30,604 : INFO : topic #88 (0.010): 0.081*\"-\" + 0.072*\",\" + 0.071*\"multiprogram\" + 0.042*\"environ\" + 0.031*\"driven\" + 0.031*\"system\" + 0.029*\"program\" + 0.026*\"comput\" + 0.025*\"characterist\" + 0.023*\"long\"\n",
      "2021-02-19 22:52:30,604 : INFO : topic #86 (0.016): 0.320*\"languag\" + 0.304*\"program\" + 0.053*\",\" + 0.026*\"-\" + 0.023*\"orient\" + 0.023*\"sourc\" + 0.020*\"discuss\" + 0.018*\"paper\" + 0.014*\"convent\" + 0.013*\"user\"\n",
      "2021-02-19 22:52:30,605 : INFO : topic #0 (0.017): 0.176*\"equat\" + 0.127*\"solut\" + 0.121*\"integr\" + 0.078*\"numer\" + 0.060*\"differenti\" + 0.047*\",\" + 0.041*\"method\" + 0.037*\"'\" + 0.035*\"differ\" + 0.027*\"interpol\"\n",
      "2021-02-19 22:52:30,605 : INFO : topic #64 (0.042): 0.375*\"(\" + 0.361*\")\" + 0.233*\"algorithm\" + 0.016*\"integr\" + 0.007*\"-\" + 0.003*\"remov\" + 0.001*\"chain\" + 0.001*\"item\" + 0.000*\"link\" + 0.000*\"d1\"\n",
      "2021-02-19 22:52:30,606 : INFO : topic diff=0.257585, rho=0.253169\n",
      "2021-02-19 22:52:30,612 : INFO : PROGRESS: pass 14, at document #2000/3204\n",
      "2021-02-19 22:52:31,293 : INFO : optimized alpha [0.01697882, 0.0113042565, 0.011806427, 0.011310093, 0.012345178, 0.011779125, 0.011518307, 0.012612307, 0.011581079, 0.012769107, 0.011651523, 0.0125574665, 0.011725887, 0.014368954, 0.014023771, 0.01242705, 0.0144238435, 0.013584249, 0.012165425, 0.01210029, 0.013912607, 0.0118419025, 0.010830035, 0.015571355, 0.011876248, 0.01158524, 0.011835441, 0.014349723, 0.014878352, 0.012694382, 0.011840852, 0.013793522, 0.010920893, 0.012735719, 0.011349897, 0.012704786, 0.011131243, 0.01121099, 0.013210801, 0.012026948, 0.014274392, 0.012557304, 0.013191285, 0.012771656, 0.011158058, 0.0116494205, 0.014796887, 0.01195516, 0.0119567895, 0.014416114, 0.012787247, 0.015304894, 0.014655257, 0.011804484, 0.013553722, 0.015209917, 0.011639979, 0.012883882, 0.0137994755, 0.012900819, 0.012670969, 0.0118671805, 0.012322751, 0.012396323, 0.043469854, 0.010714739, 0.014117001, 0.012098653, 0.01109222, 0.014499769, 0.011640599, 0.011478585, 0.013884533, 0.014515739, 0.013637649, 0.01276306, 0.011624649, 0.01244616, 0.014831762, 0.0119110225, 0.01302824, 0.013357466, 0.012522666, 0.011626082, 0.014006144, 0.013136074, 0.016402625, 0.011744785, 0.010398294, 0.010392836, 0.010893411, 0.012230579, 0.012420313, 0.0121377865, 0.01467979, 0.011825931, 0.011515353, 0.012769368, 0.012973303, 0.013582933]\n",
      "2021-02-19 22:52:31,299 : INFO : merging changes from 2000 documents into a model of 3204 documents\n",
      "2021-02-19 22:52:31,304 : INFO : topic #88 (0.010): 0.078*\"-\" + 0.071*\",\" + 0.070*\"multiprogram\" + 0.043*\"environ\" + 0.032*\"system\" + 0.030*\"program\" + 0.027*\"comput\" + 0.027*\"driven\" + 0.026*\"characterist\" + 0.023*\"long\"\n",
      "2021-02-19 22:52:31,305 : INFO : topic #89 (0.010): 0.051*\"-\" + 0.050*\",\" + 0.040*\"shift\" + 0.040*\"debug\" + 0.030*\"laboratori\" + 0.028*\"techniqu\" + 0.024*\"remain\" + 0.019*\"merit\" + 0.019*\"import\" + 0.017*\"program\"\n",
      "2021-02-19 22:52:31,305 : INFO : topic #86 (0.016): 0.321*\"languag\" + 0.300*\"program\" + 0.052*\",\" + 0.028*\"-\" + 0.023*\"orient\" + 0.023*\"sourc\" + 0.021*\"discuss\" + 0.018*\"paper\" + 0.014*\"convent\" + 0.014*\"user\"\n",
      "2021-02-19 22:52:31,306 : INFO : topic #0 (0.017): 0.177*\"equat\" + 0.126*\"solut\" + 0.124*\"integr\" + 0.087*\"numer\" + 0.060*\"differenti\" + 0.048*\",\" + 0.043*\"method\" + 0.037*\"'\" + 0.033*\"differ\" + 0.025*\"interpol\"\n",
      "2021-02-19 22:52:31,307 : INFO : topic #64 (0.043): 0.371*\"(\" + 0.361*\")\" + 0.236*\"algorithm\" + 0.017*\"integr\" + 0.007*\"-\" + 0.002*\"remov\" + 0.001*\"chain\" + 0.001*\"item\" + 0.000*\"link\" + 0.000*\"d1\"\n",
      "2021-02-19 22:52:31,307 : INFO : topic diff=0.228478, rho=0.245426\n",
      "2021-02-19 22:52:32,093 : INFO : -6.448 per-word bound, 87.3 perplexity estimate based on a held-out corpus of 1204 documents with 49783 words\n",
      "2021-02-19 22:52:32,094 : INFO : PROGRESS: pass 14, at document #3204/3204\n",
      "2021-02-19 22:52:32,711 : INFO : optimized alpha [0.01723092, 0.011397043, 0.011903889, 0.011357983, 0.012500955, 0.011932879, 0.011603206, 0.012806714, 0.011719167, 0.012899169, 0.011796978, 0.012734159, 0.011817962, 0.014493607, 0.014199593, 0.012586834, 0.01471409, 0.013729734, 0.012337696, 0.012258768, 0.014048649, 0.011979789, 0.01094499, 0.01579211, 0.012022096, 0.011695059, 0.011970387, 0.014588676, 0.015198109, 0.012829291, 0.012000764, 0.013935429, 0.010980432, 0.012862862, 0.011438193, 0.012835975, 0.011239745, 0.011333808, 0.013465319, 0.012131925, 0.014534353, 0.01270662, 0.013418199, 0.012967231, 0.011273313, 0.011723971, 0.015141795, 0.012075913, 0.012027481, 0.014691557, 0.012944998, 0.015244681, 0.014876435, 0.011838611, 0.013720114, 0.0156266, 0.011738246, 0.013077371, 0.013933944, 0.013103107, 0.012811615, 0.011986424, 0.01239735, 0.012553519, 0.044471506, 0.01080611, 0.014363644, 0.0122368, 0.011166928, 0.014738184, 0.011731495, 0.01159915, 0.013933296, 0.01471142, 0.013816701, 0.01295089, 0.011742175, 0.012609078, 0.015170195, 0.012009083, 0.013196271, 0.013495015, 0.012662873, 0.011792972, 0.014364676, 0.013336607, 0.016705852, 0.011876724, 0.010475805, 0.010455013, 0.010994543, 0.012399796, 0.0126275, 0.012263332, 0.014884376, 0.0119299255, 0.011630549, 0.012971545, 0.01304289, 0.013829264]\n",
      "2021-02-19 22:52:32,717 : INFO : merging changes from 1204 documents into a model of 3204 documents\n",
      "2021-02-19 22:52:32,722 : INFO : topic #89 (0.010): 0.049*\"-\" + 0.048*\",\" + 0.047*\"shift\" + 0.034*\"debug\" + 0.029*\"laboratori\" + 0.027*\"remain\" + 0.026*\"techniqu\" + 0.023*\"merit\" + 0.021*\"import\" + 0.016*\"investig\"\n",
      "2021-02-19 22:52:32,723 : INFO : topic #88 (0.010): 0.080*\"-\" + 0.073*\",\" + 0.071*\"multiprogram\" + 0.043*\"environ\" + 0.031*\"system\" + 0.031*\"driven\" + 0.030*\"program\" + 0.028*\"characterist\" + 0.026*\"comput\" + 0.023*\"long\"\n",
      "2021-02-19 22:52:32,723 : INFO : topic #86 (0.017): 0.321*\"languag\" + 0.310*\"program\" + 0.053*\",\" + 0.026*\"-\" + 0.023*\"sourc\" + 0.023*\"orient\" + 0.020*\"discuss\" + 0.018*\"paper\" + 0.014*\"convent\" + 0.013*\"user\"\n",
      "2021-02-19 22:52:32,724 : INFO : topic #0 (0.017): 0.177*\"equat\" + 0.128*\"solut\" + 0.121*\"integr\" + 0.080*\"numer\" + 0.060*\"differenti\" + 0.048*\",\" + 0.041*\"method\" + 0.037*\"'\" + 0.035*\"differ\" + 0.027*\"interpol\"\n",
      "2021-02-19 22:52:32,725 : INFO : topic #64 (0.044): 0.376*\"(\" + 0.363*\")\" + 0.230*\"algorithm\" + 0.016*\"integr\" + 0.007*\"-\" + 0.003*\"remov\" + 0.001*\"chain\" + 0.000*\"item\" + 0.000*\"link\" + 0.000*\"d1\"\n",
      "2021-02-19 22:52:32,725 : INFO : topic diff=0.233762, rho=0.245426\n",
      "2021-02-19 22:52:32,731 : INFO : PROGRESS: pass 15, at document #2000/3204\n",
      "2021-02-19 22:52:33,398 : INFO : optimized alpha [0.0175152, 0.011365444, 0.011938442, 0.0114112515, 0.012517511, 0.012001678, 0.011674965, 0.012828451, 0.011789606, 0.012962188, 0.011840328, 0.012794911, 0.011903818, 0.0147079835, 0.014265674, 0.012639792, 0.01490446, 0.013882538, 0.01234994, 0.012271741, 0.014177279, 0.012033492, 0.010946946, 0.015956912, 0.012089135, 0.011702692, 0.012093361, 0.014791809, 0.015240474, 0.012884118, 0.011984606, 0.014068063, 0.010998487, 0.012935983, 0.011499395, 0.012889161, 0.011242537, 0.011355347, 0.013542787, 0.012189441, 0.0146550415, 0.012717927, 0.013489528, 0.013000552, 0.011271438, 0.011745382, 0.015184752, 0.012105676, 0.012106456, 0.014782022, 0.012996459, 0.015620889, 0.015032415, 0.011931974, 0.013788148, 0.015809106, 0.011790914, 0.0130318515, 0.014063135, 0.013120113, 0.012871634, 0.012008726, 0.012470184, 0.012573509, 0.046405867, 0.010804063, 0.014412792, 0.012241564, 0.011188098, 0.014832651, 0.011798322, 0.011625126, 0.01414681, 0.014901226, 0.013923104, 0.01291087, 0.011778029, 0.012616614, 0.015267903, 0.012074593, 0.013207774, 0.01366011, 0.0127290785, 0.011843829, 0.014587523, 0.013408405, 0.017012645, 0.011868433, 0.010475778, 0.010465192, 0.011001301, 0.012434043, 0.012640185, 0.012312727, 0.015071536, 0.011992455, 0.011642684, 0.012981731, 0.0131729385, 0.013801151]\n",
      "2021-02-19 22:52:33,404 : INFO : merging changes from 2000 documents into a model of 3204 documents\n",
      "2021-02-19 22:52:33,409 : INFO : topic #88 (0.010): 0.078*\"-\" + 0.072*\",\" + 0.070*\"multiprogram\" + 0.045*\"environ\" + 0.032*\"system\" + 0.030*\"program\" + 0.029*\"characterist\" + 0.027*\"comput\" + 0.027*\"driven\" + 0.022*\"long\"\n",
      "2021-02-19 22:52:33,410 : INFO : topic #89 (0.010): 0.051*\"-\" + 0.049*\",\" + 0.041*\"debug\" + 0.040*\"shift\" + 0.029*\"laboratori\" + 0.028*\"techniqu\" + 0.024*\"remain\" + 0.020*\"import\" + 0.019*\"merit\" + 0.017*\"extract\"\n"
     ]
    },
    {
     "name": "stderr",
     "output_type": "stream",
     "text": [
      "2021-02-19 22:52:33,411 : INFO : topic #86 (0.017): 0.322*\"languag\" + 0.305*\"program\" + 0.053*\",\" + 0.028*\"-\" + 0.023*\"orient\" + 0.023*\"sourc\" + 0.021*\"discuss\" + 0.018*\"paper\" + 0.014*\"convent\" + 0.014*\"user\"\n",
      "2021-02-19 22:52:33,411 : INFO : topic #0 (0.018): 0.178*\"equat\" + 0.126*\"solut\" + 0.124*\"integr\" + 0.089*\"numer\" + 0.061*\"differenti\" + 0.048*\",\" + 0.042*\"method\" + 0.037*\"'\" + 0.033*\"differ\" + 0.025*\"interpol\"\n",
      "2021-02-19 22:52:33,412 : INFO : topic #64 (0.046): 0.373*\"(\" + 0.363*\")\" + 0.233*\"algorithm\" + 0.017*\"integr\" + 0.007*\"-\" + 0.002*\"remov\" + 0.001*\"chain\" + 0.000*\"item\" + 0.000*\"link\" + 0.000*\"d1\"\n",
      "2021-02-19 22:52:33,412 : INFO : topic diff=0.208137, rho=0.238352\n",
      "2021-02-19 22:52:34,186 : INFO : -6.441 per-word bound, 86.9 perplexity estimate based on a held-out corpus of 1204 documents with 49783 words\n",
      "2021-02-19 22:52:34,187 : INFO : PROGRESS: pass 15, at document #3204/3204\n",
      "2021-02-19 22:52:34,786 : INFO : optimized alpha [0.017769221, 0.011454045, 0.012036185, 0.011453534, 0.012670189, 0.012145493, 0.011757973, 0.013019312, 0.011939324, 0.013086924, 0.011994839, 0.012970944, 0.011996147, 0.014829261, 0.014434938, 0.012799084, 0.015194452, 0.014019348, 0.01252638, 0.012424664, 0.014307439, 0.012173485, 0.01106382, 0.016179629, 0.012239317, 0.011807832, 0.012225727, 0.015027133, 0.015564577, 0.0130187385, 0.01213891, 0.01420678, 0.011056786, 0.01306294, 0.011588025, 0.013014937, 0.011348769, 0.011482549, 0.013794051, 0.012299345, 0.014911301, 0.012864198, 0.013715377, 0.013195083, 0.011384288, 0.011818359, 0.015528721, 0.012223948, 0.012180292, 0.015056479, 0.013151122, 0.015555672, 0.015249592, 0.011965101, 0.013956745, 0.016233372, 0.0118893795, 0.013224062, 0.014202878, 0.013323918, 0.0130069535, 0.012130269, 0.012537982, 0.012732639, 0.04734625, 0.0109000085, 0.014649535, 0.0123793, 0.011259038, 0.015066979, 0.011891898, 0.011740894, 0.014190557, 0.015107821, 0.01409869, 0.013094986, 0.011890726, 0.0127839595, 0.015602858, 0.012175354, 0.013372415, 0.01379994, 0.012874024, 0.012014789, 0.014953598, 0.013605542, 0.017332131, 0.011997621, 0.010555845, 0.010532356, 0.01110473, 0.012595098, 0.012843764, 0.012433138, 0.015272547, 0.01209418, 0.011757807, 0.01318027, 0.013237891, 0.014043061]\n",
      "2021-02-19 22:52:34,792 : INFO : merging changes from 1204 documents into a model of 3204 documents\n",
      "2021-02-19 22:52:34,797 : INFO : topic #89 (0.011): 0.049*\"-\" + 0.048*\",\" + 0.046*\"shift\" + 0.036*\"debug\" + 0.028*\"laboratori\" + 0.027*\"remain\" + 0.026*\"techniqu\" + 0.024*\"merit\" + 0.022*\"import\" + 0.016*\"investig\"\n",
      "2021-02-19 22:52:34,798 : INFO : topic #88 (0.011): 0.079*\"-\" + 0.073*\",\" + 0.071*\"multiprogram\" + 0.044*\"environ\" + 0.032*\"system\" + 0.031*\"driven\" + 0.030*\"characterist\" + 0.030*\"program\" + 0.026*\"comput\" + 0.024*\"resourc\"\n",
      "2021-02-19 22:52:34,799 : INFO : topic #86 (0.017): 0.321*\"languag\" + 0.315*\"program\" + 0.053*\",\" + 0.026*\"-\" + 0.023*\"sourc\" + 0.022*\"orient\" + 0.019*\"discuss\" + 0.018*\"paper\" + 0.014*\"convent\" + 0.013*\"user\"\n",
      "2021-02-19 22:52:34,799 : INFO : topic #0 (0.018): 0.178*\"equat\" + 0.128*\"solut\" + 0.122*\"integr\" + 0.082*\"numer\" + 0.061*\"differenti\" + 0.048*\",\" + 0.040*\"method\" + 0.037*\"'\" + 0.035*\"differ\" + 0.027*\"interpol\"\n",
      "2021-02-19 22:52:34,800 : INFO : topic #64 (0.047): 0.377*\"(\" + 0.365*\")\" + 0.227*\"algorithm\" + 0.016*\"integr\" + 0.007*\"-\" + 0.003*\"remov\" + 0.000*\"chain\" + 0.000*\"item\" + 0.000*\"link\" + 0.000*\"d1\"\n",
      "2021-02-19 22:52:34,800 : INFO : topic diff=0.213108, rho=0.238352\n",
      "2021-02-19 22:52:34,807 : INFO : PROGRESS: pass 16, at document #2000/3204\n",
      "2021-02-19 22:52:35,464 : INFO : optimized alpha [0.018048488, 0.011423529, 0.012070071, 0.011503195, 0.012684651, 0.012205791, 0.011831142, 0.013041591, 0.012004241, 0.013148724, 0.012038478, 0.013030293, 0.012080481, 0.01504256, 0.014497688, 0.012852203, 0.01538433, 0.014173023, 0.012542309, 0.012451626, 0.014435576, 0.0122274365, 0.011064302, 0.016341578, 0.012314867, 0.011820797, 0.012348269, 0.015227917, 0.015608312, 0.013070818, 0.012121416, 0.01433386, 0.011074663, 0.013139146, 0.011650753, 0.013062422, 0.011351502, 0.011508869, 0.013882774, 0.012357128, 0.015027941, 0.012876587, 0.013789623, 0.013231864, 0.011383704, 0.0118394615, 0.015569263, 0.012253021, 0.012260648, 0.01514294, 0.013198213, 0.015924122, 0.015406555, 0.012058179, 0.014023209, 0.016419146, 0.011938227, 0.01318062, 0.014329926, 0.01334306, 0.01307345, 0.012153346, 0.01260652, 0.012756315, 0.04930087, 0.010899364, 0.014697006, 0.012382332, 0.011279912, 0.015157507, 0.011953319, 0.011767582, 0.014401032, 0.015296814, 0.01420304, 0.013058558, 0.011924406, 0.012789506, 0.015699817, 0.012235375, 0.013383397, 0.013962798, 0.012950704, 0.012068573, 0.015185811, 0.01367725, 0.0176493, 0.0119866375, 0.010559656, 0.010540004, 0.011112619, 0.0126297865, 0.012857089, 0.012479992, 0.015455522, 0.01215688, 0.0117696235, 0.013189663, 0.013365735, 0.014017855]\n",
      "2021-02-19 22:52:35,470 : INFO : merging changes from 2000 documents into a model of 3204 documents\n",
      "2021-02-19 22:52:35,475 : INFO : topic #89 (0.011): 0.051*\"-\" + 0.049*\",\" + 0.042*\"debug\" + 0.040*\"shift\" + 0.029*\"laboratori\" + 0.028*\"techniqu\" + 0.024*\"remain\" + 0.021*\"import\" + 0.020*\"merit\" + 0.018*\"extract\"\n",
      "2021-02-19 22:52:35,476 : INFO : topic #88 (0.011): 0.077*\"-\" + 0.072*\",\" + 0.070*\"multiprogram\" + 0.045*\"environ\" + 0.032*\"system\" + 0.031*\"characterist\" + 0.031*\"program\" + 0.027*\"driven\" + 0.027*\"comput\" + 0.023*\"long\"\n",
      "2021-02-19 22:52:35,476 : INFO : topic #86 (0.018): 0.322*\"languag\" + 0.311*\"program\" + 0.053*\",\" + 0.028*\"-\" + 0.023*\"sourc\" + 0.023*\"orient\" + 0.020*\"discuss\" + 0.018*\"paper\" + 0.014*\"convent\" + 0.013*\"user\"\n",
      "2021-02-19 22:52:35,477 : INFO : topic #0 (0.018): 0.179*\"equat\" + 0.127*\"solut\" + 0.125*\"integr\" + 0.090*\"numer\" + 0.062*\"differenti\" + 0.049*\",\" + 0.041*\"method\" + 0.037*\"'\" + 0.033*\"differ\" + 0.025*\"interpol\"\n",
      "2021-02-19 22:52:35,477 : INFO : topic #64 (0.049): 0.374*\"(\" + 0.364*\")\" + 0.231*\"algorithm\" + 0.017*\"integr\" + 0.007*\"-\" + 0.002*\"remov\" + 0.000*\"chain\" + 0.000*\"item\" + 0.000*\"link\" + 0.000*\"d1\"\n",
      "2021-02-19 22:52:35,478 : INFO : topic diff=0.190536, rho=0.231857\n",
      "2021-02-19 22:52:36,227 : INFO : -6.434 per-word bound, 86.5 perplexity estimate based on a held-out corpus of 1204 documents with 49783 words\n",
      "2021-02-19 22:52:36,228 : INFO : PROGRESS: pass 16, at document #3204/3204\n",
      "2021-02-19 22:52:36,804 : INFO : optimized alpha [0.018297898, 0.011508167, 0.012163483, 0.011546855, 0.01283447, 0.012347126, 0.011919359, 0.01323672, 0.0121677825, 0.013276072, 0.012190318, 0.013226253, 0.012175521, 0.015160663, 0.014663603, 0.013016158, 0.015677141, 0.01431234, 0.012710805, 0.012609077, 0.0145712, 0.01236728, 0.011181145, 0.016560178, 0.012469606, 0.011923842, 0.012480606, 0.015459802, 0.015928283, 0.013200293, 0.012268218, 0.014469636, 0.011131832, 0.013268766, 0.011735301, 0.013180602, 0.011460052, 0.0116337, 0.014128347, 0.012467245, 0.015286477, 0.013017539, 0.014012196, 0.013425744, 0.011492185, 0.011910994, 0.015918452, 0.012373771, 0.012342435, 0.015410699, 0.013347412, 0.015857192, 0.015611212, 0.012090419, 0.014185925, 0.01684201, 0.012037024, 0.0133667495, 0.014458337, 0.0135434475, 0.013211264, 0.012270226, 0.012665365, 0.0129124615, 0.05018567, 0.010997714, 0.0149383675, 0.012519893, 0.011351627, 0.015393959, 0.01204263, 0.011881112, 0.014442774, 0.015508641, 0.01436986, 0.013244439, 0.012030318, 0.012961296, 0.016040694, 0.012331628, 0.013552787, 0.014105092, 0.01309286, 0.012241494, 0.015574704, 0.013876501, 0.017985947, 0.012115644, 0.010644337, 0.010607894, 0.011216223, 0.01279547, 0.013052408, 0.012605306, 0.015659029, 0.012251812, 0.011884742, 0.013382314, 0.0134288985, 0.014258494]\n",
      "2021-02-19 22:52:36,810 : INFO : merging changes from 1204 documents into a model of 3204 documents\n",
      "2021-02-19 22:52:36,815 : INFO : topic #89 (0.011): 0.049*\"-\" + 0.047*\",\" + 0.046*\"shift\" + 0.037*\"debug\" + 0.028*\"laboratori\" + 0.027*\"remain\" + 0.027*\"techniqu\" + 0.024*\"import\" + 0.024*\"merit\" + 0.017*\"investig\"\n",
      "2021-02-19 22:52:36,816 : INFO : topic #88 (0.011): 0.078*\"-\" + 0.074*\",\" + 0.070*\"multiprogram\" + 0.044*\"environ\" + 0.032*\"system\" + 0.032*\"characterist\" + 0.030*\"driven\" + 0.030*\"program\" + 0.025*\"comput\" + 0.025*\"resourc\"\n"
     ]
    },
    {
     "name": "stderr",
     "output_type": "stream",
     "text": [
      "2021-02-19 22:52:36,817 : INFO : topic #86 (0.018): 0.322*\"program\" + 0.322*\"languag\" + 0.053*\",\" + 0.026*\"-\" + 0.023*\"sourc\" + 0.022*\"orient\" + 0.019*\"discuss\" + 0.019*\"paper\" + 0.014*\"convent\" + 0.013*\"user\"\n",
      "2021-02-19 22:52:36,817 : INFO : topic #0 (0.018): 0.179*\"equat\" + 0.129*\"solut\" + 0.122*\"integr\" + 0.083*\"numer\" + 0.063*\"differenti\" + 0.049*\",\" + 0.039*\"method\" + 0.037*\"'\" + 0.035*\"differ\" + 0.027*\"interpol\"\n",
      "2021-02-19 22:52:36,818 : INFO : topic #64 (0.050): 0.379*\"(\" + 0.366*\")\" + 0.225*\"algorithm\" + 0.016*\"integr\" + 0.007*\"-\" + 0.003*\"remov\" + 0.000*\"chain\" + 0.000*\"item\" + 0.000*\"link\" + 0.000*\"d1\"\n",
      "2021-02-19 22:52:36,818 : INFO : topic diff=0.195234, rho=0.231857\n",
      "2021-02-19 22:52:36,825 : INFO : PROGRESS: pass 17, at document #2000/3204\n",
      "2021-02-19 22:52:37,457 : INFO : optimized alpha [0.018576443, 0.011478659, 0.012195356, 0.011602325, 0.012852706, 0.012417453, 0.011991274, 0.013262491, 0.012234168, 0.013338163, 0.012241392, 0.013285629, 0.012258451, 0.01537477, 0.014726497, 0.013069556, 0.015864924, 0.01446705, 0.012727488, 0.012639493, 0.014698924, 0.012424344, 0.011182827, 0.016721336, 0.012540903, 0.011933823, 0.012602864, 0.015658367, 0.015969833, 0.013254257, 0.012253673, 0.014594634, 0.011149523, 0.013343592, 0.0117969075, 0.013219591, 0.011464013, 0.011659384, 0.014221855, 0.01252391, 0.015400898, 0.013026481, 0.014089426, 0.013461358, 0.011487705, 0.011933138, 0.015954878, 0.012402192, 0.0124185905, 0.015495033, 0.013398087, 0.016220056, 0.015767504, 0.012183321, 0.014250936, 0.017029166, 0.012087632, 0.013326849, 0.014581583, 0.013560091, 0.01327487, 0.012291419, 0.012732712, 0.012932501, 0.052127033, 0.010997106, 0.01498759, 0.012525479, 0.011372224, 0.015484134, 0.012104299, 0.011911244, 0.014650512, 0.015693557, 0.014473936, 0.013202297, 0.012066013, 0.012975131, 0.016131599, 0.012393313, 0.0135646975, 0.014267423, 0.013163724, 0.012299603, 0.015813166, 0.013949723, 0.018311951, 0.012106132, 0.010649348, 0.010617955, 0.011230339, 0.012836487, 0.013067865, 0.01264972, 0.015839707, 0.012311986, 0.011898961, 0.0133909695, 0.013553175, 0.014232867]\n",
      "2021-02-19 22:52:37,462 : INFO : merging changes from 2000 documents into a model of 3204 documents\n",
      "2021-02-19 22:52:37,468 : INFO : topic #89 (0.011): 0.051*\"-\" + 0.048*\",\" + 0.042*\"debug\" + 0.040*\"shift\" + 0.030*\"laboratori\" + 0.029*\"techniqu\" + 0.024*\"remain\" + 0.023*\"import\" + 0.020*\"merit\" + 0.018*\"extract\"\n",
      "2021-02-19 22:52:37,468 : INFO : topic #88 (0.011): 0.076*\"-\" + 0.073*\",\" + 0.070*\"multiprogram\" + 0.046*\"environ\" + 0.033*\"system\" + 0.032*\"characterist\" + 0.031*\"program\" + 0.026*\"driven\" + 0.026*\"comput\" + 0.023*\"long\"\n",
      "2021-02-19 22:52:37,469 : INFO : topic #86 (0.018): 0.322*\"languag\" + 0.318*\"program\" + 0.052*\",\" + 0.028*\"-\" + 0.023*\"sourc\" + 0.022*\"orient\" + 0.020*\"discuss\" + 0.018*\"paper\" + 0.014*\"convent\" + 0.013*\"user\"\n",
      "2021-02-19 22:52:37,470 : INFO : topic #0 (0.019): 0.179*\"equat\" + 0.128*\"solut\" + 0.125*\"integr\" + 0.091*\"numer\" + 0.063*\"differenti\" + 0.049*\",\" + 0.040*\"method\" + 0.037*\"'\" + 0.033*\"differ\" + 0.025*\"interpol\"\n",
      "2021-02-19 22:52:37,470 : INFO : topic #64 (0.052): 0.376*\"(\" + 0.365*\")\" + 0.228*\"algorithm\" + 0.017*\"integr\" + 0.007*\"-\" + 0.002*\"remov\" + 0.000*\"chain\" + 0.000*\"item\" + 0.000*\"link\" + 0.000*\"d1\"\n",
      "2021-02-19 22:52:37,471 : INFO : topic diff=0.175532, rho=0.225865\n",
      "2021-02-19 22:52:38,205 : INFO : -6.428 per-word bound, 86.1 perplexity estimate based on a held-out corpus of 1204 documents with 49783 words\n",
      "2021-02-19 22:52:38,205 : INFO : PROGRESS: pass 17, at document #3204/3204\n",
      "2021-02-19 22:52:38,764 : INFO : optimized alpha [0.018821094, 0.011561774, 0.012286976, 0.011645069, 0.013002372, 0.0125612635, 0.012080017, 0.01345206, 0.012399928, 0.013468248, 0.012400144, 0.013478819, 0.012351609, 0.015489847, 0.014892064, 0.013235838, 0.016154815, 0.014606293, 0.0128908, 0.012801539, 0.014837439, 0.012561936, 0.011297608, 0.016936105, 0.012697876, 0.012037161, 0.012740014, 0.01588694, 0.016288865, 0.013381323, 0.012395534, 0.014727635, 0.011205644, 0.01346836, 0.011884238, 0.013330401, 0.011574916, 0.011779875, 0.014478258, 0.012634302, 0.015662087, 0.013162428, 0.014314082, 0.013654797, 0.011594225, 0.012003329, 0.016306698, 0.012518379, 0.012496487, 0.015759354, 0.013539616, 0.016148401, 0.015971618, 0.012214733, 0.014413469, 0.017463215, 0.012186848, 0.013512268, 0.0147127425, 0.013757316, 0.013407829, 0.012401524, 0.012790267, 0.01308349, 0.052940518, 0.011095755, 0.015214126, 0.0126533955, 0.011440463, 0.01571119, 0.012191828, 0.012020428, 0.014690346, 0.015913736, 0.014643242, 0.013390013, 0.012169931, 0.013151462, 0.016472619, 0.012487662, 0.013728513, 0.014407086, 0.013310885, 0.012472353, 0.016213961, 0.014153866, 0.01865933, 0.012230463, 0.010732464, 0.010686569, 0.011336286, 0.012999567, 0.01327002, 0.012775177, 0.016042953, 0.012407337, 0.012011972, 0.01358051, 0.013614677, 0.014469754]\n",
      "2021-02-19 22:52:38,770 : INFO : merging changes from 1204 documents into a model of 3204 documents\n",
      "2021-02-19 22:52:38,775 : INFO : topic #89 (0.011): 0.049*\"-\" + 0.047*\",\" + 0.046*\"shift\" + 0.037*\"debug\" + 0.029*\"laboratori\" + 0.027*\"remain\" + 0.027*\"techniqu\" + 0.025*\"import\" + 0.024*\"merit\" + 0.017*\"point\"\n",
      "2021-02-19 22:52:38,776 : INFO : topic #88 (0.011): 0.077*\"-\" + 0.074*\",\" + 0.070*\"multiprogram\" + 0.045*\"environ\" + 0.033*\"characterist\" + 0.033*\"system\" + 0.030*\"driven\" + 0.030*\"program\" + 0.026*\"resourc\" + 0.025*\"comput\"\n",
      "2021-02-19 22:52:38,776 : INFO : topic #86 (0.019): 0.327*\"program\" + 0.323*\"languag\" + 0.053*\",\" + 0.026*\"-\" + 0.023*\"sourc\" + 0.021*\"orient\" + 0.019*\"discuss\" + 0.018*\"paper\" + 0.014*\"convent\" + 0.013*\"user\"\n",
      "2021-02-19 22:52:38,777 : INFO : topic #0 (0.019): 0.179*\"equat\" + 0.129*\"solut\" + 0.123*\"integr\" + 0.085*\"numer\" + 0.064*\"differenti\" + 0.049*\",\" + 0.038*\"method\" + 0.037*\"'\" + 0.035*\"differ\" + 0.027*\"interpol\"\n",
      "2021-02-19 22:52:38,777 : INFO : topic #64 (0.053): 0.380*\"(\" + 0.368*\")\" + 0.221*\"algorithm\" + 0.016*\"integr\" + 0.007*\"-\" + 0.003*\"remov\" + 0.000*\"chain\" + 0.000*\"item\" + 0.000*\"link\" + 0.000*\"d1\"\n",
      "2021-02-19 22:52:38,778 : INFO : topic diff=0.180036, rho=0.225865\n",
      "2021-02-19 22:52:38,784 : INFO : PROGRESS: pass 18, at document #2000/3204\n",
      "2021-02-19 22:52:39,408 : INFO : optimized alpha [0.019090682, 0.011535757, 0.012318308, 0.011703606, 0.013020031, 0.0126317935, 0.012152114, 0.013476845, 0.012467826, 0.013532199, 0.012447332, 0.013545961, 0.012440053, 0.015703248, 0.014951886, 0.013288101, 0.016342277, 0.014759017, 0.012902554, 0.012836725, 0.0149682565, 0.012617904, 0.011300419, 0.017094739, 0.012770622, 0.0120482845, 0.012862084, 0.016083382, 0.016330095, 0.0134327365, 0.012382464, 0.014849057, 0.011223183, 0.013540405, 0.011947417, 0.013362694, 0.011582588, 0.011806282, 0.0145715885, 0.012691345, 0.015770871, 0.013172497, 0.014386462, 0.013689322, 0.011588536, 0.012023882, 0.016344659, 0.012546198, 0.012572843, 0.0158417, 0.013581714, 0.016507674, 0.016125614, 0.012304816, 0.014480232, 0.017655704, 0.012235195, 0.0134712355, 0.014832334, 0.013777632, 0.01347341, 0.01242495, 0.01285795, 0.013104329, 0.054891724, 0.011098862, 0.015258502, 0.012660178, 0.0114607895, 0.01579938, 0.012253803, 0.012047272, 0.014895515, 0.016099975, 0.014745535, 0.013352661, 0.012207638, 0.013161746, 0.016577749, 0.012548287, 0.013738361, 0.014570576, 0.013386274, 0.012532027, 0.016460693, 0.014228607, 0.018990414, 0.01222108, 0.0107398275, 0.010695376, 0.011350064, 0.013033856, 0.013289023, 0.0128186885, 0.016214335, 0.012466451, 0.012025865, 0.013588482, 0.013738596, 0.014445315]\n",
      "2021-02-19 22:52:39,414 : INFO : merging changes from 2000 documents into a model of 3204 documents\n",
      "2021-02-19 22:52:39,420 : INFO : topic #89 (0.011): 0.051*\"-\" + 0.048*\",\" + 0.043*\"debug\" + 0.040*\"shift\" + 0.030*\"laboratori\" + 0.029*\"techniqu\" + 0.024*\"import\" + 0.024*\"remain\" + 0.020*\"merit\" + 0.018*\"extract\"\n",
      "2021-02-19 22:52:39,420 : INFO : topic #88 (0.011): 0.076*\"-\" + 0.073*\",\" + 0.070*\"multiprogram\" + 0.046*\"environ\" + 0.034*\"characterist\" + 0.033*\"system\" + 0.031*\"program\" + 0.026*\"driven\" + 0.026*\"comput\" + 0.024*\"long\"\n",
      "2021-02-19 22:52:39,421 : INFO : topic #86 (0.019): 0.324*\"languag\" + 0.323*\"program\" + 0.052*\",\" + 0.028*\"-\" + 0.023*\"sourc\" + 0.021*\"orient\" + 0.020*\"discuss\" + 0.018*\"paper\" + 0.013*\"user\" + 0.013*\"convent\"\n"
     ]
    },
    {
     "name": "stderr",
     "output_type": "stream",
     "text": [
      "2021-02-19 22:52:39,422 : INFO : topic #0 (0.019): 0.180*\"equat\" + 0.128*\"solut\" + 0.125*\"integr\" + 0.092*\"numer\" + 0.064*\"differenti\" + 0.050*\",\" + 0.039*\"method\" + 0.037*\"'\" + 0.033*\"differ\" + 0.025*\"interpol\"\n",
      "2021-02-19 22:52:39,422 : INFO : topic #64 (0.055): 0.377*\"(\" + 0.367*\")\" + 0.225*\"algorithm\" + 0.017*\"integr\" + 0.007*\"-\" + 0.002*\"remov\" + 0.000*\"chain\" + 0.000*\"item\" + 0.000*\"link\" + 0.000*\"d1\"\n",
      "2021-02-19 22:52:39,423 : INFO : topic diff=0.162717, rho=0.220316\n",
      "2021-02-19 22:52:40,170 : INFO : -6.421 per-word bound, 85.7 perplexity estimate based on a held-out corpus of 1204 documents with 49783 words\n",
      "2021-02-19 22:52:40,171 : INFO : PROGRESS: pass 18, at document #3204/3204\n",
      "2021-02-19 22:52:40,726 : INFO : optimized alpha [0.019327283, 0.011617459, 0.012410522, 0.0117498785, 0.013167241, 0.012773406, 0.01223924, 0.01366116, 0.012631452, 0.013660039, 0.012606156, 0.013731669, 0.012533727, 0.01581538, 0.015114553, 0.013456794, 0.01663227, 0.014898355, 0.013060942, 0.012998707, 0.015104177, 0.0127602555, 0.0114153195, 0.017302701, 0.012925241, 0.012152005, 0.013004055, 0.01630875, 0.016645484, 0.013557568, 0.012521939, 0.014982156, 0.011278315, 0.013660547, 0.01203094, 0.013473957, 0.011695919, 0.011926982, 0.014822853, 0.012799755, 0.016026057, 0.013303671, 0.014608235, 0.013882499, 0.011695364, 0.012092831, 0.01669015, 0.01266036, 0.012651519, 0.0161028, 0.013725907, 0.016434485, 0.016326448, 0.01233546, 0.014642744, 0.018091781, 0.012337094, 0.013651142, 0.014960952, 0.013974486, 0.013604112, 0.012535451, 0.012914325, 0.013255168, 0.05565234, 0.011193797, 0.015481653, 0.012788244, 0.011527819, 0.01602599, 0.012339665, 0.012152326, 0.014939055, 0.016317004, 0.0149147045, 0.0135349585, 0.012311952, 0.013337892, 0.016919127, 0.012643206, 0.013896968, 0.014707533, 0.013533516, 0.012702448, 0.01686472, 0.01443005, 0.019324664, 0.012345503, 0.010823457, 0.010762827, 0.011456277, 0.013192091, 0.013490799, 0.012941952, 0.016420592, 0.012562326, 0.012139216, 0.013777661, 0.013801061, 0.014681331]\n",
      "2021-02-19 22:52:40,731 : INFO : merging changes from 1204 documents into a model of 3204 documents\n",
      "2021-02-19 22:52:40,737 : INFO : topic #89 (0.011): 0.049*\"-\" + 0.046*\",\" + 0.046*\"shift\" + 0.038*\"debug\" + 0.029*\"laboratori\" + 0.028*\"techniqu\" + 0.027*\"remain\" + 0.025*\"import\" + 0.024*\"merit\" + 0.018*\"point\"\n",
      "2021-02-19 22:52:40,738 : INFO : topic #88 (0.011): 0.076*\"-\" + 0.074*\",\" + 0.070*\"multiprogram\" + 0.045*\"environ\" + 0.034*\"characterist\" + 0.033*\"system\" + 0.030*\"program\" + 0.030*\"driven\" + 0.026*\"resourc\" + 0.025*\"comput\"\n",
      "2021-02-19 22:52:40,738 : INFO : topic #86 (0.019): 0.332*\"program\" + 0.325*\"languag\" + 0.052*\",\" + 0.026*\"-\" + 0.023*\"sourc\" + 0.021*\"orient\" + 0.018*\"paper\" + 0.018*\"discuss\" + 0.014*\"convent\" + 0.013*\"user\"\n",
      "2021-02-19 22:52:40,739 : INFO : topic #0 (0.019): 0.181*\"equat\" + 0.129*\"solut\" + 0.124*\"integr\" + 0.086*\"numer\" + 0.065*\"differenti\" + 0.050*\",\" + 0.037*\"method\" + 0.037*\"'\" + 0.035*\"differ\" + 0.027*\"interpol\"\n",
      "2021-02-19 22:52:40,739 : INFO : topic #64 (0.056): 0.381*\"(\" + 0.369*\")\" + 0.220*\"algorithm\" + 0.016*\"integr\" + 0.007*\"-\" + 0.003*\"remov\" + 0.000*\"chain\" + 0.000*\"item\" + 0.000*\"link\" + 0.000*\"d1\"\n",
      "2021-02-19 22:52:40,740 : INFO : topic diff=0.166730, rho=0.220316\n",
      "2021-02-19 22:52:40,746 : INFO : PROGRESS: pass 19, at document #2000/3204\n",
      "2021-02-19 22:52:41,349 : INFO : optimized alpha [0.01959836, 0.011588446, 0.012441286, 0.011812698, 0.013184349, 0.0128454985, 0.012314246, 0.013685081, 0.012694155, 0.013722856, 0.012655103, 0.013798965, 0.012627644, 0.016031625, 0.015173082, 0.013509374, 0.01682129, 0.015050809, 0.0130735645, 0.013034462, 0.015234786, 0.012815151, 0.011421726, 0.017458959, 0.012995356, 0.012164216, 0.013126093, 0.016503152, 0.016684704, 0.013605061, 0.012508923, 0.0151018035, 0.011296941, 0.01373293, 0.0120943915, 0.013501287, 0.011702114, 0.011956745, 0.014919405, 0.012857201, 0.01613107, 0.013314854, 0.014679027, 0.01391601, 0.011696061, 0.01211446, 0.016731368, 0.012688974, 0.012728094, 0.016184988, 0.013767121, 0.016790453, 0.016478263, 0.01242288, 0.014708169, 0.018287767, 0.012384618, 0.013609038, 0.015077204, 0.013993944, 0.013674582, 0.012561218, 0.012979565, 0.013272479, 0.057604216, 0.011198061, 0.015522898, 0.012794774, 0.011547909, 0.01611394, 0.0123993, 0.01217998, 0.015141894, 0.016502976, 0.01501691, 0.013499396, 0.012347652, 0.013348983, 0.017023718, 0.012704209, 0.013907829, 0.014867616, 0.013603272, 0.012762334, 0.017119983, 0.014500224, 0.019658647, 0.012337526, 0.010829561, 0.010775105, 0.011475962, 0.013231219, 0.013510364, 0.012984592, 0.01659339, 0.012620473, 0.012157995, 0.013786461, 0.013924701, 0.014658007]\n",
      "2021-02-19 22:52:41,355 : INFO : merging changes from 2000 documents into a model of 3204 documents\n",
      "2021-02-19 22:52:41,360 : INFO : topic #89 (0.011): 0.051*\"-\" + 0.048*\",\" + 0.043*\"debug\" + 0.040*\"shift\" + 0.030*\"laboratori\" + 0.030*\"techniqu\" + 0.025*\"import\" + 0.024*\"remain\" + 0.021*\"merit\" + 0.018*\"extract\"\n",
      "2021-02-19 22:52:41,361 : INFO : topic #88 (0.011): 0.075*\"-\" + 0.073*\",\" + 0.070*\"multiprogram\" + 0.046*\"environ\" + 0.035*\"characterist\" + 0.033*\"system\" + 0.031*\"program\" + 0.026*\"driven\" + 0.026*\"comput\" + 0.024*\"long\"\n",
      "2021-02-19 22:52:41,361 : INFO : topic #0 (0.020): 0.181*\"equat\" + 0.128*\"solut\" + 0.126*\"integr\" + 0.093*\"numer\" + 0.065*\"differenti\" + 0.050*\",\" + 0.038*\"method\" + 0.037*\"'\" + 0.034*\"differ\" + 0.026*\"interpol\"\n",
      "2021-02-19 22:52:41,362 : INFO : topic #86 (0.020): 0.328*\"program\" + 0.326*\"languag\" + 0.052*\",\" + 0.027*\"-\" + 0.023*\"sourc\" + 0.021*\"orient\" + 0.019*\"discuss\" + 0.018*\"paper\" + 0.014*\"user\" + 0.013*\"convent\"\n",
      "2021-02-19 22:52:41,363 : INFO : topic #64 (0.058): 0.378*\"(\" + 0.367*\")\" + 0.224*\"algorithm\" + 0.017*\"integr\" + 0.007*\"-\" + 0.002*\"remov\" + 0.000*\"chain\" + 0.000*\"item\" + 0.000*\"link\" + 0.000*\"d1\"\n",
      "2021-02-19 22:52:41,363 : INFO : topic diff=0.151642, rho=0.215156\n",
      "2021-02-19 22:52:42,079 : INFO : -6.415 per-word bound, 85.3 perplexity estimate based on a held-out corpus of 1204 documents with 49783 words\n",
      "2021-02-19 22:52:42,079 : INFO : PROGRESS: pass 19, at document #3204/3204\n",
      "2021-02-19 22:52:42,606 : INFO : optimized alpha [0.019826997, 0.011666752, 0.012534163, 0.011860177, 0.013329268, 0.012982769, 0.012397607, 0.013866812, 0.012860321, 0.013851135, 0.0128094675, 0.013992281, 0.0127264, 0.016146727, 0.015333026, 0.013673309, 0.017105592, 0.015179587, 0.01323666, 0.013198855, 0.015368346, 0.012960071, 0.011534809, 0.017663464, 0.013147813, 0.012268418, 0.013270714, 0.01672545, 0.016996553, 0.013727801, 0.012646245, 0.015232466, 0.0113511775, 0.0138485115, 0.01218076, 0.013603389, 0.011809445, 0.012080007, 0.015171039, 0.01296835, 0.016397722, 0.013441486, 0.014895457, 0.014106602, 0.011807547, 0.012182277, 0.017076878, 0.012803593, 0.012812199, 0.01644306, 0.013904061, 0.016715772, 0.016678896, 0.012452828, 0.014870759, 0.018725911, 0.012489244, 0.013788606, 0.015206099, 0.014193082, 0.013808245, 0.012674448, 0.013034835, 0.013421044, 0.05830924, 0.011297479, 0.015742972, 0.012920791, 0.011613817, 0.016328722, 0.012483691, 0.012283294, 0.015180965, 0.016716981, 0.015180705, 0.013691327, 0.012450257, 0.013529889, 0.017378088, 0.012799738, 0.014064016, 0.015004824, 0.0137457885, 0.0129373595, 0.017533185, 0.0146991145, 0.020007333, 0.012462113, 0.010911826, 0.010845332, 0.0115784025, 0.013392004, 0.013709549, 0.013110507, 0.016796565, 0.01271692, 0.012267324, 0.013977918, 0.013983149, 0.0148882335]\n",
      "2021-02-19 22:52:42,611 : INFO : merging changes from 1204 documents into a model of 3204 documents\n",
      "2021-02-19 22:52:42,617 : INFO : topic #89 (0.011): 0.048*\"-\" + 0.046*\",\" + 0.046*\"shift\" + 0.038*\"debug\" + 0.029*\"laboratori\" + 0.028*\"techniqu\" + 0.027*\"remain\" + 0.027*\"import\" + 0.024*\"merit\" + 0.018*\"point\"\n",
      "2021-02-19 22:52:42,617 : INFO : topic #88 (0.011): 0.076*\"-\" + 0.074*\",\" + 0.070*\"multiprogram\" + 0.045*\"environ\" + 0.035*\"characterist\" + 0.033*\"system\" + 0.031*\"program\" + 0.030*\"driven\" + 0.026*\"resourc\" + 0.024*\"long\"\n",
      "2021-02-19 22:52:42,618 : INFO : topic #0 (0.020): 0.182*\"equat\" + 0.130*\"solut\" + 0.124*\"integr\" + 0.087*\"numer\" + 0.066*\"differenti\" + 0.050*\",\" + 0.036*\"'\" + 0.036*\"method\" + 0.035*\"differ\" + 0.028*\"interpol\"\n"
     ]
    },
    {
     "name": "stderr",
     "output_type": "stream",
     "text": [
      "2021-02-19 22:52:42,618 : INFO : topic #86 (0.020): 0.337*\"program\" + 0.327*\"languag\" + 0.052*\",\" + 0.026*\"-\" + 0.023*\"sourc\" + 0.020*\"orient\" + 0.018*\"paper\" + 0.018*\"discuss\" + 0.014*\"convent\" + 0.013*\"user\"\n",
      "2021-02-19 22:52:42,619 : INFO : topic #64 (0.058): 0.382*\"(\" + 0.369*\")\" + 0.218*\"algorithm\" + 0.016*\"integr\" + 0.007*\"-\" + 0.003*\"remov\" + 0.000*\"chain\" + 0.000*\"item\" + 0.000*\"link\" + 0.000*\"d1\"\n",
      "2021-02-19 22:52:42,620 : INFO : topic diff=0.155329, rho=0.215156\n"
     ]
    },
    {
     "data": {
      "text/plain": [
       "[(0, 0.008113882),\n",
       " (1, 0.0047744317),\n",
       " (2, 0.0051294058),\n",
       " (3, 0.0048535876),\n",
       " (4, 0.00545479),\n",
       " (5, 0.41454166),\n",
       " (6, 0.005073522),\n",
       " (7, 0.005674771),\n",
       " (8, 0.005262881),\n",
       " (9, 0.0056683556),\n",
       " (10, 0.0052420697),\n",
       " (11, 0.005726117),\n",
       " (12, 0.0052080755),\n",
       " (13, 0.0066077895),\n",
       " (14, 0.0062747956),\n",
       " (15, 0.005595583),\n",
       " (16, 0.00700019),\n",
       " (17, 0.006212003),\n",
       " (18, 0.005416891),\n",
       " (19, 0.0054014204),\n",
       " (20, 0.0062892498),\n",
       " (21, 0.005303702),\n",
       " (22, 0.004720436),\n",
       " (23, 0.00722849),\n",
       " (24, 0.0053805322),\n",
       " (25, 0.005020654),\n",
       " (26, 0.0054308274),\n",
       " (27, 0.006844623),\n",
       " (28, 0.0069555677),\n",
       " (29, 0.005617883),\n",
       " (30, 0.0051752734),\n",
       " (31, 0.0062336433),\n",
       " (32, 0.004645288),\n",
       " (33, 0.005667282),\n",
       " (34, 0.004984781),\n",
       " (35, 0.0055669695),\n",
       " (36, 0.0048328266),\n",
       " (37, 0.0049435496),\n",
       " (38, 0.006208505),\n",
       " (39, 0.00530709),\n",
       " (40, 0.0067105056),\n",
       " (41, 0.0055007134),\n",
       " (42, 0.0060957274),\n",
       " (43, 0.0057729012),\n",
       " (44, 0.00483205),\n",
       " (45, 0.004985402),\n",
       " (46, 0.0069884392),\n",
       " (47, 0.0052396655),\n",
       " (48, 0.005243188),\n",
       " (49, 0.00672906),\n",
       " (50, 0.0056900145),\n",
       " (51, 0.0068406626),\n",
       " (52, 0.0068255714),\n",
       " (53, 0.0050961208),\n",
       " (54, 0.0060856203),\n",
       " (55, 0.00766328),\n",
       " (56, 0.0051110233),\n",
       " (57, 0.0056427666),\n",
       " (58, 0.0062228525),\n",
       " (59, 0.005808292),\n",
       " (60, 0.0056508034),\n",
       " (61, 0.0051868153),\n",
       " (62, 0.005334298),\n",
       " (63, 0.0054923473),\n",
       " (64, 0.023862123),\n",
       " (65, 0.0046233125),\n",
       " (66, 0.00644256),\n",
       " (67, 0.005287627),\n",
       " (68, 0.0047527687),\n",
       " (69, 0.0066822683),\n",
       " (70, 0.005108751),\n",
       " (71, 0.005026742),\n",
       " (72, 0.006212567),\n",
       " (73, 0.006841157),\n",
       " (74, 0.006212461),\n",
       " (75, 0.0056029563),\n",
       " (76, 0.005095069),\n",
       " (77, 0.0055368906),\n",
       " (78, 0.0071117044),\n",
       " (79, 0.005238088),\n",
       " (80, 0.0057554734),\n",
       " (81, 0.006140484),\n",
       " (82, 0.005625244),\n",
       " (83, 0.0052944073),\n",
       " (84, 0.0071751755),\n",
       " (85, 0.0060153776),\n",
       " (86, 0.008187681),\n",
       " (87, 0.0050999206),\n",
       " (88, 0.00446549),\n",
       " (89, 0.0044382787),\n",
       " (90, 0.004738276),\n",
       " (91, 0.0054804636),\n",
       " (92, 0.005610414),\n",
       " (93, 0.0053652655),\n",
       " (94, 0.0068737254),\n",
       " (95, 0.005204196),\n",
       " (96, 0.0050202063),\n",
       " (97, 0.005720239),\n",
       " (98, 0.0057223802),\n",
       " (99, 0.0060927714)]"
      ]
     },
     "execution_count": 86,
     "metadata": {},
     "output_type": "execute_result"
    }
   ],
   "source": [
    "##### Function check\n",
    "lda = LdaRetrievalModel(doc_repr_2)\n",
    "lda.train_model()\n",
    "\n",
    "# you can now get an LDA vector for a given query in the following way:\n",
    "lda.vectorize_query(\"report\")\n",
    "##### "
   ]
  },
  {
   "cell_type": "markdown",
   "metadata": {
    "id": "8FI0AzksNyaA"
   },
   "source": [
    "\\#### Please do not change this. This cell is used for grading."
   ]
  },
  {
   "cell_type": "markdown",
   "metadata": {
    "id": "YiJLBrZ2NyaB"
   },
   "source": [
    "---\n",
    "Now we can use the `DenseRetrievalModel` class to obtain an LDA search function.\n",
    "You can test your LDA model in the following cell: Try finding queries which are lexically different to documents, but semantically similar - does LDA work well for these queries?!"
   ]
  },
  {
   "cell_type": "code",
   "execution_count": 87,
   "metadata": {
    "colab": {
     "base_uri": "https://localhost:8080/",
     "height": 49,
     "referenced_widgets": [
      "5ba4d8180cf1497d8978117ac7322416",
      "e9537ba0a1184f7882569dd56d62558a",
      "73825775b25443b0bcab415fd3fcf5aa"
     ]
    },
    "id": "_Mnqktc8NyaB",
    "outputId": "f346c60a-a928-4092-ab21-e3273ffa38cd"
   },
   "outputs": [
    {
     "data": {
      "application/vnd.jupyter.widget-view+json": {
       "model_id": "64ea83dc30f6498fb8242d1226c705a5",
       "version_major": 2,
       "version_minor": 0
      },
      "text/plain": [
       "Text(value='', description='Search Bar')"
      ]
     },
     "metadata": {},
     "output_type": "display_data"
    }
   ],
   "source": [
    "drm_lda = DenseRetrievalRanker(lda, jenson_shannon_sim)\n",
    "\n",
    "# test your LDA model\n",
    "search_fn = drm_lda.search\n",
    "\n",
    "text = widgets.Text(description=\"Search Bar\", width=200)\n",
    "display(text)\n",
    "\n",
    "\n",
    "text.on_submit(handle_submit_2)"
   ]
  },
  {
   "cell_type": "markdown",
   "metadata": {
    "id": "U-SSiayMNyaB"
   },
   "source": [
    "## Section 8: Word2Vec/Doc2Vec (20 points) <a class=\"anchor\" id=\"2vec\"></a>\n",
    "\n",
    "[Back to Part 2](#part2)\n",
    "\n",
    "We will implement two other methods here, the Word2Vec model and the Doc2Vec model, also using `gensim`. Word2Vec creates representations of words, not documents, so the word level vectors need to be aggregated to obtain a representation for the document. Here, we will simply take the mean of the vectors. \n",
    "\n",
    "\n",
    "A drawback of these models is that they need a lot of training data. Our dataset is tiny, so in addition to using a model trained on the data, we will also use a pre-trained model for Word2Vec (this will be automatically downloaded).     \n",
    "\n",
    "*Note*:\n",
    "1. The code in vectorize_documents / vectorize_query should return gensim-like vectors i.e `[(dim, val), .. (dim, val)]`. \n",
    "2. For Word2Vec: You should also handle the following two cases: (a) A word in the query is not present in the vocabulary of the model and (b) none of the words in the query are present in the model - you can return 0 scores for all documents in this case. For either of these, you can check if a `word` is present in the vocab by using `word in self.model`\n"
   ]
  },
  {
   "cell_type": "code",
   "execution_count": 88,
   "metadata": {
    "colab": {
     "base_uri": "https://localhost:8080/"
    },
    "id": "Hbf-bjj_NyaB",
    "outputId": "3679d73c-894a-4d10-8cc4-05be517011a3"
   },
   "outputs": [
    {
     "name": "stderr",
     "output_type": "stream",
     "text": [
      "2021-02-19 22:52:44,336 : INFO : adding document #0 to Dictionary(0 unique tokens: [])\n",
      "2021-02-19 22:52:44,438 : INFO : built Dictionary(5937 unique tokens: ['-', 'algebra', 'intern', 'languag', 'preliminari']...) from 3204 documents (total 115969 corpus positions)\n",
      "2021-02-19 22:52:44,443 : INFO : discarding 4740 tokens: [('repeat', 8), ('glossari', 7), ('inspect', 8), ('uncol', 2), ('rung', 9), ('secant', 2), ('.', 1603), ('acceler', 6), ('diverg', 3), ('induc', 9)]...\n",
      "2021-02-19 22:52:44,444 : INFO : keeping 1197 tokens which were in no less than 10 and no more than 1602 (=50.0%) documents\n",
      "2021-02-19 22:52:44,446 : INFO : resulting dictionary: Dictionary(1197 unique tokens: ['-', 'algebra', 'intern', 'languag', 'preliminari']...)\n",
      "2021-02-19 22:52:44,608 : INFO : collecting all words and their counts\n",
      "2021-02-19 22:52:44,608 : INFO : PROGRESS: at sentence #0, processed 0 words, keeping 0 word types\n",
      "2021-02-19 22:52:44,624 : INFO : collected 5937 word types from a corpus of 115969 raw words and 3204 sentences\n",
      "2021-02-19 22:52:44,624 : INFO : Loading a fresh vocabulary\n",
      "2021-02-19 22:52:44,633 : INFO : effective_min_count=1 retains 5937 unique words (100% of original 5937, drops 0)\n",
      "2021-02-19 22:52:44,633 : INFO : effective_min_count=1 leaves 115969 word corpus (100% of original 115969, drops 0)\n",
      "2021-02-19 22:52:44,648 : INFO : deleting the raw counts dictionary of 5937 items\n",
      "2021-02-19 22:52:44,649 : INFO : sample=0.001 downsamples 40 most-common words\n",
      "2021-02-19 22:52:44,649 : INFO : downsampling leaves estimated 92346 word corpus (79.6% of prior 115969)\n",
      "2021-02-19 22:52:44,658 : INFO : estimated required memory for 5937 words and 100 dimensions: 7718100 bytes\n",
      "2021-02-19 22:52:44,658 : INFO : resetting layer weights\n",
      "2021-02-19 22:52:45,633 : INFO : training model with 3 workers on 5937 vocabulary and 100 features, using sg=0 hs=0 sample=0.001 negative=5 window=5\n",
      "2021-02-19 22:52:45,688 : INFO : worker thread finished; awaiting finish of 2 more threads\n",
      "2021-02-19 22:52:45,689 : INFO : worker thread finished; awaiting finish of 1 more threads\n",
      "2021-02-19 22:52:45,692 : INFO : worker thread finished; awaiting finish of 0 more threads\n",
      "2021-02-19 22:52:45,692 : INFO : EPOCH - 1 : training on 115969 raw words (92259 effective words) took 0.1s, 1651471 effective words/s\n",
      "2021-02-19 22:52:45,748 : INFO : worker thread finished; awaiting finish of 2 more threads\n",
      "2021-02-19 22:52:45,753 : INFO : worker thread finished; awaiting finish of 1 more threads\n",
      "2021-02-19 22:52:45,755 : INFO : worker thread finished; awaiting finish of 0 more threads\n",
      "2021-02-19 22:52:45,755 : INFO : EPOCH - 2 : training on 115969 raw words (92243 effective words) took 0.1s, 1633104 effective words/s\n",
      "2021-02-19 22:52:45,811 : INFO : worker thread finished; awaiting finish of 2 more threads\n",
      "2021-02-19 22:52:45,815 : INFO : worker thread finished; awaiting finish of 1 more threads\n",
      "2021-02-19 22:52:45,816 : INFO : worker thread finished; awaiting finish of 0 more threads\n",
      "2021-02-19 22:52:45,816 : INFO : EPOCH - 3 : training on 115969 raw words (92346 effective words) took 0.1s, 1652945 effective words/s\n",
      "2021-02-19 22:52:45,870 : INFO : worker thread finished; awaiting finish of 2 more threads\n",
      "2021-02-19 22:52:45,874 : INFO : worker thread finished; awaiting finish of 1 more threads\n",
      "2021-02-19 22:52:45,876 : INFO : worker thread finished; awaiting finish of 0 more threads\n",
      "2021-02-19 22:52:45,876 : INFO : EPOCH - 4 : training on 115969 raw words (92349 effective words) took 0.1s, 1669036 effective words/s\n",
      "2021-02-19 22:52:45,932 : INFO : worker thread finished; awaiting finish of 2 more threads\n",
      "2021-02-19 22:52:45,933 : INFO : worker thread finished; awaiting finish of 1 more threads\n",
      "2021-02-19 22:52:45,935 : INFO : worker thread finished; awaiting finish of 0 more threads\n",
      "2021-02-19 22:52:45,935 : INFO : EPOCH - 5 : training on 115969 raw words (92313 effective words) took 0.1s, 1713705 effective words/s\n",
      "2021-02-19 22:52:45,935 : INFO : training on a 579845 raw words (461510 effective words) took 0.3s, 1529180 effective words/s\n",
      "2021-02-19 22:52:45,936 : INFO : saving Word2Vec object under word2vec-google-news-300.model, separately None\n",
      "2021-02-19 22:52:45,936 : INFO : not storing attribute vectors_norm\n",
      "2021-02-19 22:52:45,937 : INFO : not storing attribute cum_table\n",
      "2021-02-19 22:52:45,978 : INFO : saved word2vec-google-news-300.model\n"
     ]
    },
    {
     "data": {
      "text/plain": [
       "[(0, 0.10895367),\n",
       " (1, 0.12217637),\n",
       " (2, -0.07480104),\n",
       " (3, 0.19750515),\n",
       " (4, -0.013826887),\n",
       " (5, 0.069984645),\n",
       " (6, 0.014467405),\n",
       " (7, 0.059876934),\n",
       " (8, 0.11729815),\n",
       " (9, 0.16905047),\n",
       " (10, 0.10974939),\n",
       " (11, -0.026893523),\n",
       " (12, 0.03642345),\n",
       " (13, 0.067993626),\n",
       " (14, -0.024139423),\n",
       " (15, 0.06633035),\n",
       " (16, 0.1302095),\n",
       " (17, -0.063747145),\n",
       " (18, 0.085926525),\n",
       " (19, -0.031735405),\n",
       " (20, 0.08511715),\n",
       " (21, -0.075270005),\n",
       " (22, -0.0049473816),\n",
       " (23, -0.1396215),\n",
       " (24, 0.12844622),\n",
       " (25, -0.0039034665),\n",
       " (26, -0.13227499),\n",
       " (27, 0.11614388),\n",
       " (28, 0.26218578),\n",
       " (29, -0.04970734),\n",
       " (30, -0.033200137),\n",
       " (31, 0.12476612),\n",
       " (32, -0.14957774),\n",
       " (33, 0.16482496),\n",
       " (34, 0.08254256),\n",
       " (35, -0.14865686),\n",
       " (36, 0.038189203),\n",
       " (37, 0.016183285),\n",
       " (38, -0.06224189),\n",
       " (39, -0.10534956),\n",
       " (40, 0.085742265),\n",
       " (41, -0.01841159),\n",
       " (42, 0.116705224),\n",
       " (43, 0.035525147),\n",
       " (44, -0.017305037),\n",
       " (45, 0.12868994),\n",
       " (46, 0.0064053936),\n",
       " (47, -0.030771768),\n",
       " (48, -0.07658876),\n",
       " (49, 0.087660454),\n",
       " (50, 0.03327767),\n",
       " (51, -0.15947162),\n",
       " (52, -0.01246604),\n",
       " (53, -0.0879805),\n",
       " (54, 0.026656978),\n",
       " (55, -0.103733644),\n",
       " (56, -0.20465983),\n",
       " (57, -0.06037432),\n",
       " (58, 0.02414716),\n",
       " (59, 0.10907201),\n",
       " (60, -0.22310889),\n",
       " (61, 0.04525013),\n",
       " (62, 0.06497768),\n",
       " (63, -0.16150714),\n",
       " (64, 0.041646574),\n",
       " (65, -0.031070583),\n",
       " (66, -0.11565049),\n",
       " (67, 0.17899224),\n",
       " (68, -0.10456918),\n",
       " (69, 0.020228583),\n",
       " (70, -0.011115231),\n",
       " (71, -0.06466617),\n",
       " (72, 0.006222906),\n",
       " (73, 0.17054154),\n",
       " (74, 0.08914998),\n",
       " (75, -0.028424831),\n",
       " (76, 0.02643886),\n",
       " (77, 0.0052676797),\n",
       " (78, 0.07625557),\n",
       " (79, 0.079055324),\n",
       " (80, 0.10724217),\n",
       " (81, 0.005724199),\n",
       " (82, 0.010440751),\n",
       " (83, -0.03852699),\n",
       " (84, 0.06753365),\n",
       " (85, 0.017771222),\n",
       " (86, -0.14591461),\n",
       " (87, 0.089967504),\n",
       " (88, -0.16306537),\n",
       " (89, 0.08617493),\n",
       " (90, -0.2104472),\n",
       " (91, -0.0012645418),\n",
       " (92, -0.22114657),\n",
       " (93, 0.113700196),\n",
       " (94, -0.009764409),\n",
       " (95, 0.026633639),\n",
       " (96, -0.10216944),\n",
       " (97, -0.039209332),\n",
       " (98, -0.023183368),\n",
       " (99, 0.07755286)]"
      ]
     },
     "execution_count": 88,
     "metadata": {},
     "output_type": "execute_result"
    }
   ],
   "source": [
    "# TODO: Implement this! (10 points)\n",
    "class W2VRetrievalModel(VectorSpaceRetrievalModel):\n",
    "    def __init__(self, doc_repr):\n",
    "        super().__init__(doc_repr)\n",
    "        \n",
    "        # the dimensionality of the vectors\n",
    "        self.size = 100 \n",
    "        self.min_count = 1\n",
    "    \n",
    "    def train_model(self):\n",
    "        \"\"\"\n",
    "        Trains the W2V model\n",
    "        \"\"\"\n",
    "        # YOUR CODE HERE\n",
    "        self.model = Word2Vec(self.documents, size=self.size, min_count = self.min_count)\n",
    "        self.model.save(\"word2vec-google-news-300.model\")\n",
    "        # raise NotImplementedError()\n",
    "        \n",
    "    def vectorize_documents(self):\n",
    "        \"\"\"\n",
    "            Returns a doc_id -> vector dictionary\n",
    "        \"\"\"\n",
    "        # YOUR CODE HERE\n",
    "        vectors = {}\n",
    "        for (doc_id, _), cc in zip(self.doc_repr, self.documents):\n",
    "          vector_dim = self.model.vector_size\n",
    "          arr = np.empty((0,vector_dim), dtype='f')\n",
    "\n",
    "          # vectorize query\n",
    "          for wrd in cc:\n",
    "            if wrd in self.model.wv.vocab:\n",
    "              word_array = self.model.wv[wrd]\n",
    "              norm = np.linalg.norm(word_array)\n",
    "              word_array = (word_array/norm).reshape(1, -1)\n",
    "              arr = np.append(arr,np.array(word_array), axis=0)\n",
    "            else:\n",
    "              word_array = np.zeros(self.size).reshape(1, -1)\n",
    "              arr = np.append(arr,np.array(word_array), axis=0)\n",
    "\n",
    "          list1 = np.mean(arr, axis=0)\n",
    "          list2 = list(range(self.size))\n",
    "          vectors[doc_id] = list(zip(list2, list1)) # save vectorized query for each doc\n",
    "        return vectors\n",
    "        # raise NotImplementedError()\n",
    "\n",
    "    def vectorize_query(self, query):\n",
    "        \"\"\"\n",
    "        Vectorizes the query using the W2V model\n",
    "        \"\"\"\n",
    "        # YOUR CODE HERE\n",
    "        query = process_text(query, **config_2)\n",
    "        vector_dim = self.model.vector_size\n",
    "        arr = np.empty((0,vector_dim), dtype='f')\n",
    "        \n",
    "        for wrd in query:\n",
    "          if wrd in self.model.wv.vocab:\n",
    "            word_array = self.model.wv[wrd] # infer vector for each word\n",
    "\n",
    "            norm = np.linalg.norm(word_array)\n",
    "            word_array = (word_array/norm).reshape(1, -1) # normalize the inferred vector\n",
    "\n",
    "            arr = np.append(arr,np.array(word_array), axis=0)\n",
    "          else:\n",
    "            word_array = np.zeros(self.size).reshape(1, -1) # if the word is not present, return 0 for all dimension\n",
    "\n",
    "            arr = np.append(arr,np.array(word_array), axis=0)\n",
    "\n",
    "        list1 = np.mean(arr, axis=0) # average over each dimension\n",
    "        list2 = list(range(self.size))\n",
    "\n",
    "        return list(zip(list2, list1))\n",
    "        # raise NotImplementedError()\n",
    "      \n",
    "    \n",
    "class W2VPretrainedRetrievalModel(W2VRetrievalModel):\n",
    "    def __init__(self, doc_repr):\n",
    "        super().__init__(doc_repr)\n",
    "        self.model_name = \"word2vec-google-news-300\"\n",
    "        self.size = 300\n",
    "    \n",
    "    def train_model(self):\n",
    "        \"\"\"\n",
    "        Loads the pretrained model\n",
    "        \"\"\"\n",
    "        self.model = g_downloader.load(self.model_name)\n",
    "\n",
    "w2v = W2VRetrievalModel(doc_repr_2)\n",
    "w2v.train_model()\n",
    "\n",
    "# you can now get a W2V vector for a given query in the following way:\n",
    "w2v.vectorize_query(\"report\")"
   ]
  },
  {
   "cell_type": "code",
   "execution_count": 89,
   "metadata": {
    "id": "BJryC3CSNyaB"
   },
   "outputs": [],
   "source": [
    "assert len(w2v.vectorize_query(\"report\")) == 100\n",
    "assert len(w2v.vectorize_query(\"this is a sentence that is not mellifluous\")) == 100\n"
   ]
  },
  {
   "cell_type": "markdown",
   "metadata": {
    "id": "-mE6AikhNyaB"
   },
   "source": [
    "\\#### Please do not change this. This cell is used for grading."
   ]
  },
  {
   "cell_type": "code",
   "execution_count": 90,
   "metadata": {
    "colab": {
     "base_uri": "https://localhost:8080/"
    },
    "id": "frVpdla6NyaB",
    "outputId": "546495d6-e8f4-4373-bd02-48a9d0a1bbfb"
   },
   "outputs": [
    {
     "name": "stderr",
     "output_type": "stream",
     "text": [
      "2021-02-19 22:52:45,994 : INFO : adding document #0 to Dictionary(0 unique tokens: [])\n",
      "2021-02-19 22:52:46,092 : INFO : built Dictionary(5937 unique tokens: ['-', 'algebra', 'intern', 'languag', 'preliminari']...) from 3204 documents (total 115969 corpus positions)\n",
      "2021-02-19 22:52:46,099 : INFO : discarding 4740 tokens: [('repeat', 8), ('glossari', 7), ('inspect', 8), ('uncol', 2), ('rung', 9), ('secant', 2), ('.', 1603), ('acceler', 6), ('diverg', 3), ('induc', 9)]...\n",
      "2021-02-19 22:52:46,099 : INFO : keeping 1197 tokens which were in no less than 10 and no more than 1602 (=50.0%) documents\n",
      "2021-02-19 22:52:46,102 : INFO : resulting dictionary: Dictionary(1197 unique tokens: ['-', 'algebra', 'intern', 'languag', 'preliminari']...)\n"
     ]
    },
    {
     "name": "stdout",
     "output_type": "stream",
     "text": [
      "[==================================================] 100.0% 1662.8/1662.8MB downloaded\n"
     ]
    },
    {
     "name": "stderr",
     "output_type": "stream",
     "text": [
      "2021-02-19 22:56:01,189 : INFO : word2vec-google-news-300 downloaded\n",
      "2021-02-19 22:56:01,199 : INFO : loading projection weights from /Users/xinyichen/gensim-data/word2vec-google-news-300/word2vec-google-news-300.gz\n",
      "2021-02-19 22:56:42,420 : INFO : loaded (3000000, 300) matrix from /Users/xinyichen/gensim-data/word2vec-google-news-300/word2vec-google-news-300.gz\n",
      "<ipython-input-88-07a28d4b976b>:56: DeprecationWarning: Call to deprecated `wv` (Attribute will be removed in 4.0.0, use self instead).\n",
      "  if wrd in self.model.wv.vocab:\n",
      "<ipython-input-88-07a28d4b976b>:57: DeprecationWarning: Call to deprecated `wv` (Attribute will be removed in 4.0.0, use self instead).\n",
      "  word_array = self.model.wv[wrd] # infer vector for each word\n"
     ]
    },
    {
     "data": {
      "text/plain": [
       "[(0, -0.05876739),\n",
       " (1, -0.06762275),\n",
       " (2, -0.037232764),\n",
       " (3, -0.04628938),\n",
       " (4, 0.041257925),\n",
       " (5, -0.017006315),\n",
       " (6, 0.020125818),\n",
       " (7, -0.05635229),\n",
       " (8, 0.08090579),\n",
       " (9, -0.055547256),\n",
       " (10, -0.0072452943),\n",
       " (11, 0.013283039),\n",
       " (12, 0.039245345),\n",
       " (13, -0.043673024),\n",
       " (14, -0.07003785),\n",
       " (15, 0.016905688),\n",
       " (16, -0.108679414),\n",
       " (17, -0.0026037777),\n",
       " (18, -0.073257975),\n",
       " (19, -0.09901902),\n",
       " (20, 0.1449059),\n",
       " (21, -0.0050314544),\n",
       " (22, -0.066817716),\n",
       " (23, -0.04971077),\n",
       " (24, 0.017811349),\n",
       " (25, 0.04528309),\n",
       " (26, 0.021635255),\n",
       " (27, 0.07366049),\n",
       " (28, -0.05997494),\n",
       " (29, 0.056754805),\n",
       " (30, -0.033811375),\n",
       " (31, -0.116729744),\n",
       " (32, -0.044880573),\n",
       " (33, -0.11914484),\n",
       " (34, 0.02978621),\n",
       " (35, -0.019522043),\n",
       " (36, 0.0166038),\n",
       " (37, 0.027974887),\n",
       " (38, 0.048100706),\n",
       " (39, 0.00034276783),\n",
       " (40, 0.028176146),\n",
       " (41, 0.04950951),\n",
       " (42, -0.03642773),\n",
       " (43, 0.13927066),\n",
       " (44, -0.018415123),\n",
       " (45, -0.012427692),\n",
       " (46, 0.0031698162),\n",
       " (47, -0.008704416),\n",
       " (48, -0.10465425),\n",
       " (49, 0.061585),\n",
       " (50, 0.16422667),\n",
       " (51, 0.008905674),\n",
       " (52, -0.009559764),\n",
       " (53, 0.0026163564),\n",
       " (54, 0.0033962317),\n",
       " (55, -0.06963533),\n",
       " (56, 0.01539625),\n",
       " (57, -0.026163563),\n",
       " (58, 0.04830196),\n",
       " (59, -0.061182488),\n",
       " (60, -0.032402568),\n",
       " (61, 0.15215118),\n",
       " (62, -0.09257876),\n",
       " (63, 0.07164791),\n",
       " (64, 0.005710701),\n",
       " (65, 0.077283144),\n",
       " (66, -0.041660443),\n",
       " (67, 0.015597509),\n",
       " (68, 0.0008742152),\n",
       " (69, -0.021132108),\n",
       " (70, 0.039647862),\n",
       " (71, -0.023547206),\n",
       " (72, 0.043673024),\n",
       " (73, -0.008654102),\n",
       " (74, 0.0664152),\n",
       " (75, 0.040251635),\n",
       " (76, 0.015798766),\n",
       " (77, 0.09056618),\n",
       " (78, 0.043874282),\n",
       " (79, 0.03542144),\n",
       " (80, 0.07406301),\n",
       " (81, -0.03421389),\n",
       " (82, -0.013685556),\n",
       " (83, 0.016905688),\n",
       " (84, -0.026767338),\n",
       " (85, 0.00820127),\n",
       " (86, 0.055144742),\n",
       " (87, -0.040251635),\n",
       " (88, -0.079698235),\n",
       " (89, -0.09700644),\n",
       " (90, 0.07849069),\n",
       " (91, 0.0010251588),\n",
       " (92, -0.006490576),\n",
       " (93, 0.013283039),\n",
       " (94, -0.09056618),\n",
       " (95, -0.037635278),\n",
       " (96, 0.008754731),\n",
       " (97, 0.06520765),\n",
       " (98, 0.12317),\n",
       " (99, -0.1352455),\n",
       " (100, 0.023647835),\n",
       " (101, -0.019119527),\n",
       " (102, 0.0466919),\n",
       " (103, -0.0418617),\n",
       " (104, 0.07446553),\n",
       " (105, -0.010364796),\n",
       " (106, -0.06842778),\n",
       " (107, -0.039647862),\n",
       " (108, 0.00774844),\n",
       " (109, -0.08010075),\n",
       " (110, 0.061585),\n",
       " (111, -0.02334595),\n",
       " (112, -0.04407554),\n",
       " (113, -0.06198752),\n",
       " (114, -0.07245295),\n",
       " (115, 0.04649064),\n",
       " (116, 0.020327076),\n",
       " (117, 0.09056618),\n",
       " (118, 0.13122033),\n",
       " (119, 0.064805135),\n",
       " (120, -0.120754905),\n",
       " (121, 0.04327051),\n",
       " (122, -0.122364976),\n",
       " (123, -0.0055346),\n",
       " (124, 0.037434023),\n",
       " (125, 0.005182398),\n",
       " (126, -0.021232737),\n",
       " (127, -0.053132158),\n",
       " (128, 0.0059622736),\n",
       " (129, 0.04971077),\n",
       " (130, -0.041660443),\n",
       " (131, -0.045886863),\n",
       " (132, 0.026364822),\n",
       " (133, -0.021836512),\n",
       " (134, -0.017811349),\n",
       " (135, -0.0053333417),\n",
       " (136, -0.011371087),\n",
       " (137, -0.040050376),\n",
       " (138, -0.083320886),\n",
       " (139, 0.05071706),\n",
       " (140, -0.017509462),\n",
       " (141, 0.07164791),\n",
       " (142, -0.005635229),\n",
       " (143, 0.0418617),\n",
       " (144, -0.00038679305),\n",
       " (145, -0.014691847),\n",
       " (146, 0.12397504),\n",
       " (147, -0.028176146),\n",
       " (148, -0.02314469),\n",
       " (149, 0.01549688),\n",
       " (150, 0.027169853),\n",
       " (151, 0.0166038),\n",
       " (152, 0.004905668),\n",
       " (153, 0.039647862),\n",
       " (154, 0.15134615),\n",
       " (155, -0.11511968),\n",
       " (156, -0.021433996),\n",
       " (157, -0.04407554),\n",
       " (158, -0.055547256),\n",
       " (159, -0.019018898),\n",
       " (160, 0.10304419),\n",
       " (161, 0.0023396264),\n",
       " (162, -0.005937116),\n",
       " (163, -0.012779894),\n",
       " (164, -0.024855385),\n",
       " (165, 0.043673024),\n",
       " (166, 0.15617634),\n",
       " (167, 0.02425161),\n",
       " (168, 0.05071706),\n",
       " (169, -0.04749693),\n",
       " (170, 0.061585),\n",
       " (171, -0.06762275),\n",
       " (172, -0.09620141),\n",
       " (173, -0.03200005),\n",
       " (174, 0.011018885),\n",
       " (175, -0.008704416),\n",
       " (176, 0.08010075),\n",
       " (177, -0.02314469),\n",
       " (178, -0.0026540922),\n",
       " (179, -0.07003785),\n",
       " (180, -0.048905738),\n",
       " (181, -0.027773628),\n",
       " (182, -0.028377403),\n",
       " (183, -0.035823956),\n",
       " (184, -0.0418617),\n",
       " (185, 0.0058364873),\n",
       " (186, -0.08291837),\n",
       " (187, 0.040452894),\n",
       " (188, -0.004226422),\n",
       " (189, 0.077283144),\n",
       " (190, 0.08090579),\n",
       " (191, -0.0909687),\n",
       " (192, -0.08090579),\n",
       " (193, -0.030389985),\n",
       " (194, 0.027371112),\n",
       " (195, -0.055144742),\n",
       " (196, 0.07567307),\n",
       " (197, -0.08251585),\n",
       " (198, 0.08171082),\n",
       " (199, 0.020729592),\n",
       " (200, 0.012327064),\n",
       " (201, 0.007295609),\n",
       " (202, -0.079698235),\n",
       " (203, -0.039647862),\n",
       " (204, -0.042264216),\n",
       " (205, 0.087748565),\n",
       " (206, -0.012327064),\n",
       " (207, 0.059169903),\n",
       " (208, 0.016905688),\n",
       " (209, -0.08734605),\n",
       " (210, 0.085735984),\n",
       " (211, 0.056754805),\n",
       " (212, -0.008100642),\n",
       " (213, 0.006163532),\n",
       " (214, -0.040251635),\n",
       " (215, 0.10022657),\n",
       " (216, 0.03300634),\n",
       " (217, 0.03401263),\n",
       " (218, 0.040654153),\n",
       " (219, 0.023446579),\n",
       " (220, 0.017509462),\n",
       " (221, 0.028377403),\n",
       " (222, -0.014591218),\n",
       " (223, -0.031396277),\n",
       " (224, -6.643092e-05),\n",
       " (225, -0.03099376),\n",
       " (226, 0.09257876),\n",
       " (227, 0.062390037),\n",
       " (228, 0.041459184),\n",
       " (229, 0.04528309),\n",
       " (230, 0.009811336),\n",
       " (231, 0.03642773),\n",
       " (232, 0.02545916),\n",
       " (233, -0.04447806),\n",
       " (234, 0.025660418),\n",
       " (235, 0.0014150966),\n",
       " (236, 0.0332076),\n",
       " (237, 0.04407554),\n",
       " (238, 0.036628988),\n",
       " (239, -0.097811475),\n",
       " (240, 0.026767338),\n",
       " (241, 0.0042012646),\n",
       " (242, -0.03642773),\n",
       " (243, -0.13685556),\n",
       " (244, 0.0019245313),\n",
       " (245, 0.087748565),\n",
       " (246, 0.03542144),\n",
       " (247, 0.008402529),\n",
       " (248, 0.018817639),\n",
       " (249, 0.061182488),\n",
       " (250, 0.04870448),\n",
       " (251, 0.022943432),\n",
       " (252, -0.071245395),\n",
       " (253, -0.051522095),\n",
       " (254, -0.010465425),\n",
       " (255, -0.13122033),\n",
       " (256, 0.012830209),\n",
       " (257, 0.03542144),\n",
       " (258, -0.017308204),\n",
       " (259, 0.06440262),\n",
       " (260, 0.0664152),\n",
       " (261, 0.08171082),\n",
       " (262, -0.041257925),\n",
       " (263, 0.0837234),\n",
       " (264, 0.053132158),\n",
       " (265, 0.09620141),\n",
       " (266, -0.110289484),\n",
       " (267, 0.022742175),\n",
       " (268, 0.020125818),\n",
       " (269, 0.02978621),\n",
       " (270, 0.10062909),\n",
       " (271, 0.10062909),\n",
       " (272, 0.023446579),\n",
       " (273, -0.022540916),\n",
       " (274, -0.013886814),\n",
       " (275, -0.04971077),\n",
       " (276, 0.01438996),\n",
       " (277, -0.05997494),\n",
       " (278, 0.036025215),\n",
       " (279, -0.03421389),\n",
       " (280, 0.0070943506),\n",
       " (281, 0.059169903),\n",
       " (282, -0.050515804),\n",
       " (283, 0.07406301),\n",
       " (284, 0.053937193),\n",
       " (285, -0.06802526),\n",
       " (286, 0.00525787),\n",
       " (287, 0.06601268),\n",
       " (288, -0.012830209),\n",
       " (289, 0.033811375),\n",
       " (290, 0.07164791),\n",
       " (291, -0.069232814),\n",
       " (292, 0.053937193),\n",
       " (293, 0.03522018),\n",
       " (294, -0.08694353),\n",
       " (295, -0.053937193),\n",
       " (296, -0.011924547),\n",
       " (297, -0.043471765),\n",
       " (298, 0.034817666),\n",
       " (299, -0.058364872)]"
      ]
     },
     "execution_count": 90,
     "metadata": {},
     "output_type": "execute_result"
    }
   ],
   "source": [
    "w2v_pretrained = W2VPretrainedRetrievalModel(doc_repr_2)\n",
    "w2v_pretrained.train_model()\n",
    "\n",
    "# you can now get an W2V vector for a given query in the following way:\n",
    "w2v_pretrained.vectorize_query(\"report\")"
   ]
  },
  {
   "cell_type": "code",
   "execution_count": 91,
   "metadata": {
    "colab": {
     "base_uri": "https://localhost:8080/"
    },
    "id": "wmOHahO-NyaB",
    "outputId": "9b191e04-6e39-41d9-a391-9bca7046b3a4"
   },
   "outputs": [
    {
     "name": "stdout",
     "output_type": "stream",
     "text": [
      "300\n"
     ]
    },
    {
     "name": "stderr",
     "output_type": "stream",
     "text": [
      "<ipython-input-88-07a28d4b976b>:56: DeprecationWarning: Call to deprecated `wv` (Attribute will be removed in 4.0.0, use self instead).\n",
      "  if wrd in self.model.wv.vocab:\n",
      "<ipython-input-88-07a28d4b976b>:57: DeprecationWarning: Call to deprecated `wv` (Attribute will be removed in 4.0.0, use self instead).\n",
      "  word_array = self.model.wv[wrd] # infer vector for each word\n"
     ]
    }
   ],
   "source": [
    "##### Function check\n",
    "\n",
    "print(len(w2v_pretrained.vectorize_query(\"report\")))\n",
    "#####"
   ]
  },
  {
   "cell_type": "code",
   "execution_count": 92,
   "metadata": {
    "colab": {
     "base_uri": "https://localhost:8080/",
     "height": 49,
     "referenced_widgets": [
      "65273a2b291a4fbd83e1c4e49b69c6ad",
      "e303d1549f674c03905a4cc1dd8d5de9",
      "d9e360a58de04912b700c6d3db9eb043"
     ]
    },
    "id": "bdprFw4fNyaC",
    "outputId": "27ed4ae1-3caf-4e5a-deaa-5187ccfbb8a1"
   },
   "outputs": [
    {
     "data": {
      "application/vnd.jupyter.widget-view+json": {
       "model_id": "cf2f3734f01c416d9fb8ea99f3074ab9",
       "version_major": 2,
       "version_minor": 0
      },
      "text/plain": [
       "Text(value='', description='Search Bar')"
      ]
     },
     "metadata": {},
     "output_type": "display_data"
    }
   ],
   "source": [
    "drm_w2v = DenseRetrievalRanker(w2v, cosine_sim)\n",
    "\n",
    "# test your LDA model\n",
    "search_fn = drm_w2v.search\n",
    "\n",
    "text = widgets.Text(description=\"Search Bar\", width=200)\n",
    "display(text)\n",
    "\n",
    "\n",
    "text.on_submit(handle_submit_2)"
   ]
  },
  {
   "cell_type": "code",
   "execution_count": 93,
   "metadata": {
    "colab": {
     "base_uri": "https://localhost:8080/",
     "height": 84,
     "referenced_widgets": [
      "a479afdff19e4f35be231aa9a3bc736c",
      "dd1b24f4e41d42b3890c0612460caeb8",
      "6f4ba93864434d0c84f6c3852f416564"
     ]
    },
    "id": "JFPwAh2kNyaC",
    "outputId": "bd1a4f02-9729-4fb7-f678-369678cfb5a8"
   },
   "outputs": [
    {
     "name": "stderr",
     "output_type": "stream",
     "text": [
      "<ipython-input-88-07a28d4b976b>:31: DeprecationWarning: Call to deprecated `wv` (Attribute will be removed in 4.0.0, use self instead).\n",
      "  if wrd in self.model.wv.vocab:\n",
      "<ipython-input-88-07a28d4b976b>:32: DeprecationWarning: Call to deprecated `wv` (Attribute will be removed in 4.0.0, use self instead).\n",
      "  word_array = self.model.wv[wrd]\n"
     ]
    },
    {
     "data": {
      "application/vnd.jupyter.widget-view+json": {
       "model_id": "df3a11a939cc443385a211c662e54b3d",
       "version_major": 2,
       "version_minor": 0
      },
      "text/plain": [
       "Text(value='', description='Search Bar')"
      ]
     },
     "metadata": {},
     "output_type": "display_data"
    }
   ],
   "source": [
    "drm_w2v_pretrained = DenseRetrievalRanker(w2v_pretrained, cosine_sim)\n",
    "\n",
    "# test your LDA model\n",
    "search_fn = drm_w2v_pretrained.search\n",
    "\n",
    "text = widgets.Text(description=\"Search Bar\", width=200)\n",
    "display(text)\n",
    "\n",
    "\n",
    "text.on_submit(handle_submit_2)"
   ]
  },
  {
   "cell_type": "markdown",
   "metadata": {
    "id": "xCVpe_NWNyaC"
   },
   "source": [
    "**Implementation (10 points):**\n",
    "For Doc2Vec, you will need to create a list of `TaggedDocument` instead of using the `self.corpus` or `self.documents` variable. Use the document id as the 'tag'.\n",
    "  "
   ]
  },
  {
   "cell_type": "code",
   "execution_count": 94,
   "metadata": {
    "colab": {
     "base_uri": "https://localhost:8080/"
    },
    "id": "I_qt3Md4NyaC",
    "outputId": "9e6a8f6f-b95d-409c-edae-c14f05d1168c"
   },
   "outputs": [
    {
     "name": "stderr",
     "output_type": "stream",
     "text": [
      "2021-02-19 22:56:52,489 : INFO : adding document #0 to Dictionary(0 unique tokens: [])\n",
      "2021-02-19 22:56:52,602 : INFO : built Dictionary(5937 unique tokens: ['-', 'algebra', 'intern', 'languag', 'preliminari']...) from 3204 documents (total 115969 corpus positions)\n",
      "2021-02-19 22:56:52,607 : INFO : discarding 4740 tokens: [('repeat', 8), ('glossari', 7), ('inspect', 8), ('uncol', 2), ('rung', 9), ('secant', 2), ('.', 1603), ('acceler', 6), ('diverg', 3), ('induc', 9)]...\n",
      "2021-02-19 22:56:52,608 : INFO : keeping 1197 tokens which were in no less than 10 and no more than 1602 (=50.0%) documents\n",
      "2021-02-19 22:56:52,610 : INFO : resulting dictionary: Dictionary(1197 unique tokens: ['-', 'algebra', 'intern', 'languag', 'preliminari']...)\n",
      "/Users/xinyichen/opt/anaconda3/lib/python3.8/site-packages/gensim/models/doc2vec.py:319: UserWarning: The parameter `size` is deprecated, will be removed in 4.0.0, use `vector_size` instead.\n",
      "  warnings.warn(\"The parameter `size` is deprecated, will be removed in 4.0.0, use `vector_size` instead.\")\n",
      "2021-02-19 22:56:52,677 : INFO : collecting all words and their counts\n",
      "2021-02-19 22:56:52,678 : INFO : PROGRESS: at example #0, processed 0 words (0/s), 0 word types, 0 tags\n",
      "2021-02-19 22:56:52,698 : INFO : collected 5937 word types and 3204 unique tags from a corpus of 3204 examples and 115969 words\n",
      "2021-02-19 22:56:52,699 : INFO : Loading a fresh vocabulary\n",
      "2021-02-19 22:56:52,708 : INFO : effective_min_count=1 retains 5937 unique words (100% of original 5937, drops 0)\n",
      "2021-02-19 22:56:52,708 : INFO : effective_min_count=1 leaves 115969 word corpus (100% of original 115969, drops 0)\n",
      "2021-02-19 22:56:52,723 : INFO : deleting the raw counts dictionary of 5937 items\n",
      "2021-02-19 22:56:52,724 : INFO : sample=0.001 downsamples 40 most-common words\n",
      "2021-02-19 22:56:52,725 : INFO : downsampling leaves estimated 92346 word corpus (79.6% of prior 115969)\n",
      "2021-02-19 22:56:52,734 : INFO : estimated required memory for 5937 words and 100 dimensions: 8999700 bytes\n",
      "2021-02-19 22:56:52,735 : INFO : resetting layer weights\n",
      "2021-02-19 22:56:54,301 : INFO : training model with 3 workers on 5937 vocabulary and 100 features, using sg=0 hs=0 sample=0.001 negative=5 window=5\n",
      "2021-02-19 22:56:54,468 : INFO : worker thread finished; awaiting finish of 2 more threads\n",
      "2021-02-19 22:56:54,480 : INFO : worker thread finished; awaiting finish of 1 more threads\n",
      "2021-02-19 22:56:54,480 : INFO : worker thread finished; awaiting finish of 0 more threads\n",
      "2021-02-19 22:56:54,481 : INFO : EPOCH - 1 : training on 115969 raw words (95505 effective words) took 0.2s, 546993 effective words/s\n",
      "2021-02-19 22:56:54,633 : INFO : worker thread finished; awaiting finish of 2 more threads\n",
      "2021-02-19 22:56:54,640 : INFO : worker thread finished; awaiting finish of 1 more threads\n",
      "2021-02-19 22:56:54,645 : INFO : worker thread finished; awaiting finish of 0 more threads\n",
      "2021-02-19 22:56:54,646 : INFO : EPOCH - 2 : training on 115969 raw words (95465 effective words) took 0.2s, 591038 effective words/s\n",
      "2021-02-19 22:56:54,816 : INFO : worker thread finished; awaiting finish of 2 more threads\n",
      "2021-02-19 22:56:54,827 : INFO : worker thread finished; awaiting finish of 1 more threads\n",
      "2021-02-19 22:56:54,830 : INFO : worker thread finished; awaiting finish of 0 more threads\n",
      "2021-02-19 22:56:54,831 : INFO : EPOCH - 3 : training on 115969 raw words (95677 effective words) took 0.2s, 528865 effective words/s\n",
      "2021-02-19 22:56:54,993 : INFO : worker thread finished; awaiting finish of 2 more threads\n",
      "2021-02-19 22:56:55,002 : INFO : worker thread finished; awaiting finish of 1 more threads\n",
      "2021-02-19 22:56:55,005 : INFO : worker thread finished; awaiting finish of 0 more threads\n",
      "2021-02-19 22:56:55,006 : INFO : EPOCH - 4 : training on 115969 raw words (95405 effective words) took 0.2s, 555420 effective words/s\n",
      "2021-02-19 22:56:55,165 : INFO : worker thread finished; awaiting finish of 2 more threads\n",
      "2021-02-19 22:56:55,173 : INFO : worker thread finished; awaiting finish of 1 more threads\n",
      "2021-02-19 22:56:55,179 : INFO : worker thread finished; awaiting finish of 0 more threads\n",
      "2021-02-19 22:56:55,179 : INFO : EPOCH - 5 : training on 115969 raw words (95473 effective words) took 0.2s, 559584 effective words/s\n",
      "2021-02-19 22:56:55,333 : INFO : worker thread finished; awaiting finish of 2 more threads\n",
      "2021-02-19 22:56:55,345 : INFO : worker thread finished; awaiting finish of 1 more threads\n",
      "2021-02-19 22:56:55,346 : INFO : worker thread finished; awaiting finish of 0 more threads\n",
      "2021-02-19 22:56:55,347 : INFO : EPOCH - 6 : training on 115969 raw words (95662 effective words) took 0.2s, 584550 effective words/s\n",
      "2021-02-19 22:56:55,498 : INFO : worker thread finished; awaiting finish of 2 more threads\n",
      "2021-02-19 22:56:55,509 : INFO : worker thread finished; awaiting finish of 1 more threads\n",
      "2021-02-19 22:56:55,509 : INFO : worker thread finished; awaiting finish of 0 more threads\n",
      "2021-02-19 22:56:55,510 : INFO : EPOCH - 7 : training on 115969 raw words (95453 effective words) took 0.2s, 598953 effective words/s\n",
      "2021-02-19 22:56:55,673 : INFO : worker thread finished; awaiting finish of 2 more threads\n",
      "2021-02-19 22:56:55,682 : INFO : worker thread finished; awaiting finish of 1 more threads\n",
      "2021-02-19 22:56:55,684 : INFO : worker thread finished; awaiting finish of 0 more threads\n",
      "2021-02-19 22:56:55,684 : INFO : EPOCH - 8 : training on 115969 raw words (95567 effective words) took 0.2s, 558282 effective words/s\n",
      "2021-02-19 22:56:55,835 : INFO : worker thread finished; awaiting finish of 2 more threads\n",
      "2021-02-19 22:56:55,845 : INFO : worker thread finished; awaiting finish of 1 more threads\n",
      "2021-02-19 22:56:55,848 : INFO : worker thread finished; awaiting finish of 0 more threads\n",
      "2021-02-19 22:56:55,848 : INFO : EPOCH - 9 : training on 115969 raw words (95497 effective words) took 0.2s, 592457 effective words/s\n",
      "2021-02-19 22:56:56,000 : INFO : worker thread finished; awaiting finish of 2 more threads\n",
      "2021-02-19 22:56:56,012 : INFO : worker thread finished; awaiting finish of 1 more threads\n",
      "2021-02-19 22:56:56,012 : INFO : worker thread finished; awaiting finish of 0 more threads\n",
      "2021-02-19 22:56:56,012 : INFO : EPOCH - 10 : training on 115969 raw words (95520 effective words) took 0.2s, 594315 effective words/s\n",
      "2021-02-19 22:56:56,174 : INFO : worker thread finished; awaiting finish of 2 more threads\n",
      "2021-02-19 22:56:56,181 : INFO : worker thread finished; awaiting finish of 1 more threads\n",
      "2021-02-19 22:56:56,184 : INFO : worker thread finished; awaiting finish of 0 more threads\n",
      "2021-02-19 22:56:56,185 : INFO : EPOCH - 11 : training on 115969 raw words (95554 effective words) took 0.2s, 569569 effective words/s\n",
      "2021-02-19 22:56:56,339 : INFO : worker thread finished; awaiting finish of 2 more threads\n",
      "2021-02-19 22:56:56,346 : INFO : worker thread finished; awaiting finish of 1 more threads\n",
      "2021-02-19 22:56:56,351 : INFO : worker thread finished; awaiting finish of 0 more threads\n",
      "2021-02-19 22:56:56,351 : INFO : EPOCH - 12 : training on 115969 raw words (95495 effective words) took 0.2s, 585019 effective words/s\n",
      "2021-02-19 22:56:56,507 : INFO : worker thread finished; awaiting finish of 2 more threads\n",
      "2021-02-19 22:56:56,512 : INFO : worker thread finished; awaiting finish of 1 more threads\n",
      "2021-02-19 22:56:56,520 : INFO : worker thread finished; awaiting finish of 0 more threads\n",
      "2021-02-19 22:56:56,520 : INFO : EPOCH - 13 : training on 115969 raw words (95536 effective words) took 0.2s, 574716 effective words/s\n",
      "2021-02-19 22:56:56,675 : INFO : worker thread finished; awaiting finish of 2 more threads\n",
      "2021-02-19 22:56:56,683 : INFO : worker thread finished; awaiting finish of 1 more threads\n",
      "2021-02-19 22:56:56,687 : INFO : worker thread finished; awaiting finish of 0 more threads\n",
      "2021-02-19 22:56:56,688 : INFO : EPOCH - 14 : training on 115969 raw words (95522 effective words) took 0.2s, 586217 effective words/s\n",
      "2021-02-19 22:56:56,847 : INFO : worker thread finished; awaiting finish of 2 more threads\n",
      "2021-02-19 22:56:56,854 : INFO : worker thread finished; awaiting finish of 1 more threads\n",
      "2021-02-19 22:56:56,860 : INFO : worker thread finished; awaiting finish of 0 more threads\n",
      "2021-02-19 22:56:56,861 : INFO : EPOCH - 15 : training on 115969 raw words (95722 effective words) took 0.2s, 563104 effective words/s\n"
     ]
    },
    {
     "name": "stderr",
     "output_type": "stream",
     "text": [
      "2021-02-19 22:56:57,021 : INFO : worker thread finished; awaiting finish of 2 more threads\n",
      "2021-02-19 22:56:57,028 : INFO : worker thread finished; awaiting finish of 1 more threads\n",
      "2021-02-19 22:56:57,034 : INFO : worker thread finished; awaiting finish of 0 more threads\n",
      "2021-02-19 22:56:57,034 : INFO : EPOCH - 16 : training on 115969 raw words (95663 effective words) took 0.2s, 566450 effective words/s\n",
      "2021-02-19 22:56:57,190 : INFO : worker thread finished; awaiting finish of 2 more threads\n",
      "2021-02-19 22:56:57,201 : INFO : worker thread finished; awaiting finish of 1 more threads\n",
      "2021-02-19 22:56:57,203 : INFO : worker thread finished; awaiting finish of 0 more threads\n",
      "2021-02-19 22:56:57,204 : INFO : EPOCH - 17 : training on 115969 raw words (95559 effective words) took 0.2s, 577754 effective words/s\n",
      "2021-02-19 22:56:57,360 : INFO : worker thread finished; awaiting finish of 2 more threads\n",
      "2021-02-19 22:56:57,365 : INFO : worker thread finished; awaiting finish of 1 more threads\n",
      "2021-02-19 22:56:57,371 : INFO : worker thread finished; awaiting finish of 0 more threads\n",
      "2021-02-19 22:56:57,371 : INFO : EPOCH - 18 : training on 115969 raw words (95516 effective words) took 0.2s, 580834 effective words/s\n",
      "2021-02-19 22:56:57,519 : INFO : worker thread finished; awaiting finish of 2 more threads\n",
      "2021-02-19 22:56:57,525 : INFO : worker thread finished; awaiting finish of 1 more threads\n",
      "2021-02-19 22:56:57,530 : INFO : worker thread finished; awaiting finish of 0 more threads\n",
      "2021-02-19 22:56:57,530 : INFO : EPOCH - 19 : training on 115969 raw words (95411 effective words) took 0.2s, 613560 effective words/s\n",
      "2021-02-19 22:56:57,692 : INFO : worker thread finished; awaiting finish of 2 more threads\n",
      "2021-02-19 22:56:57,696 : INFO : worker thread finished; awaiting finish of 1 more threads\n",
      "2021-02-19 22:56:57,702 : INFO : worker thread finished; awaiting finish of 0 more threads\n",
      "2021-02-19 22:56:57,702 : INFO : EPOCH - 20 : training on 115969 raw words (95596 effective words) took 0.2s, 567265 effective words/s\n",
      "2021-02-19 22:56:57,703 : INFO : training on a 2319380 raw words (1910798 effective words) took 3.4s, 561961 effective words/s\n"
     ]
    },
    {
     "data": {
      "text/plain": [
       "[(0, -0.0019213697),\n",
       " (1, -0.004106078),\n",
       " (2, -0.0028646353),\n",
       " (3, 0.001140005),\n",
       " (4, 0.002845204),\n",
       " (5, 0.00082793355),\n",
       " (6, 0.0022050699),\n",
       " (7, -3.3529705e-06),\n",
       " (8, 0.0022612617),\n",
       " (9, 0.0025844753),\n",
       " (10, 0.0008105231),\n",
       " (11, -0.0036163835),\n",
       " (12, -0.00439776),\n",
       " (13, -0.0006054907),\n",
       " (14, 0.0013738474),\n",
       " (15, 0.0017882313),\n",
       " (16, -0.00018534577),\n",
       " (17, 0.00020566402),\n",
       " (18, 0.00022947349),\n",
       " (19, 0.00036388924),\n",
       " (20, 0.004048445),\n",
       " (21, -0.003983369),\n",
       " (22, -0.0025260183),\n",
       " (23, -0.003400089),\n",
       " (24, 0.0041524353),\n",
       " (25, 0.00031268262),\n",
       " (26, -0.00062451634),\n",
       " (27, -0.0020408237),\n",
       " (28, -0.0015949851),\n",
       " (29, -0.00014304624),\n",
       " (30, 0.0044405507),\n",
       " (31, 0.0026443126),\n",
       " (32, 0.0022147764),\n",
       " (33, 0.003634851),\n",
       " (34, -0.0021013443),\n",
       " (35, -0.004437364),\n",
       " (36, 0.0044091693),\n",
       " (37, 0.0008734586),\n",
       " (38, -0.00043053512),\n",
       " (39, -0.0041146106),\n",
       " (40, 0.0028440086),\n",
       " (41, -0.00081371865),\n",
       " (42, 0.0035586727),\n",
       " (43, 0.0012667307),\n",
       " (44, 0.0019917127),\n",
       " (45, -0.0035935107),\n",
       " (46, 0.00291651),\n",
       " (47, 0.0029622638),\n",
       " (48, 0.001566332),\n",
       " (49, 0.001625369),\n",
       " (50, -0.003622357),\n",
       " (51, 0.002748902),\n",
       " (52, 0.00039842603),\n",
       " (53, -0.0039832583),\n",
       " (54, -0.004601629),\n",
       " (55, 7.1177106e-05),\n",
       " (56, -0.00015762549),\n",
       " (57, 0.004893059),\n",
       " (58, -0.00031336723),\n",
       " (59, 0.0035510464),\n",
       " (60, -0.0023444581),\n",
       " (61, 0.003719291),\n",
       " (62, -0.0022821499),\n",
       " (63, 0.0037675945),\n",
       " (64, -0.0017015286),\n",
       " (65, 0.0039091944),\n",
       " (66, 0.0046770656),\n",
       " (67, -0.0045547485),\n",
       " (68, 0.00034942085),\n",
       " (69, -0.000718187),\n",
       " (70, 0.0034723585),\n",
       " (71, 0.0011964638),\n",
       " (72, 0.0019776053),\n",
       " (73, -0.0012775793),\n",
       " (74, 0.0035043305),\n",
       " (75, -0.0036986067),\n",
       " (76, 0.0025552409),\n",
       " (77, -0.0022056138),\n",
       " (78, -2.467255e-05),\n",
       " (79, 0.004421894),\n",
       " (80, -0.0016948623),\n",
       " (81, -0.0037840146),\n",
       " (82, -0.0018899948),\n",
       " (83, 0.004303288),\n",
       " (84, 0.0009899999),\n",
       " (85, 0.004775341),\n",
       " (86, -0.0022079942),\n",
       " (87, -0.003934818),\n",
       " (88, 0.002237224),\n",
       " (89, 0.002291296),\n",
       " (90, 0.001483248),\n",
       " (91, 0.00033380583),\n",
       " (92, 0.0008041279),\n",
       " (93, -0.0045283763),\n",
       " (94, 0.00047244216),\n",
       " (95, -0.0042049065),\n",
       " (96, 0.0047380077),\n",
       " (97, -0.004254906),\n",
       " (98, -0.0040891245),\n",
       " (99, -0.0008224773)]"
      ]
     },
     "execution_count": 94,
     "metadata": {},
     "output_type": "execute_result"
    }
   ],
   "source": [
    "# TODO: Implement this! (10 points)\n",
    "class D2VRetrievalModel(VectorSpaceRetrievalModel):\n",
    "    def __init__(self, doc_repr):\n",
    "        super().__init__(doc_repr)\n",
    "        \n",
    "        self.vector_size= 100\n",
    "        self.min_count = 1\n",
    "        self.epochs = 20\n",
    "        \n",
    "        # YOUR CODE HERE\n",
    "        self.taggedDocument = [TaggedDocument(doc, [i]) for i, doc in enumerate(self.documents)]\n",
    "        # raise NotImplementedError()\n",
    "        \n",
    "    def train_model(self):\n",
    "        # YOUR CODE HERE\n",
    "        self.model = Doc2Vec(self.taggedDocument, size=self.vector_size, min_count = self.min_count, epochs=self.epochs)\n",
    "        # raise NotImplementedError()\n",
    "    \n",
    "    def vectorize_documents(self):\n",
    "        \"\"\"\n",
    "            Returns a doc_id -> vector dictionary\n",
    "        \"\"\"\n",
    "        # YOUR CODE HERE\n",
    "        vectors = {}\n",
    "\n",
    "        for (doc_id, _), cc in zip(self.doc_repr, self.taggedDocument):\n",
    "          list1 = self.model.infer_vector(cc[0]) # infer vector for the query\n",
    "          list2 = list(range(self.vector_size))\n",
    "\n",
    "          vectors[doc_id] = list(zip(list2, list1))\n",
    "        return vectors\n",
    "        # raise NotImplementedError()\n",
    "\n",
    "\n",
    "    def vectorize_query(self, query):\n",
    "        # YOUR CODE HERE\n",
    "        query = process_text(query, **config_2)\n",
    "\n",
    "        list1 = self.model.infer_vector(query) # infer vector for the query\n",
    "        list2 = list(range(self.vector_size))\n",
    "        \n",
    "        return list(zip(list2, list1))\n",
    "        # raise NotImplementedError()\n",
    "\n",
    "d2v = D2VRetrievalModel(doc_repr_2)\n",
    "d2v.train_model()\n",
    "\n",
    "\n",
    "# # you can now get an LSI vector for a given query in the following way:\n",
    "d2v.vectorize_query(\"mellifluous\")"
   ]
  },
  {
   "cell_type": "code",
   "execution_count": 95,
   "metadata": {
    "id": "27llPHfSNyaC"
   },
   "outputs": [],
   "source": [
    "#### Please do not change this. This cell is used for grading."
   ]
  },
  {
   "cell_type": "markdown",
   "metadata": {
    "id": "yfkY5-sXNyaC"
   },
   "source": [
    "\\#### Please do not change this. This cell is used for grading."
   ]
  },
  {
   "cell_type": "code",
   "execution_count": 96,
   "metadata": {
    "colab": {
     "base_uri": "https://localhost:8080/",
     "height": 49,
     "referenced_widgets": [
      "9d77db91787642c1885883b271e87e8e",
      "1dc9aeec9c4e41bcb352d45e945489cc",
      "341aa53de823428d86fcb23b8fcfa9a9"
     ]
    },
    "id": "gRmXhn_dNyaC",
    "outputId": "61267b6b-2606-45ee-8e60-b4648cf1973a"
   },
   "outputs": [
    {
     "data": {
      "application/vnd.jupyter.widget-view+json": {
       "model_id": "463f03f20a414106aa29a49316af8f00",
       "version_major": 2,
       "version_minor": 0
      },
      "text/plain": [
       "Text(value='', description='Search Bar')"
      ]
     },
     "metadata": {},
     "output_type": "display_data"
    }
   ],
   "source": [
    "drm_d2v = DenseRetrievalRanker(d2v, cosine_sim)\n",
    "\n",
    "# test your LDA model\n",
    "search_fn = drm_d2v.search\n",
    "\n",
    "text = widgets.Text(description=\"Search Bar\", width=200)\n",
    "display(text)\n",
    "\n",
    "\n",
    "text.on_submit(handle_submit_2)"
   ]
  },
  {
   "cell_type": "markdown",
   "metadata": {
    "id": "QJRW4CoNNyaC"
   },
   "source": [
    "---\n",
    "## Section 9: Re-ranking (10 points) <a class=\"anchor\" id=\"reranking\"></a>\n",
    "\n",
    "[Back to Part 2](#part2)\n",
    "\n",
    "To motivate the re-ranking perspective (i.e retrieve with lexical method + rerank with a semantic method), let's search using semantic methods and compare it to BM25's performance, along with their runtime:\n"
   ]
  },
  {
   "cell_type": "code",
   "execution_count": 97,
   "metadata": {
    "colab": {
     "base_uri": "https://localhost:8080/"
    },
    "id": "TSTVHt4ZNyaC",
    "outputId": "9fdffa3b-e7d9-44bf-d1a3-37d8bb8a7d19"
   },
   "outputs": [
    {
     "name": "stdout",
     "output_type": "stream",
     "text": [
      "BM25: \n",
      "1.01 ms ± 10.8 µs per loop (mean ± std. dev. of 7 runs, 1000 loops each)\n",
      "LSI: \n",
      "265 ms ± 4.45 ms per loop (mean ± std. dev. of 7 runs, 1 loop each)\n",
      "LDA: \n",
      "952 ms ± 13.3 ms per loop (mean ± std. dev. of 7 runs, 1 loop each)\n",
      "W2V: \n",
      "352 ms ± 5.48 ms per loop (mean ± std. dev. of 7 runs, 1 loop each)\n",
      "W2V(Pretrained): \n"
     ]
    },
    {
     "name": "stderr",
     "output_type": "stream",
     "text": [
      "<ipython-input-88-07a28d4b976b>:56: DeprecationWarning: Call to deprecated `wv` (Attribute will be removed in 4.0.0, use self instead).\n",
      "  if wrd in self.model.wv.vocab:\n",
      "<ipython-input-88-07a28d4b976b>:57: DeprecationWarning: Call to deprecated `wv` (Attribute will be removed in 4.0.0, use self instead).\n",
      "  word_array = self.model.wv[wrd] # infer vector for each word\n"
     ]
    },
    {
     "name": "stdout",
     "output_type": "stream",
     "text": [
      "882 ms ± 11.2 ms per loop (mean ± std. dev. of 7 runs, 1 loop each)\n",
      "D2V:\n",
      "356 ms ± 7.89 ms per loop (mean ± std. dev. of 7 runs, 1 loop each)\n"
     ]
    }
   ],
   "source": [
    "query = \"algebraic functions\"\n",
    "print(\"BM25: \")\n",
    "%timeit bm25_search(query, 2)\n",
    "print(\"LSI: \")\n",
    "%timeit drm_lsi.search(query)\n",
    "print(\"LDA: \")\n",
    "%timeit drm_lda.search(query)\n",
    "print(\"W2V: \")\n",
    "%timeit drm_w2v.search(query)\n",
    "print(\"W2V(Pretrained): \")\n",
    "%timeit drm_w2v_pretrained.search(query)\n",
    "print(\"D2V:\")\n",
    "%timeit drm_d2v.search(query)"
   ]
  },
  {
   "cell_type": "markdown",
   "metadata": {
    "id": "c-p1irPYNyaD"
   },
   "source": [
    "---\n",
    "\n",
    "**Implementation (10 points):**\n",
    "Re-ranking involves retrieving a small set of documents using simple but fast methods like BM25 and then re-ranking them with the aid of semantic methods such as LDA or LSI. Implement the following class, which takes in an `initial_retrieval_fn` - the initial retrieval function and `vsrm` - an instance of the `VectorSpaceRetrievalModel` class (i.e LSI/LDA) as input. The search function should first retrieve an initial list of K documents, and then these documents are re-ranked using a semantic method. This not only makes retrieval faster, but semantic methods perform poorly when used in isolation, as you will find out."
   ]
  },
  {
   "cell_type": "code",
   "execution_count": 98,
   "metadata": {
    "id": "zsg8N6uyNyaD"
   },
   "outputs": [],
   "source": [
    "# TODO: Implement this! (10 points)\n",
    "class DenseRerankingModel:\n",
    "    def __init__(self, initial_retrieval_fn, vsrm, similarity_fn):\n",
    "        \"\"\"\n",
    "            initial_retrieval_fn: takes in a query and returns a list of [(doc_id, score)] (sorted)\n",
    "            vsrm: instance of `VectorSpaceRetrievalModel`\n",
    "            similarity_fn: function instance that takes in two vectors \n",
    "                            and returns a similarity score e.g cosine_sim defined earlier\n",
    "        \"\"\"\n",
    "        self.ret = initial_retrieval_fn\n",
    "        self.vsrm = vsrm\n",
    "        self.similarity_fn = similarity_fn\n",
    "        self.vectorized_documents = vsrm.vectorize_documents()\n",
    "        \n",
    "        assert len(self.vectorized_documents) == len(doc_repr_2)\n",
    "    \n",
    "    def search(self, query, K=50):\n",
    "        \"\"\"\n",
    "            First, retrieve the top K results using the retrieval function\n",
    "            Then, re-rank the results using the VSRM instance\n",
    "        \"\"\"\n",
    "        # YOUR CODE HERE\n",
    "\n",
    "        # use BM25 to retrieve the top K results and store in newdict\n",
    "        scores = self.ret(query)\n",
    "        doc_ids = [i[0] for i in scores][0:K]\n",
    "        newdict = {k: self.vectorized_documents[k] for k in doc_ids}\n",
    "\n",
    "\n",
    "        empty_list  = []\n",
    "        query_vector = self.vsrm.vectorize_query(query)\n",
    "        \n",
    "        for key in newdict:\n",
    "          doc_id = key\n",
    "          document_single = newdict.get(key)\n",
    "\n",
    "          if document_single !=[] and query_vector != []:\n",
    "            score = self.similarity_fn(document_single, query_vector) # compute similary between the query vector to each vectorized document\n",
    "            empty_list.append(tuple((doc_id, score)))\n",
    "          else:\n",
    "            score = 0\n",
    "            empty_list.append(tuple((doc_id, score)))\n",
    "\n",
    "        empty_list.sort(key=lambda _:-_[1])\n",
    "        return empty_list\n",
    "        # raise NotImplementedError()"
   ]
  },
  {
   "cell_type": "code",
   "execution_count": 99,
   "metadata": {
    "colab": {
     "base_uri": "https://localhost:8080/"
    },
    "id": "dUBHrJBCNyaD",
    "outputId": "f6008100-7569-4299-fd2c-185892b4e234"
   },
   "outputs": [
    {
     "name": "stderr",
     "output_type": "stream",
     "text": [
      "<ipython-input-88-07a28d4b976b>:31: DeprecationWarning: Call to deprecated `wv` (Attribute will be removed in 4.0.0, use self instead).\n",
      "  if wrd in self.model.wv.vocab:\n",
      "<ipython-input-88-07a28d4b976b>:32: DeprecationWarning: Call to deprecated `wv` (Attribute will be removed in 4.0.0, use self instead).\n",
      "  word_array = self.model.wv[wrd]\n"
     ]
    }
   ],
   "source": [
    "##### Function check\n",
    "bm25_search_2 = partial(bm25_search, index_set=2)\n",
    "lsi_rerank = DenseRerankingModel(bm25_search_2, lsi, cosine_sim)\n",
    "lda_rerank = DenseRerankingModel(bm25_search_2, lda, jenson_shannon_sim)\n",
    "w2v_rerank = DenseRerankingModel(bm25_search_2, w2v, cosine_sim)\n",
    "w2v_pretrained_rerank = DenseRerankingModel(bm25_search_2, w2v_pretrained, cosine_sim)\n",
    "d2v_rerank = DenseRerankingModel(bm25_search_2, d2v, cosine_sim)\n",
    "\n",
    "##### "
   ]
  },
  {
   "cell_type": "markdown",
   "metadata": {
    "id": "fEpQ1PYdNyaD"
   },
   "source": [
    "\\#### Please do not change this. This cell is used for grading."
   ]
  },
  {
   "cell_type": "markdown",
   "metadata": {
    "id": "JmkdBMKhNyaD"
   },
   "source": [
    "---\n",
    "Now, let us time the new search functions:"
   ]
  },
  {
   "cell_type": "code",
   "execution_count": 100,
   "metadata": {
    "colab": {
     "base_uri": "https://localhost:8080/"
    },
    "id": "AFt96b2wNyaD",
    "outputId": "38bccb36-6e1a-4a37-f0eb-5d9bf9ff7168"
   },
   "outputs": [
    {
     "name": "stdout",
     "output_type": "stream",
     "text": [
      "BM25: \n",
      "1.04 ms ± 18 µs per loop (mean ± std. dev. of 7 runs, 1000 loops each)\n",
      "LSI: \n",
      "5.81 ms ± 365 µs per loop (mean ± std. dev. of 7 runs, 100 loops each)\n",
      "LDA: \n",
      "16.5 ms ± 398 µs per loop (mean ± std. dev. of 7 runs, 100 loops each)\n",
      "W2V: \n",
      "7.02 ms ± 1.14 ms per loop (mean ± std. dev. of 7 runs, 100 loops each)\n",
      "W2V(Pretrained): \n"
     ]
    },
    {
     "name": "stderr",
     "output_type": "stream",
     "text": [
      "<ipython-input-88-07a28d4b976b>:56: DeprecationWarning: Call to deprecated `wv` (Attribute will be removed in 4.0.0, use self instead).\n",
      "  if wrd in self.model.wv.vocab:\n",
      "<ipython-input-88-07a28d4b976b>:57: DeprecationWarning: Call to deprecated `wv` (Attribute will be removed in 4.0.0, use self instead).\n",
      "  word_array = self.model.wv[wrd] # infer vector for each word\n"
     ]
    },
    {
     "name": "stdout",
     "output_type": "stream",
     "text": [
      "15 ms ± 212 µs per loop (mean ± std. dev. of 7 runs, 100 loops each)\n",
      "D2V:\n",
      "7.58 ms ± 132 µs per loop (mean ± std. dev. of 7 runs, 100 loops each)\n"
     ]
    }
   ],
   "source": [
    "query = \"algebraic functions\"\n",
    "print(\"BM25: \")\n",
    "%timeit bm25_search(query, 2)\n",
    "print(\"LSI: \")\n",
    "%timeit lsi_rerank.search(query)\n",
    "print(\"LDA: \")\n",
    "%timeit lda_rerank.search(query)\n",
    "print(\"W2V: \")\n",
    "%timeit w2v_rerank.search(query)\n",
    "print(\"W2V(Pretrained): \")\n",
    "%timeit w2v_pretrained_rerank.search(query)\n",
    "print(\"D2V:\")\n",
    "%timeit d2v_rerank.search(query)"
   ]
  },
  {
   "cell_type": "markdown",
   "metadata": {
    "id": "QiQIr-1XNyaE"
   },
   "source": [
    "---\n",
    "As you can see, it is much faster (but BM25 is still orders of magnitude faster)."
   ]
  },
  {
   "cell_type": "markdown",
   "metadata": {
    "id": "5vrx3O6cNyaE"
   },
   "source": [
    "---\n",
    "## Section 10: Evaluation & Analysis (30 points) <a class=\"anchor\" id=\"reranking_eval\"></a>\n",
    "\n",
    "[Back to Part 2](#part2)\n",
    "\n",
    "[Previously](#evaluation) we have implemented some evaluation metrics and used them for measuring the ranking performance of term-based IR algorithms. In this section, we will do the same for semantic methods, both with and without re-ranking.\n",
    "\n",
    "### Section 10.1: Plot (10 points)\n",
    "\n",
    "First, gather the results. The results should consider the index set, the different search functions and different metrics. Plot the results in bar charts, per metric, with clear labels.\n",
    "\n",
    "Then, gather only the re-ranking models, and plot and compare them with the results obtained in part 1 (only index set 2)."
   ]
  },
  {
   "cell_type": "code",
   "execution_count": 101,
   "metadata": {
    "id": "9bXrFDmONyaE"
   },
   "outputs": [],
   "source": [
    "list_of_sem_search_fns = [\n",
    "    (\"lda\", drm_lda.search),\n",
    "    (\"lsi\", drm_lsi.search),\n",
    "    (\"w2v\", drm_w2v.search),\n",
    "    (\"w2v_pretrained\", drm_w2v_pretrained.search),\n",
    "    (\"d2v\", drm_d2v.search),\n",
    "    (\"lsi_rr\", lsi_rerank.search),\n",
    "    (\"lda_rr\", lda_rerank.search),\n",
    "    (\"w2v_rr\", w2v_rerank.search),\n",
    "    (\"w2v_pretrained_rr\", w2v_pretrained_rerank.search),\n",
    "    (\"d2v_rr\", d2v_rerank.search),\n",
    "    \n",
    "]"
   ]
  },
  {
   "cell_type": "code",
   "execution_count": 102,
   "metadata": {
    "colab": {
     "base_uri": "https://localhost:8080/",
     "height": 721
    },
    "id": "M6pJMARcNyaE",
    "outputId": "5b4b4a1d-b9eb-46fc-9f62-a7769bf45678"
   },
   "outputs": [
    {
     "name": "stdout",
     "output_type": "stream",
     "text": [
      "lda\n",
      "lsi\n",
      "w2v\n",
      "w2v_pretrained\n"
     ]
    },
    {
     "name": "stderr",
     "output_type": "stream",
     "text": [
      "<ipython-input-88-07a28d4b976b>:56: DeprecationWarning: Call to deprecated `wv` (Attribute will be removed in 4.0.0, use self instead).\n",
      "  if wrd in self.model.wv.vocab:\n",
      "<ipython-input-88-07a28d4b976b>:57: DeprecationWarning: Call to deprecated `wv` (Attribute will be removed in 4.0.0, use self instead).\n",
      "  word_array = self.model.wv[wrd] # infer vector for each word\n"
     ]
    },
    {
     "name": "stdout",
     "output_type": "stream",
     "text": [
      "d2v\n",
      "lsi_rr\n",
      "lda_rr\n",
      "w2v_rr\n",
      "w2v_pretrained_rr\n",
      "d2v_rr\n"
     ]
    },
    {
     "data": {
      "image/png": "[encoded data removed]",
      "text/plain": [
       "<Figure size 1440x360 with 1 Axes>"
      ]
     },
     "metadata": {
      "needs_background": "light"
     },
     "output_type": "display_data"
    },
    {
     "data": {
      "image/png": "[encoded data removed]",
      "text/plain": [
       "<Figure size 1440x360 with 1 Axes>"
      ]
     },
     "metadata": {
      "needs_background": "light"
     },
     "output_type": "display_data"
    }
   ],
   "source": [
    "# YOUR CODE HERE\n",
    "ERR = {}\n",
    "MAP = {}\n",
    "Precision1 = {}\n",
    "Precision10 = {}\n",
    "Precision5 = {}\n",
    "Recall1 = {}\n",
    "Recall10 = {}\n",
    "Recall5 = {}\n",
    "for x in list_of_sem_search_fns:\n",
    "  print(x[0])\n",
    "  sem_evaluation = evaluate_search_fn(x[1], list_of_metrics)\n",
    "  ERR[x[0]] = sem_evaluation.get('ERR')\n",
    "  MAP[x[0]] = sem_evaluation.get('MAP')\n",
    "  Precision1[x[0]] = sem_evaluation.get('Precision@1')\n",
    "  Precision10[x[0]] = sem_evaluation.get('Precision@10')\n",
    "  Precision5[x[0]] = sem_evaluation.get('Precision@5')\n",
    "  Recall1[x[0]] = sem_evaluation.get('Recall@1')\n",
    "  Recall10[x[0]] = sem_evaluation.get('Recall@10')\n",
    "  Recall5[x[0]] = sem_evaluation.get('Recall@5')\n",
    "\n",
    "\n",
    "# for semantic models\n",
    "labels = ['ERR', 'MAP', 'Precision@1', 'Precision@10', 'Precision@5', 'Recall@1', 'Recall@10', 'Recall@5']\n",
    "\n",
    "lda_list = [ERR.get(\"lda\"), MAP.get(\"lda\"), Precision1.get(\"lda\"), Precision10.get(\"lda\"), Precision5.get(\"lda\"), Recall1.get(\"lda\"), Recall10.get(\"lda\"), Recall5.get(\"lda\")]\n",
    "lsi_list = [ERR.get(\"lsi\"), MAP.get(\"lsi\"), Precision1.get(\"lsi\"), Precision10.get(\"lsi\"), Precision5.get(\"lsi\"), Recall1.get(\"lsi\"), Recall10.get(\"lsi\"), Recall5.get(\"lsi\")]\n",
    "w2v_list = [ERR.get(\"w2v\"), MAP.get(\"w2v\"), Precision1.get(\"w2v\"), Precision10.get(\"w2v\"), Precision5.get(\"w2v\"), Recall1.get(\"w2v\"), Recall10.get(\"w2v\"), Recall5.get(\"w2v\")]\n",
    "w2v_pretrained_list = [ERR.get(\"w2v_pretrained\"), MAP.get(\"w2v_pretrained\"), Precision1.get(\"w2v_pretrained\"), Precision10.get(\"w2v_pretrained\"), Precision5.get(\"w2v_pretrained\"), Recall1.get(\"w2v_pretrained\"), Recall10.get(\"w2v_pretrained\"), Recall5.get(\"w2v_pretrained\")]\n",
    "d2v_list = [ERR.get(\"d2v\"), MAP.get(\"d2v\"), Precision1.get(\"d2v\"), Precision10.get(\"d2v\"), Precision5.get(\"d2v\"), Recall1.get(\"d2v\"), Recall10.get(\"d2v\"), Recall5.get(\"d2v\")]\n",
    "\n",
    "x = np.arange(len(labels))*2  # the label locations\n",
    "\n",
    "width = 0.1  # the width of the bars\n",
    "\n",
    "fig, ax = plt.subplots(figsize=(20,5))\n",
    "ax.bar(x - 2*width, lda_list, width, label='lda')\n",
    "ax.bar(x - 1*width, lsi_list, width, label='lsi')\n",
    "ax.bar(x, w2v_list, width, label='w2v')\n",
    "ax.bar(x + 1*width, w2v_pretrained_list, width, label='w2v_pretrained')\n",
    "ax.bar(x + 2*width, d2v_list, width, label='d2v')\n",
    "\n",
    "# notation\n",
    "ax.set_ylabel('Scores')\n",
    "ax.set_title('Scores by different evaluation metrics for semantic-based models')\n",
    "ax.set_xticks(x)\n",
    "ax.set_xticklabels(labels)\n",
    "ax.legend()\n",
    "\n",
    "fig.tight_layout()\n",
    "\n",
    "plt.show()\n",
    "\n",
    "\n",
    "# for rerank models\n",
    "labels = ['ERR', 'MAP', 'Precision@1', 'Precision@10', 'Precision@5', 'Recall@1', 'Recall@10', 'Recall@5']\n",
    "\n",
    "lsi_rr_list = [ERR.get(\"lsi_rr\"), MAP.get(\"lsi_rr\"), Precision1.get(\"lsi_rr\"), Precision10.get(\"lsi_rr\"), Precision5.get(\"lsi_rr\"), Recall1.get(\"lsi_rr\"), Recall10.get(\"lsi_rr\"), Recall5.get(\"lsi_rr\")]\n",
    "lda_rr_list = [ERR.get(\"lda_rr\"), MAP.get(\"lda_rr\"), Precision1.get(\"lda_rr\"), Precision10.get(\"lda_rr\"), Precision5.get(\"lda_rr\"), Recall1.get(\"lda_rr\"), Recall10.get(\"lda_rr\"), Recall5.get(\"lda_rr\")]\n",
    "w2v_rr_list = [ERR.get(\"w2v_rr\"), MAP.get(\"w2v_rr\"), Precision1.get(\"w2v_rr\"), Precision10.get(\"w2v_rr\"), Precision5.get(\"w2v_rr\"), Recall1.get(\"w2v_rr\"), Recall10.get(\"w2v_rr\"), Recall5.get(\"w2v_rr\")]\n",
    "w2v_pretrained_rr_list = [ERR.get(\"w2v_pretrained_rr\"), MAP.get(\"w2v_pretrained_rr\"), Precision1.get(\"w2v_pretrained_rr\"), Precision10.get(\"w2v_pretrained_rr\"), Precision5.get(\"w2v_pretrained_rr\"), Recall1.get(\"w2v_pretrained_rr\"), Recall10.get(\"w2v_pretrained_rr\"), Recall5.get(\"w2v_pretrained_rr\")]\n",
    "d2v_rr_list = [ERR.get(\"d2v_rr\"), MAP.get(\"d2v_rr\"), Precision1.get(\"d2v_rr\"), Precision10.get(\"d2v_rr\"), Precision5.get(\"d2v_rr\"), Recall1.get(\"d2v_rr\"), Recall10.get(\"d2v_rr\"), Recall5.get(\"d2v_rr\")]\n",
    "\n",
    "x = np.arange(len(labels))*2  # the label locations\n",
    "\n",
    "width = 0.1  # the width of the bars\n",
    "\n",
    "fig, ax = plt.subplots(figsize=(20,5))\n",
    "\n",
    "ax.bar(x - 2*width, lda_rr_list, width, label='lda_rr')\n",
    "ax.bar(x - 1*width, lsi_rr_list, width, label='lsi_rr')\n",
    "ax.bar(x, w2v_rr_list, width, label='w2v_rr')\n",
    "ax.bar(x + 1*width, w2v_pretrained_rr_list, width, label='w2v_pretrained_rr')\n",
    "ax.bar(x + 2*width, d2v_rr_list, width, label='d2v_rr')\n",
    "\n",
    "# notation\n",
    "ax.set_ylabel('Scores')\n",
    "ax.set_title('Scores by different evaluation metrics for reranked semantic-based models')\n",
    "ax.set_xticks(x)\n",
    "ax.set_xticklabels(labels)\n",
    "ax.legend()\n",
    "\n",
    "fig.tight_layout()\n",
    "\n",
    "plt.show()\n",
    "\n",
    "# raise NotImplementedError()"
   ]
  },
  {
   "cell_type": "markdown",
   "metadata": {
    "id": "3OWfurNWylTE"
   },
   "source": []
  },
  {
   "cell_type": "markdown",
   "metadata": {
    "id": "ZopvRuXsNyaE"
   },
   "source": [
    "### Section 10.2: Summary (20 points)\n",
    "\n",
    "Your summary should compare methods from Part 1 and Part 2 (only for index set 2). State what you expected to see in the results, followed by either supporting evidence *or* justify why the results did not support your expectations. Consider the availability of data, scalability, domain/type of data, etc."
   ]
  },
  {
   "cell_type": "markdown",
   "metadata": {
    "id": "cpm8tP9dNyaE"
   },
   "source": [
    "YOUR ANSWER HERE\n",
    "\n",
    "\n",
    "In general, most of the techniques in part one perform better than those in part two regarding performance metrics. It is also remarkable that all the semantic models' performance grows in metrics after re-ranking with a lexical method. Although we assumed the semantic-based methods would outperform all the term-based techniques, it is not observed in the result. \n",
    "\n",
    "To begin with, term-based retrieval techniques can be implemented swiftly in many IR scenarios with limited data and efficiency. However, these techniques might not perform well when dealing with terms never seen before. In addition, because of the vocabulary mismatch problem, term-based techniques are deemed to produce more inferior results regarding relevance [1]. On the other hand, semantic-based techniques are more likely to handle these problems well. Instead of matching the exact terms, they focus on the inherent probabilistic and mathematical relationship in the language. This is why we assumed that the techniques in part two would be more potent at the beginning. \n",
    "\n",
    "The first reason why BM25 outbeats the semantic models even after re-ranking could be attributed to document collection. In the scenario of general collection, most of the term-based techniques seem robust enough to handle most of the general queries. Conversely, if the document collection comes from a more sophisticated field, such as medical search, where there are many ambiguous words and rich terms in certain topics, semantic models may be more beneficial. Another potential reason could be the lack of hyper-parameter tuning. Most of the semantic models require iterative experiments in optimizing hyper-parameters. As the values are given and fixed in the exercise, the performance might be limited even after re-ranking. For instance, the α and β in LDA impact the topic modeling results. While a more considerable value of β would lead to a relatively small number of topics, such as scientific disciplines, a smaller value of β would end up finding more topics that fit specific research areas [2]. \n",
    "\n",
    "Besides, there are also some remarkable findings comparing the techniques in part two. First, we notice that the LSI is better than LDA in most of the evaluation metrics. In the aspect of computation, LSI is more scalable than LDA, since the running time per loop of the former is shorter than the latter’s one. In most of the evaluation metrics, LDA is outbeated by LDA except Precision@1, which could merely be a bias due to collection. \n",
    "\n",
    "Another finding is that the performance of word2vec is found the worst compared to other models. In our practice of word2vec, as Average Word Embeddings (AWE) is applied, the query and the relevant documents might be far in latent space especially with a small dataset. Also, the long documents might deviate from the original semantics and end up meaningless. Therefore we can see a remarkable improvement when the word2vec is pre-trained on a large google dataset, which helps in generalization.  \n",
    "\n",
    "The third finding is that doc2vec is noted to be more robust than word2vec. Both of them compare the similarity between queries and documents. While the former finds the vector for both the text and the certain tags of text, the latter simply embeds words in a lower-dimensional vector space. Since in doc2vec, paragraph vectors can learn feature representations from sentences, paragraphs, and documents, it yields more relevant results by seeing the relationships between documents but not just words[3]. \n",
    "\n",
    "Lastly, an improvement in both efficiency and effectiveness is observed after re-ranking with BM25. The re-ranking method selects the top 50 relevant documents, before the documents are sorted based on semantic models, which improves efficiency when implementing computationally expensive models. As a drop in running time can be seen for all the semantic models. To illustrate, for LDA, the running time declines from 1.4s to 25ms after re-ranking. \n",
    "\n",
    "In conclusion, while the semantic-based models are expected to be more robust at first, they are all exceeded by BM25 in evaluation metrics experimentally. Structure is one of the most valuable aspects of Semantic Web documents, as this structure enables us to represent semantics in a machine-readable format. BM25 is based on the probabilistic retrieval framework -- the BM25 score is determined on the basis of two key components: TF and IDF. However, there are several methods for normalizing the length of the document and meeting the concavity restriction of the term frequency (e.g., considering the logarithmic TF we used in part 1). On the basis of these heuristic approaches, BM25 also achieves greater efficiency compared to other methods. However for BM25 there is a major downside:  it is a pure heuristic model. Thus the extension of this structure is therefore restricted. This is why the research in semantic based methods becomes popular as these models are based on probabilistic distributions and thus very extendable.\n",
    "\n",
    "We noticed that although semantic-based models are more extendable, it does not outperform BM25 in the experimental results. The first reason could be the lack of hyper-parameter tuning. Most of the semantic models require experiments in optimizing the hyper-parameters, such as grid search or other methods. As the values are given and fixed in the exercise, the performance might be relatively limited even after reranking. Another reason might be attributed to the training data. If the training data are not representable enough, underfitting can be easily observed. For example, the Word2Vec method uses a pertained model in our practice, where the words might have a different distribution from the query.\n",
    ". \n",
    "\n",
    "**Reference:**\n",
    "\n",
    "\n",
    "Croft, W. B., Metzler, D., & Strohman, T. (2010). Search engines: Information retrieval in practice. Boston: Addison-Wesley.\n",
    "\n",
    "\n",
    "Griffiths, T. L., & Steyvers, M. (2004). Finding scientific topics. Proceedings of the National Academy of Sciences, 101(Supplement 1), 5228-5235. doi:10.1073/pnas.0307752101\n",
    "\n",
    "\n",
    "Le, Q., & Mikolov, T. (2014, June). Distributed representations of sentences and documents. In International conference on machine learning (pp. 1188-1196). PMLR.\n"
   ]
  }
 ],
 "metadata": {
  "colab": {
   "collapsed_sections": [],
   "name": "12341234_12341234_12341234.ipynb",
   "provenance": []
  },
  "kernelspec": {
   "display_name": "Python 3",
   "language": "python",
   "name": "python3"
  },
  "language_info": {
   "codemirror_mode": {
    "name": "ipython",
    "version": 3
   },
   "file_extension": ".py",
   "mimetype": "text/x-python",
   "name": "python",
   "nbconvert_exporter": "python",
   "pygments_lexer": "ipython3",
   "version": "3.8.5"
  },
  "widgets": {
   "application/vnd.jupyter.widget-state+json": {
    "01458fb095424240baee28c6b347555c": {
     "model_module": "@jupyter-widgets/controls",
     "model_name": "TextModel",
     "state": {
      "_dom_classes": [],
      "_model_module": "@jupyter-widgets/controls",
      "_model_module_version": "1.5.0",
      "_model_name": "TextModel",
      "_view_count": null,
      "_view_module": "@jupyter-widgets/controls",
      "_view_module_version": "1.5.0",
      "_view_name": "TextView",
      "continuous_update": true,
      "description": "Search Bar",
      "description_tooltip": null,
      "disabled": false,
      "layout": "IPY_MODEL_33dc764cdf144f79bd8d3ef202ff79bd",
      "placeholder": "​",
      "style": "IPY_MODEL_ac7ec29c04f64e2f962476650c3c4e68",
      "value": ""
     }
    },
    "1dc9aeec9c4e41bcb352d45e945489cc": {
     "model_module": "@jupyter-widgets/controls",
     "model_name": "DescriptionStyleModel",
     "state": {
      "_model_module": "@jupyter-widgets/controls",
      "_model_module_version": "1.5.0",
      "_model_name": "DescriptionStyleModel",
      "_view_count": null,
      "_view_module": "@jupyter-widgets/base",
      "_view_module_version": "1.2.0",
      "_view_name": "StyleView",
      "description_width": ""
     }
    },
    "33dc764cdf144f79bd8d3ef202ff79bd": {
     "model_module": "@jupyter-widgets/base",
     "model_name": "LayoutModel",
     "state": {
      "_model_module": "@jupyter-widgets/base",
      "_model_module_version": "1.2.0",
      "_model_name": "LayoutModel",
      "_view_count": null,
      "_view_module": "@jupyter-widgets/base",
      "_view_module_version": "1.2.0",
      "_view_name": "LayoutView",
      "align_content": null,
      "align_items": null,
      "align_self": null,
      "border": null,
      "bottom": null,
      "display": null,
      "flex": null,
      "flex_flow": null,
      "grid_area": null,
      "grid_auto_columns": null,
      "grid_auto_flow": null,
      "grid_auto_rows": null,
      "grid_column": null,
      "grid_gap": null,
      "grid_row": null,
      "grid_template_areas": null,
      "grid_template_columns": null,
      "grid_template_rows": null,
      "height": null,
      "justify_content": null,
      "justify_items": null,
      "left": null,
      "margin": null,
      "max_height": null,
      "max_width": null,
      "min_height": null,
      "min_width": null,
      "object_fit": null,
      "object_position": null,
      "order": null,
      "overflow": null,
      "overflow_x": null,
      "overflow_y": null,
      "padding": null,
      "right": null,
      "top": null,
      "visibility": null,
      "width": null
     }
    },
    "341aa53de823428d86fcb23b8fcfa9a9": {
     "model_module": "@jupyter-widgets/base",
     "model_name": "LayoutModel",
     "state": {
      "_model_module": "@jupyter-widgets/base",
      "_model_module_version": "1.2.0",
      "_model_name": "LayoutModel",
      "_view_count": null,
      "_view_module": "@jupyter-widgets/base",
      "_view_module_version": "1.2.0",
      "_view_name": "LayoutView",
      "align_content": null,
      "align_items": null,
      "align_self": null,
      "border": null,
      "bottom": null,
      "display": null,
      "flex": null,
      "flex_flow": null,
      "grid_area": null,
      "grid_auto_columns": null,
      "grid_auto_flow": null,
      "grid_auto_rows": null,
      "grid_column": null,
      "grid_gap": null,
      "grid_row": null,
      "grid_template_areas": null,
      "grid_template_columns": null,
      "grid_template_rows": null,
      "height": null,
      "justify_content": null,
      "justify_items": null,
      "left": null,
      "margin": null,
      "max_height": null,
      "max_width": null,
      "min_height": null,
      "min_width": null,
      "object_fit": null,
      "object_position": null,
      "order": null,
      "overflow": null,
      "overflow_x": null,
      "overflow_y": null,
      "padding": null,
      "right": null,
      "top": null,
      "visibility": null,
      "width": null
     }
    },
    "4ec6170bbcae48dc8c41adba6f85f5da": {
     "model_module": "@jupyter-widgets/base",
     "model_name": "LayoutModel",
     "state": {
      "_model_module": "@jupyter-widgets/base",
      "_model_module_version": "1.2.0",
      "_model_name": "LayoutModel",
      "_view_count": null,
      "_view_module": "@jupyter-widgets/base",
      "_view_module_version": "1.2.0",
      "_view_name": "LayoutView",
      "align_content": null,
      "align_items": null,
      "align_self": null,
      "border": null,
      "bottom": null,
      "display": null,
      "flex": null,
      "flex_flow": null,
      "grid_area": null,
      "grid_auto_columns": null,
      "grid_auto_flow": null,
      "grid_auto_rows": null,
      "grid_column": null,
      "grid_gap": null,
      "grid_row": null,
      "grid_template_areas": null,
      "grid_template_columns": null,
      "grid_template_rows": null,
      "height": null,
      "justify_content": null,
      "justify_items": null,
      "left": null,
      "margin": null,
      "max_height": null,
      "max_width": null,
      "min_height": null,
      "min_width": null,
      "object_fit": null,
      "object_position": null,
      "order": null,
      "overflow": null,
      "overflow_x": null,
      "overflow_y": null,
      "padding": null,
      "right": null,
      "top": null,
      "visibility": null,
      "width": null
     }
    },
    "56084253838740e2b8c958a439e997c6": {
     "model_module": "@jupyter-widgets/controls",
     "model_name": "TextModel",
     "state": {
      "_dom_classes": [],
      "_model_module": "@jupyter-widgets/controls",
      "_model_module_version": "1.5.0",
      "_model_name": "TextModel",
      "_view_count": null,
      "_view_module": "@jupyter-widgets/controls",
      "_view_module_version": "1.5.0",
      "_view_name": "TextView",
      "continuous_update": true,
      "description": "Search Bar",
      "description_tooltip": null,
      "disabled": false,
      "layout": "IPY_MODEL_4ec6170bbcae48dc8c41adba6f85f5da",
      "placeholder": "​",
      "style": "IPY_MODEL_5a95c4a6dbe24f91b2c5b7a65376b590",
      "value": ""
     }
    },
    "5a95c4a6dbe24f91b2c5b7a65376b590": {
     "model_module": "@jupyter-widgets/controls",
     "model_name": "DescriptionStyleModel",
     "state": {
      "_model_module": "@jupyter-widgets/controls",
      "_model_module_version": "1.5.0",
      "_model_name": "DescriptionStyleModel",
      "_view_count": null,
      "_view_module": "@jupyter-widgets/base",
      "_view_module_version": "1.2.0",
      "_view_name": "StyleView",
      "description_width": ""
     }
    },
    "5ba4d8180cf1497d8978117ac7322416": {
     "model_module": "@jupyter-widgets/controls",
     "model_name": "TextModel",
     "state": {
      "_dom_classes": [],
      "_model_module": "@jupyter-widgets/controls",
      "_model_module_version": "1.5.0",
      "_model_name": "TextModel",
      "_view_count": null,
      "_view_module": "@jupyter-widgets/controls",
      "_view_module_version": "1.5.0",
      "_view_name": "TextView",
      "continuous_update": true,
      "description": "Search Bar",
      "description_tooltip": null,
      "disabled": false,
      "layout": "IPY_MODEL_73825775b25443b0bcab415fd3fcf5aa",
      "placeholder": "​",
      "style": "IPY_MODEL_e9537ba0a1184f7882569dd56d62558a",
      "value": ""
     }
    },
    "65273a2b291a4fbd83e1c4e49b69c6ad": {
     "model_module": "@jupyter-widgets/controls",
     "model_name": "TextModel",
     "state": {
      "_dom_classes": [],
      "_model_module": "@jupyter-widgets/controls",
      "_model_module_version": "1.5.0",
      "_model_name": "TextModel",
      "_view_count": null,
      "_view_module": "@jupyter-widgets/controls",
      "_view_module_version": "1.5.0",
      "_view_name": "TextView",
      "continuous_update": true,
      "description": "Search Bar",
      "description_tooltip": null,
      "disabled": false,
      "layout": "IPY_MODEL_d9e360a58de04912b700c6d3db9eb043",
      "placeholder": "​",
      "style": "IPY_MODEL_e303d1549f674c03905a4cc1dd8d5de9",
      "value": ""
     }
    },
    "6f4ba93864434d0c84f6c3852f416564": {
     "model_module": "@jupyter-widgets/base",
     "model_name": "LayoutModel",
     "state": {
      "_model_module": "@jupyter-widgets/base",
      "_model_module_version": "1.2.0",
      "_model_name": "LayoutModel",
      "_view_count": null,
      "_view_module": "@jupyter-widgets/base",
      "_view_module_version": "1.2.0",
      "_view_name": "LayoutView",
      "align_content": null,
      "align_items": null,
      "align_self": null,
      "border": null,
      "bottom": null,
      "display": null,
      "flex": null,
      "flex_flow": null,
      "grid_area": null,
      "grid_auto_columns": null,
      "grid_auto_flow": null,
      "grid_auto_rows": null,
      "grid_column": null,
      "grid_gap": null,
      "grid_row": null,
      "grid_template_areas": null,
      "grid_template_columns": null,
      "grid_template_rows": null,
      "height": null,
      "justify_content": null,
      "justify_items": null,
      "left": null,
      "margin": null,
      "max_height": null,
      "max_width": null,
      "min_height": null,
      "min_width": null,
      "object_fit": null,
      "object_position": null,
      "order": null,
      "overflow": null,
      "overflow_x": null,
      "overflow_y": null,
      "padding": null,
      "right": null,
      "top": null,
      "visibility": null,
      "width": null
     }
    },
    "73825775b25443b0bcab415fd3fcf5aa": {
     "model_module": "@jupyter-widgets/base",
     "model_name": "LayoutModel",
     "state": {
      "_model_module": "@jupyter-widgets/base",
      "_model_module_version": "1.2.0",
      "_model_name": "LayoutModel",
      "_view_count": null,
      "_view_module": "@jupyter-widgets/base",
      "_view_module_version": "1.2.0",
      "_view_name": "LayoutView",
      "align_content": null,
      "align_items": null,
      "align_self": null,
      "border": null,
      "bottom": null,
      "display": null,
      "flex": null,
      "flex_flow": null,
      "grid_area": null,
      "grid_auto_columns": null,
      "grid_auto_flow": null,
      "grid_auto_rows": null,
      "grid_column": null,
      "grid_gap": null,
      "grid_row": null,
      "grid_template_areas": null,
      "grid_template_columns": null,
      "grid_template_rows": null,
      "height": null,
      "justify_content": null,
      "justify_items": null,
      "left": null,
      "margin": null,
      "max_height": null,
      "max_width": null,
      "min_height": null,
      "min_width": null,
      "object_fit": null,
      "object_position": null,
      "order": null,
      "overflow": null,
      "overflow_x": null,
      "overflow_y": null,
      "padding": null,
      "right": null,
      "top": null,
      "visibility": null,
      "width": null
     }
    },
    "9d77db91787642c1885883b271e87e8e": {
     "model_module": "@jupyter-widgets/controls",
     "model_name": "TextModel",
     "state": {
      "_dom_classes": [],
      "_model_module": "@jupyter-widgets/controls",
      "_model_module_version": "1.5.0",
      "_model_name": "TextModel",
      "_view_count": null,
      "_view_module": "@jupyter-widgets/controls",
      "_view_module_version": "1.5.0",
      "_view_name": "TextView",
      "continuous_update": true,
      "description": "Search Bar",
      "description_tooltip": null,
      "disabled": false,
      "layout": "IPY_MODEL_341aa53de823428d86fcb23b8fcfa9a9",
      "placeholder": "​",
      "style": "IPY_MODEL_1dc9aeec9c4e41bcb352d45e945489cc",
      "value": ""
     }
    },
    "a479afdff19e4f35be231aa9a3bc736c": {
     "model_module": "@jupyter-widgets/controls",
     "model_name": "TextModel",
     "state": {
      "_dom_classes": [],
      "_model_module": "@jupyter-widgets/controls",
      "_model_module_version": "1.5.0",
      "_model_name": "TextModel",
      "_view_count": null,
      "_view_module": "@jupyter-widgets/controls",
      "_view_module_version": "1.5.0",
      "_view_name": "TextView",
      "continuous_update": true,
      "description": "Search Bar",
      "description_tooltip": null,
      "disabled": false,
      "layout": "IPY_MODEL_6f4ba93864434d0c84f6c3852f416564",
      "placeholder": "​",
      "style": "IPY_MODEL_dd1b24f4e41d42b3890c0612460caeb8",
      "value": ""
     }
    },
    "ac7ec29c04f64e2f962476650c3c4e68": {
     "model_module": "@jupyter-widgets/controls",
     "model_name": "DescriptionStyleModel",
     "state": {
      "_model_module": "@jupyter-widgets/controls",
      "_model_module_version": "1.5.0",
      "_model_name": "DescriptionStyleModel",
      "_view_count": null,
      "_view_module": "@jupyter-widgets/base",
      "_view_module_version": "1.2.0",
      "_view_name": "StyleView",
      "description_width": ""
     }
    },
    "d9e360a58de04912b700c6d3db9eb043": {
     "model_module": "@jupyter-widgets/base",
     "model_name": "LayoutModel",
     "state": {
      "_model_module": "@jupyter-widgets/base",
      "_model_module_version": "1.2.0",
      "_model_name": "LayoutModel",
      "_view_count": null,
      "_view_module": "@jupyter-widgets/base",
      "_view_module_version": "1.2.0",
      "_view_name": "LayoutView",
      "align_content": null,
      "align_items": null,
      "align_self": null,
      "border": null,
      "bottom": null,
      "display": null,
      "flex": null,
      "flex_flow": null,
      "grid_area": null,
      "grid_auto_columns": null,
      "grid_auto_flow": null,
      "grid_auto_rows": null,
      "grid_column": null,
      "grid_gap": null,
      "grid_row": null,
      "grid_template_areas": null,
      "grid_template_columns": null,
      "grid_template_rows": null,
      "height": null,
      "justify_content": null,
      "justify_items": null,
      "left": null,
      "margin": null,
      "max_height": null,
      "max_width": null,
      "min_height": null,
      "min_width": null,
      "object_fit": null,
      "object_position": null,
      "order": null,
      "overflow": null,
      "overflow_x": null,
      "overflow_y": null,
      "padding": null,
      "right": null,
      "top": null,
      "visibility": null,
      "width": null
     }
    },
    "dd1b24f4e41d42b3890c0612460caeb8": {
     "model_module": "@jupyter-widgets/controls",
     "model_name": "DescriptionStyleModel",
     "state": {
      "_model_module": "@jupyter-widgets/controls",
      "_model_module_version": "1.5.0",
      "_model_name": "DescriptionStyleModel",
      "_view_count": null,
      "_view_module": "@jupyter-widgets/base",
      "_view_module_version": "1.2.0",
      "_view_name": "StyleView",
      "description_width": ""
     }
    },
    "e303d1549f674c03905a4cc1dd8d5de9": {
     "model_module": "@jupyter-widgets/controls",
     "model_name": "DescriptionStyleModel",
     "state": {
      "_model_module": "@jupyter-widgets/controls",
      "_model_module_version": "1.5.0",
      "_model_name": "DescriptionStyleModel",
      "_view_count": null,
      "_view_module": "@jupyter-widgets/base",
      "_view_module_version": "1.2.0",
      "_view_name": "StyleView",
      "description_width": ""
     }
    },
    "e9537ba0a1184f7882569dd56d62558a": {
     "model_module": "@jupyter-widgets/controls",
     "model_name": "DescriptionStyleModel",
     "state": {
      "_model_module": "@jupyter-widgets/controls",
      "_model_module_version": "1.5.0",
      "_model_name": "DescriptionStyleModel",
      "_view_count": null,
      "_view_module": "@jupyter-widgets/base",
      "_view_module_version": "1.2.0",
      "_view_name": "StyleView",
      "description_width": ""
     }
    }
   }
  }
 },
 "nbformat": 4,
 "nbformat_minor": 1
}
